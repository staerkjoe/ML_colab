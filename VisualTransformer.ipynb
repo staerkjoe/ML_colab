{
  "nbformat": 4,
  "nbformat_minor": 0,
  "metadata": {
    "colab": {
      "provenance": [],
      "gpuType": "T4",
      "authorship_tag": "ABX9TyO8F0zUQkaW6sTMKYFYmETH",
      "include_colab_link": true
    },
    "kernelspec": {
      "name": "python3",
      "display_name": "Python 3"
    },
    "language_info": {
      "name": "python"
    },
    "accelerator": "GPU"
  },
  "cells": [
    {
      "cell_type": "markdown",
      "metadata": {
        "id": "view-in-github",
        "colab_type": "text"
      },
      "source": [
        "<a href=\"https://colab.research.google.com/github/staerkjoe/ML_colab/blob/main/VisualTransformer.ipynb\" target=\"_parent\"><img src=\"https://colab.research.google.com/assets/colab-badge.svg\" alt=\"Open In Colab\"/></a>"
      ]
    },
    {
      "cell_type": "markdown",
      "source": [
        "CIFAR-10 images are 32×32, but ViTs expect 224×224,\n",
        "\n",
        "We also normalize with ImageNet stats (since ViTs are usually pretrained on ImageNet)."
      ],
      "metadata": {
        "id": "hfpCVKen4Do-"
      }
    },
    {
      "cell_type": "code",
      "execution_count": null,
      "metadata": {
        "id": "kHYyM7bS1-BS"
      },
      "outputs": [],
      "source": [
        "import torch\n",
        "import torchvision\n",
        "import torchvision.transforms as transforms\n",
        "from torch.utils.data import DataLoader\n",
        "\n",
        "# Preprocessing: resize to 224x224, convert to tensor, normalize\n",
        "transform = transforms.Compose([\n",
        "    transforms.Resize((224, 224)),     # ViT expects larger images (pretrained on ImageNet 224x224)\n",
        "    transforms.ToTensor(),             # convert PIL → tensor\n",
        "    transforms.Normalize(mean=[0.485, 0.456, 0.406], std=[0.229, 0.224, 0.225]) # represent the average and spread of pixel intensities across the ImageNet dataset\n",
        "])\n",
        "\n",
        "# Load CIFAR-10 dataset\n",
        "train_dataset = torchvision.datasets.CIFAR10(root='./data', train=True,\n",
        "                                             download=True, transform=transform)\n",
        "test_dataset = torchvision.datasets.CIFAR10(root='./data', train=False,\n",
        "                                            download=True, transform=transform)\n",
        "\n",
        "# Data loaders\n",
        "train_loader = DataLoader(train_dataset, batch_size=16, shuffle=True) # smaller batch size for faster training\n",
        "test_loader = DataLoader(test_dataset, batch_size=16, shuffle=False)\n",
        "\n"
      ]
    },
    {
      "cell_type": "markdown",
      "source": [
        "Hugging Face Transformers library\n",
        "\n",
        "Why:\n",
        "- Pretrained weights let us leverage ImageNet knowledge.\n",
        "- We replace the classification head to output 10 classes instead of 1000."
      ],
      "metadata": {
        "id": "w-xyJ87m4alV"
      }
    },
    {
      "cell_type": "code",
      "source": [
        "from transformers import ViTForImageClassification, ViTFeatureExtractor\n",
        "\n",
        "# Load pretrained ViT (base model, patch size 16, pretrained on ImageNet-21k)\n",
        "model = ViTForImageClassification.from_pretrained(\n",
        "    \"WinKawaks/vit-tiny-patch16-224\",\n",
        "    num_labels=10,   # CIFAR-10 has 10 classes\n",
        "    ignore_mismatched_sizes=True\n",
        ")\n",
        "# more spped in traning\n",
        "model.vit.encoder.layer = model.vit.encoder.layer[:6] # keep only the first 6 layers instead of all 12 for more speed in training (forward pass)\n"
      ],
      "metadata": {
        "colab": {
          "base_uri": "https://localhost:8080/"
        },
        "id": "cougviq94TlD",
        "outputId": "7dfa7076-3f2c-4d60-d17f-feef52339ec4"
      },
      "execution_count": null,
      "outputs": [
        {
          "output_type": "stream",
          "name": "stderr",
          "text": [
            "Some weights of ViTForImageClassification were not initialized from the model checkpoint at WinKawaks/vit-tiny-patch16-224 and are newly initialized because the shapes did not match:\n",
            "- classifier.bias: found shape torch.Size([1000]) in the checkpoint and torch.Size([10]) in the model instantiated\n",
            "- classifier.weight: found shape torch.Size([1000, 192]) in the checkpoint and torch.Size([10, 192]) in the model instantiated\n",
            "You should probably TRAIN this model on a down-stream task to be able to use it for predictions and inference.\n"
          ]
        }
      ]
    },
    {
      "cell_type": "code",
      "source": [
        "print(model)"
      ],
      "metadata": {
        "colab": {
          "base_uri": "https://localhost:8080/"
        },
        "id": "fu745_LdsB9k",
        "outputId": "e2d05f3a-8053-4fb5-a80d-dc4b17bc5846"
      },
      "execution_count": null,
      "outputs": [
        {
          "output_type": "stream",
          "name": "stdout",
          "text": [
            "ViTForImageClassification(\n",
            "  (vit): ViTModel(\n",
            "    (embeddings): ViTEmbeddings(\n",
            "      (patch_embeddings): ViTPatchEmbeddings(\n",
            "        (projection): Conv2d(3, 192, kernel_size=(16, 16), stride=(16, 16))\n",
            "      )\n",
            "      (dropout): Dropout(p=0.0, inplace=False)\n",
            "    )\n",
            "    (encoder): ViTEncoder(\n",
            "      (layer): ModuleList(\n",
            "        (0-5): 6 x ViTLayer(\n",
            "          (attention): ViTAttention(\n",
            "            (attention): ViTSelfAttention(\n",
            "              (query): Linear(in_features=192, out_features=192, bias=True)\n",
            "              (key): Linear(in_features=192, out_features=192, bias=True)\n",
            "              (value): Linear(in_features=192, out_features=192, bias=True)\n",
            "            )\n",
            "            (output): ViTSelfOutput(\n",
            "              (dense): Linear(in_features=192, out_features=192, bias=True)\n",
            "              (dropout): Dropout(p=0.0, inplace=False)\n",
            "            )\n",
            "          )\n",
            "          (intermediate): ViTIntermediate(\n",
            "            (dense): Linear(in_features=192, out_features=768, bias=True)\n",
            "            (intermediate_act_fn): GELUActivation()\n",
            "          )\n",
            "          (output): ViTOutput(\n",
            "            (dense): Linear(in_features=768, out_features=192, bias=True)\n",
            "            (dropout): Dropout(p=0.0, inplace=False)\n",
            "          )\n",
            "          (layernorm_before): LayerNorm((192,), eps=1e-12, elementwise_affine=True)\n",
            "          (layernorm_after): LayerNorm((192,), eps=1e-12, elementwise_affine=True)\n",
            "        )\n",
            "      )\n",
            "    )\n",
            "    (layernorm): LayerNorm((192,), eps=1e-12, elementwise_affine=True)\n",
            "  )\n",
            "  (classifier): Linear(in_features=192, out_features=10, bias=True)\n",
            ")\n"
          ]
        }
      ]
    },
    {
      "cell_type": "markdown",
      "source": [
        "This is essentially a trade-off:\n",
        "- Full depth → better accuracy, slower training.\n",
        "- Reduced depth → faster training, but maybe lower accuracy."
      ],
      "metadata": {
        "id": "2IWVO3iAowxS"
      }
    },
    {
      "cell_type": "code",
      "source": [
        "# Freeze all layers except classification head for backprop\n",
        "for param in model.vit.parameters():\n",
        "    param.requires_grad = False"
      ],
      "metadata": {
        "id": "QejjSgEi4g1K"
      },
      "execution_count": null,
      "outputs": []
    },
    {
      "cell_type": "code",
      "source": [
        "from torch.optim import AdamW\n",
        "from torch.optim.lr_scheduler import LambdaLR\n",
        "import torch.nn as nn\n",
        "\n",
        "device = torch.device(\"cuda\" if torch.cuda.is_available() else \"cpu\")\n",
        "model.to(device)\n",
        "\n",
        "# Optimizer: AdamW (used in Transformer training)\n",
        "optimizer = AdamW(model.parameters(), lr=5e-5, weight_decay=0.01) # The “W” = decoupled weight decay → helps regularization and prevents overfitting\n",
        "# weight decay discourages overly large weights\n",
        "\n",
        "# Learning rate schedule (linear decay with warmup)\n",
        "num_epochs = 10\n",
        "num_training_steps = num_epochs * len(train_loader)\n",
        "\n",
        "lr_scheduler = LambdaLR(\n",
        "    optimizer,\n",
        "    lr_lambda=lambda step: min((step+1)/500, 1.0) * (1 - step/num_training_steps)\n",
        ")\n",
        "\n",
        "criterion = nn.CrossEntropyLoss()\n"
      ],
      "metadata": {
        "id": "NBLr-iyl4ihE"
      },
      "execution_count": null,
      "outputs": []
    },
    {
      "cell_type": "markdown",
      "source": [
        "LR scheduler:\n",
        "- (step+1)/500 = warmup → gradually increase LR from 0 up to 1.0 over the first 500 steps.\n",
        "  - This prevents the model from “diverging” early when weights are random.\n",
        "- 1 - step/num_training_steps = linear decay → gradually decrease LR from full LR to 0 as training progresses."
      ],
      "metadata": {
        "id": "9-JiClu7qFkI"
      }
    },
    {
      "cell_type": "code",
      "source": [
        "'''\n",
        "Every batch: forward → loss → backpropagation → update weights.\n",
        "Track how well model predicts correct labels.\n",
        "Returns: average loss & accuracy for the epoch.\n",
        "'''\n",
        "\n",
        "def train_one_epoch():\n",
        "    model.train()\n",
        "    total_loss, correct, total = 0, 0, 0\n",
        "    for images, labels in train_loader: # iterate over batches\n",
        "        images, labels = images.to(device), labels.to(device)\n",
        "\n",
        "        # 1. Forward pass\n",
        "        outputs = model(images).logits # predictions\n",
        "        loss = criterion(outputs, labels) # compute loss (cross-entropy)\n",
        "\n",
        "        # 2. Backward pass\n",
        "        optimizer.zero_grad() # reset old gradients\n",
        "        loss.backward() # compute new gradients\n",
        "        optimizer.step() # update weights\n",
        "        lr_scheduler.step() # update learning rate (warmup/decay)\n",
        "\n",
        "        # 3. Track metrics\n",
        "        total_loss += loss.item()\n",
        "        _, preds = outputs.max(1) # pick class with highest probability\n",
        "        correct += preds.eq(labels).sum().item()\n",
        "        total += labels.size(0) # total number of samples\n",
        "\n",
        "    return total_loss/len(train_loader), 100*correct/total\n",
        "\n",
        "'''\n",
        "Model is set to evaluation mode (no dropout, no weight updates).\n",
        "Forward pass only, no backpropagation.\n",
        "Computes accuracy on the test dataset.\n",
        "'''\n",
        "\n",
        "def evaluate():\n",
        "    model.eval()\n",
        "    correct, total, total_loss = 0, 0, 0\n",
        "\n",
        "    with torch.no_grad():\n",
        "        for images, labels in test_loader:\n",
        "            images, labels = images.to(device), labels.to(device)\n",
        "            outputs = model(images).logits\n",
        "            loss = criterion(outputs, labels)   # compute loss for this batch\n",
        "\n",
        "            _, preds = outputs.max(1)\n",
        "            correct += preds.eq(labels).sum().item()\n",
        "            total += labels.size(0)\n",
        "            total_loss += loss.item()\n",
        "\n",
        "    avg_loss = total_loss / len(test_loader)\n",
        "    accuracy = 100 * correct / total\n",
        "    return avg_loss, accuracy\n",
        "\n",
        "# Training\n",
        "'''\n",
        "Train on full training set.\n",
        "Evaluate on test set.\n",
        "Print metrics.\n",
        "'''\n",
        "train_accs, test_accs, train_losses, test_losses = [], [], [], []\n",
        "for epoch in range(num_epochs):\n",
        "    train_loss, train_acc = train_one_epoch()\n",
        "    test_loss, test_acc = evaluate()\n",
        "    train_accs.append(train_acc)\n",
        "    test_accs.append(test_acc)\n",
        "    train_losses.append(train_loss)\n",
        "    test_losses.append(test_loss)\n",
        "    print(f\"Epoch {epoch+1}/{num_epochs}, \"f\"Train Loss={train_loss:.4f}, Train Acc={train_acc:.2f}%, \"f\"Val Loss={test_loss:.4f}, Val Acc={test_acc:.2f}%\")\n"
      ],
      "metadata": {
        "colab": {
          "base_uri": "https://localhost:8080/"
        },
        "id": "bZLlj4F_4lBq",
        "outputId": "d12d99ad-7330-4952-e30a-faa08d89bb9d"
      },
      "execution_count": null,
      "outputs": [
        {
          "output_type": "stream",
          "name": "stdout",
          "text": [
            "Epoch 1/10, Train Loss=1.9347, Train Acc=35.61%, Val Loss=1.6341, Val Acc=48.87%\n",
            "Epoch 2/10, Train Loss=1.5238, Train Acc=52.01%, Val Loss=1.4380, Val Acc=54.19%\n",
            "Epoch 3/10, Train Loss=1.3857, Train Acc=55.45%, Val Loss=1.3470, Val Acc=56.14%\n",
            "Epoch 4/10, Train Loss=1.3121, Train Acc=57.40%, Val Loss=1.2893, Val Acc=58.14%\n",
            "Epoch 5/10, Train Loss=1.2660, Train Acc=58.55%, Val Loss=1.2535, Val Acc=58.87%\n",
            "Epoch 6/10, Train Loss=1.2349, Train Acc=59.30%, Val Loss=1.2288, Val Acc=59.54%\n",
            "Epoch 7/10, Train Loss=1.2137, Train Acc=59.97%, Val Loss=1.2120, Val Acc=59.82%\n",
            "Epoch 8/10, Train Loss=1.1996, Train Acc=60.40%, Val Loss=1.2010, Val Acc=60.21%\n",
            "Epoch 9/10, Train Loss=1.1906, Train Acc=60.70%, Val Loss=1.1949, Val Acc=60.22%\n",
            "Epoch 10/10, Train Loss=1.1861, Train Acc=60.73%, Val Loss=1.1928, Val Acc=60.47%\n"
          ]
        }
      ]
    },
    {
      "cell_type": "code",
      "source": [
        "import matplotlib.pyplot as plt\n",
        "# Suppose we logged train_accs, test_accs, train_losses\n",
        "plt.plot(train_losses, label=\"Train Loss\")\n",
        "plt.plot(test_losses, label=\"Test Loss\")\n",
        "plt.xlabel(\"Epochs\")\n",
        "plt.ylabel(\"Loss\")\n",
        "plt.legend()\n",
        "plt.show()"
      ],
      "metadata": {
        "id": "RbujHl8i4cQd",
        "outputId": "c882e16c-250d-4400-af9c-fc8cff93cf56",
        "colab": {
          "base_uri": "https://localhost:8080/",
          "height": 449
        }
      },
      "execution_count": null,
      "outputs": [
        {
          "output_type": "display_data",
          "data": {
            "text/plain": [
              "<Figure size 640x480 with 1 Axes>"
            ],
            "image/png": "[encoded data removed]"
          },
          "metadata": {}
        }
      ]
    },
    {
      "cell_type": "code",
      "source": [
        "import matplotlib.pyplot as plt\n",
        "\n",
        "# Suppose we logged train_accs, test_accs, train_losses\n",
        "plt.plot(train_accs, label=\"Train Acc\")\n",
        "plt.plot(test_accs, label=\"Test Acc\")\n",
        "plt.xlabel(\"Epochs\")\n",
        "plt.ylabel(\"Accuracy\")\n",
        "plt.legend()\n",
        "plt.show()\n"
      ],
      "metadata": {
        "colab": {
          "base_uri": "https://localhost:8080/",
          "height": 449
        },
        "id": "Uz2h3y2T4m6G",
        "outputId": "dab9d2d0-77b6-44ab-f6a9-0c2be1e37f9f"
      },
      "execution_count": null,
      "outputs": [
        {
          "output_type": "display_data",
          "data": {
            "text/plain": [
              "<Figure size 640x480 with 1 Axes>"
            ],
            "image/png": "[encoded data removed]"
          },
          "metadata": {}
        }
      ]
    }
  ]
}