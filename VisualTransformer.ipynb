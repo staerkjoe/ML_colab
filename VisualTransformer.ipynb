{
  "nbformat": 4,
  "nbformat_minor": 0,
  "metadata": {
    "colab": {
      "provenance": [],
      "gpuType": "T4",
      "authorship_tag": "ABX9TyP4G3IOOHb6HJN/YJGHZXLs",
      "include_colab_link": true
    },
    "kernelspec": {
      "name": "python3",
      "display_name": "Python 3"
    },
    "language_info": {
      "name": "python"
    },
    "accelerator": "GPU"
  },
  "cells": [
    {
      "cell_type": "markdown",
      "metadata": {
        "id": "view-in-github",
        "colab_type": "text"
      },
      "source": [
        "<a href=\"https://colab.research.google.com/github/staerkjoe/ML_colab/blob/main/VisualTransformer.ipynb\" target=\"_parent\"><img src=\"https://colab.research.google.com/assets/colab-badge.svg\" alt=\"Open In Colab\"/></a>"
      ]
    },
    {
      "cell_type": "markdown",
      "source": [
        "CIFAR-10 images are 32×32, but ViTs expect 224×224,\n",
        "\n",
        "We also normalize with ImageNet stats (since ViTs are usually pretrained on ImageNet)."
      ],
      "metadata": {
        "id": "hfpCVKen4Do-"
      }
    },
    {
      "cell_type": "code",
      "execution_count": 8,
      "metadata": {
        "id": "kHYyM7bS1-BS"
      },
      "outputs": [],
      "source": [
        "import torch\n",
        "import torchvision\n",
        "import torchvision.transforms as transforms\n",
        "from torch.utils.data import DataLoader\n",
        "\n",
        "# Preprocessing: resize to 224x224, convert to tensor, normalize\n",
        "transform = transforms.Compose([\n",
        "    transforms.Resize((224, 224)),     # ViT expects larger images (pretrained on ImageNet 224x224)\n",
        "    transforms.ToTensor(),             # convert PIL → tensor\n",
        "    transforms.Normalize(mean=[0.5, 0.5, 0.5], std=[0.5, 0.5, 0.5]) # usually you would use: mean = [0.485, 0.456, 0.406]; std  = [0.229, 0.224, 0.225]\n",
        "])\n",
        "\n",
        "# Load CIFAR-10 dataset\n",
        "train_dataset = torchvision.datasets.CIFAR10(root='./data', train=True,\n",
        "                                             download=True, transform=transform)\n",
        "test_dataset = torchvision.datasets.CIFAR10(root='./data', train=False,\n",
        "                                            download=True, transform=transform)\n",
        "\n",
        "# Data loaders\n",
        "train_loader = DataLoader(train_dataset, batch_size=16, shuffle=True)\n",
        "test_loader = DataLoader(test_dataset, batch_size=16, shuffle=False)\n",
        "\n"
      ]
    },
    {
      "cell_type": "markdown",
      "source": [
        "Hugging Face Transformers library\n",
        "\n",
        "Why:\n",
        "- Pretrained weights let us leverage ImageNet knowledge.\n",
        "- We replace the classification head to output 10 classes instead of 1000."
      ],
      "metadata": {
        "id": "w-xyJ87m4alV"
      }
    },
    {
      "cell_type": "code",
      "source": [
        "from transformers import ViTForImageClassification, ViTFeatureExtractor\n",
        "\n",
        "# Load pretrained ViT (base model, patch size 16, pretrained on ImageNet-21k)\n",
        "model = ViTForImageClassification.from_pretrained(\n",
        "    \"WinKawaks/vit-tiny-patch16-224\",\n",
        "    num_labels=10,   # CIFAR-10 has 10 classes\n",
        "    ignore_mismatched_sizes=True\n",
        ")\n",
        "# more spped in traning\n",
        "model.vit.encoder.layer = model.vit.encoder.layer[:6] # keep only the first 6 layers instead of all 12 for more speed in training (forward pass)\n"
      ],
      "metadata": {
        "colab": {
          "base_uri": "https://localhost:8080/"
        },
        "id": "cougviq94TlD",
        "outputId": "0b82072f-a5ef-4f3b-d53d-1a8ea825f0f6"
      },
      "execution_count": 9,
      "outputs": [
        {
          "output_type": "stream",
          "name": "stderr",
          "text": [
            "Some weights of ViTForImageClassification were not initialized from the model checkpoint at WinKawaks/vit-tiny-patch16-224 and are newly initialized because the shapes did not match:\n",
            "- classifier.bias: found shape torch.Size([1000]) in the checkpoint and torch.Size([10]) in the model instantiated\n",
            "- classifier.weight: found shape torch.Size([1000, 192]) in the checkpoint and torch.Size([10, 192]) in the model instantiated\n",
            "You should probably TRAIN this model on a down-stream task to be able to use it for predictions and inference.\n"
          ]
        }
      ]
    },
    {
      "cell_type": "code",
      "source": [
        "print(model)"
      ],
      "metadata": {
        "colab": {
          "base_uri": "https://localhost:8080/"
        },
        "id": "fu745_LdsB9k",
        "outputId": "bfd051d7-8b7b-47d7-d1b8-ab15d7e435f3"
      },
      "execution_count": 14,
      "outputs": [
        {
          "output_type": "stream",
          "name": "stdout",
          "text": [
            "ViTForImageClassification(\n",
            "  (vit): ViTModel(\n",
            "    (embeddings): ViTEmbeddings(\n",
            "      (patch_embeddings): ViTPatchEmbeddings(\n",
            "        (projection): Conv2d(3, 192, kernel_size=(16, 16), stride=(16, 16))\n",
            "      )\n",
            "      (dropout): Dropout(p=0.0, inplace=False)\n",
            "    )\n",
            "    (encoder): ViTEncoder(\n",
            "      (layer): ModuleList(\n",
            "        (0-5): 6 x ViTLayer(\n",
            "          (attention): ViTAttention(\n",
            "            (attention): ViTSelfAttention(\n",
            "              (query): Linear(in_features=192, out_features=192, bias=True)\n",
            "              (key): Linear(in_features=192, out_features=192, bias=True)\n",
            "              (value): Linear(in_features=192, out_features=192, bias=True)\n",
            "            )\n",
            "            (output): ViTSelfOutput(\n",
            "              (dense): Linear(in_features=192, out_features=192, bias=True)\n",
            "              (dropout): Dropout(p=0.0, inplace=False)\n",
            "            )\n",
            "          )\n",
            "          (intermediate): ViTIntermediate(\n",
            "            (dense): Linear(in_features=192, out_features=768, bias=True)\n",
            "            (intermediate_act_fn): GELUActivation()\n",
            "          )\n",
            "          (output): ViTOutput(\n",
            "            (dense): Linear(in_features=768, out_features=192, bias=True)\n",
            "            (dropout): Dropout(p=0.0, inplace=False)\n",
            "          )\n",
            "          (layernorm_before): LayerNorm((192,), eps=1e-12, elementwise_affine=True)\n",
            "          (layernorm_after): LayerNorm((192,), eps=1e-12, elementwise_affine=True)\n",
            "        )\n",
            "      )\n",
            "    )\n",
            "    (layernorm): LayerNorm((192,), eps=1e-12, elementwise_affine=True)\n",
            "  )\n",
            "  (classifier): Linear(in_features=192, out_features=10, bias=True)\n",
            ")\n"
          ]
        }
      ]
    },
    {
      "cell_type": "markdown",
      "source": [
        "This is essentially a trade-off:\n",
        "- Full depth → better accuracy, slower training.\n",
        "- Reduced depth → faster training, but maybe lower accuracy."
      ],
      "metadata": {
        "id": "2IWVO3iAowxS"
      }
    },
    {
      "cell_type": "code",
      "source": [
        "# Freeze all layers except classification head for backprop\n",
        "for param in model.vit.parameters():\n",
        "    param.requires_grad = False"
      ],
      "metadata": {
        "id": "QejjSgEi4g1K"
      },
      "execution_count": 10,
      "outputs": []
    },
    {
      "cell_type": "code",
      "source": [
        "from torch.optim import AdamW\n",
        "from torch.optim.lr_scheduler import LambdaLR\n",
        "import torch.nn as nn\n",
        "\n",
        "device = torch.device(\"cuda\" if torch.cuda.is_available() else \"cpu\")\n",
        "model.to(device)\n",
        "\n",
        "# Optimizer: AdamW (used in Transformer training)\n",
        "optimizer = AdamW(model.parameters(), lr=5e-5, weight_decay=0.01) # The “W” = decoupled weight decay → helps regularization and prevents overfitting\n",
        "# weight decay discourages overly large weights\n",
        "\n",
        "# Learning rate schedule (linear decay with warmup)\n",
        "num_epochs = 10\n",
        "num_training_steps = num_epochs * len(train_loader)\n",
        "\n",
        "lr_scheduler = LambdaLR(\n",
        "    optimizer,\n",
        "    lr_lambda=lambda step: min((step+1)/500, 1.0) * (1 - step/num_training_steps)\n",
        ")\n",
        "\n",
        "criterion = nn.CrossEntropyLoss()\n"
      ],
      "metadata": {
        "id": "NBLr-iyl4ihE"
      },
      "execution_count": 11,
      "outputs": []
    },
    {
      "cell_type": "markdown",
      "source": [
        "LR scheduler:\n",
        "- (step+1)/500 = warmup → gradually increase LR from 0 up to 1.0 over the first 500 steps.\n",
        "  - This prevents the model from “diverging” early when weights are random.\n",
        "- 1 - step/num_training_steps = linear decay → gradually decrease LR from full LR to 0 as training progresses."
      ],
      "metadata": {
        "id": "9-JiClu7qFkI"
      }
    },
    {
      "cell_type": "code",
      "source": [
        "'''\n",
        "Every batch: forward → loss → backpropagation → update weights.\n",
        "Track how well model predicts correct labels.\n",
        "Returns: average loss & accuracy for the epoch.\n",
        "'''\n",
        "\n",
        "def train_one_epoch():\n",
        "    model.train()\n",
        "    total_loss, correct, total = 0, 0, 0\n",
        "    for images, labels in train_loader: # iterate over batches\n",
        "        images, labels = images.to(device), labels.to(device)\n",
        "\n",
        "        # 1. Forward pass\n",
        "        outputs = model(images).logits # predictions\n",
        "        loss = criterion(outputs, labels) # compute loss (cross-entropy)\n",
        "\n",
        "        # 2. Backward pass\n",
        "        optimizer.zero_grad() # reset old gradients\n",
        "        loss.backward() # compute new gradients\n",
        "        optimizer.step() # update weights\n",
        "        lr_scheduler.step() # update learning rate (warmup/decay)\n",
        "\n",
        "        # 3. Track metrics\n",
        "        total_loss += loss.item()\n",
        "        _, preds = outputs.max(1) # pick class with highest probability\n",
        "        correct += preds.eq(labels).sum().item()\n",
        "        total += labels.size(0) # total number of samples\n",
        "\n",
        "    return total_loss/len(train_loader), 100*correct/total\n",
        "\n",
        "'''\n",
        "Model is set to evaluation mode (no dropout, no weight updates).\n",
        "Forward pass only, no backpropagation.\n",
        "Computes accuracy on the test dataset.\n",
        "'''\n",
        "\n",
        "def evaluate():\n",
        "    model.eval() # evaluation mode (dropout, batchnorm disabled)\n",
        "    correct, total = 0, 0\n",
        "    with torch.no_grad(): # no gradients = faster, less memory\n",
        "        for images, labels in test_loader:\n",
        "            images, labels = images.to(device), labels.to(device)\n",
        "            outputs = model(images).logits\n",
        "            _, preds = outputs.max(1)\n",
        "            correct += preds.eq(labels).sum().item()\n",
        "            total += labels.size(0)\n",
        "    return 100*correct/total\n",
        "\n",
        "# Training\n",
        "'''\n",
        "Train on full training set.\n",
        "Evaluate on test set.\n",
        "Print metrics.\n",
        "'''\n",
        "train_accs, test_accs, train_losses = [], [], []\n",
        "for epoch in range(num_epochs):\n",
        "    train_loss, train_acc = train_one_epoch()\n",
        "    test_acc = evaluate()\n",
        "    train_accs.append(train_acc)\n",
        "    test_accs.append(test_acc)\n",
        "    train_losses.append(train_loss)\n",
        "    print(f\"Epoch {epoch+1}/{num_epochs}, Loss={train_loss:.4f}, Train Acc={train_acc:.2f}%, Test Acc={test_acc:.2f}%\")\n"
      ],
      "metadata": {
        "colab": {
          "base_uri": "https://localhost:8080/"
        },
        "id": "bZLlj4F_4lBq",
        "outputId": "8bf78cd4-0c26-45e4-8840-dfd58ea72fde"
      },
      "execution_count": 12,
      "outputs": [
        {
          "output_type": "stream",
          "name": "stdout",
          "text": [
            "Epoch 1/10, Loss=1.8125, Train Acc=43.17%, Test Acc=57.72%\n",
            "Epoch 2/10, Loss=1.3117, Train Acc=61.10%, Test Acc=62.25%\n",
            "Epoch 3/10, Loss=1.1569, Train Acc=64.31%, Test Acc=64.76%\n",
            "Epoch 4/10, Loss=1.0797, Train Acc=65.81%, Test Acc=65.68%\n",
            "Epoch 5/10, Loss=1.0332, Train Acc=66.85%, Test Acc=66.50%\n",
            "Epoch 6/10, Loss=1.0028, Train Acc=67.60%, Test Acc=67.03%\n",
            "Epoch 7/10, Loss=0.9821, Train Acc=68.04%, Test Acc=67.46%\n",
            "Epoch 8/10, Loss=0.9682, Train Acc=68.45%, Test Acc=67.77%\n",
            "Epoch 9/10, Loss=0.9595, Train Acc=68.61%, Test Acc=67.91%\n",
            "Epoch 10/10, Loss=0.9553, Train Acc=68.73%, Test Acc=68.00%\n"
          ]
        }
      ]
    },
    {
      "cell_type": "code",
      "source": [
        "import matplotlib.pyplot as plt\n",
        "\n",
        "# Suppose we logged train_accs, test_accs, train_losses\n",
        "plt.plot(train_accs, label=\"Train Acc\")\n",
        "plt.plot(test_accs, label=\"Test Acc\")\n",
        "plt.xlabel(\"Epochs\")\n",
        "plt.ylabel(\"Accuracy\")\n",
        "plt.legend()\n",
        "plt.show()\n"
      ],
      "metadata": {
        "colab": {
          "base_uri": "https://localhost:8080/",
          "height": 219
        },
        "id": "Uz2h3y2T4m6G",
        "outputId": "120c346a-4e15-4c7f-b725-d9c9bd4f9fbe"
      },
      "execution_count": 15,
      "outputs": [
        {
          "output_type": "error",
          "ename": "NameError",
          "evalue": "name 'train_accs' is not defined",
          "traceback": [
            "\u001b[0;31m---------------------------------------------------------------------------\u001b[0m",
            "\u001b[0;31mNameError\u001b[0m                                 Traceback (most recent call last)",
            "\u001b[0;32m/tmp/ipython-input-4030208618.py\u001b[0m in \u001b[0;36m<cell line: 0>\u001b[0;34m()\u001b[0m\n\u001b[1;32m      2\u001b[0m \u001b[0;34m\u001b[0m\u001b[0m\n\u001b[1;32m      3\u001b[0m \u001b[0;31m# Suppose we logged train_accs, test_accs, train_losses\u001b[0m\u001b[0;34m\u001b[0m\u001b[0;34m\u001b[0m\u001b[0m\n\u001b[0;32m----> 4\u001b[0;31m \u001b[0mplt\u001b[0m\u001b[0;34m.\u001b[0m\u001b[0mplot\u001b[0m\u001b[0;34m(\u001b[0m\u001b[0mtrain_accs\u001b[0m\u001b[0;34m,\u001b[0m \u001b[0mlabel\u001b[0m\u001b[0;34m=\u001b[0m\u001b[0;34m\"Train Acc\"\u001b[0m\u001b[0;34m)\u001b[0m\u001b[0;34m\u001b[0m\u001b[0;34m\u001b[0m\u001b[0m\n\u001b[0m\u001b[1;32m      5\u001b[0m \u001b[0mplt\u001b[0m\u001b[0;34m.\u001b[0m\u001b[0mplot\u001b[0m\u001b[0;34m(\u001b[0m\u001b[0mtest_accs\u001b[0m\u001b[0;34m,\u001b[0m \u001b[0mlabel\u001b[0m\u001b[0;34m=\u001b[0m\u001b[0;34m\"Test Acc\"\u001b[0m\u001b[0;34m)\u001b[0m\u001b[0;34m\u001b[0m\u001b[0;34m\u001b[0m\u001b[0m\n\u001b[1;32m      6\u001b[0m \u001b[0mplt\u001b[0m\u001b[0;34m.\u001b[0m\u001b[0mxlabel\u001b[0m\u001b[0;34m(\u001b[0m\u001b[0;34m\"Epochs\"\u001b[0m\u001b[0;34m)\u001b[0m\u001b[0;34m\u001b[0m\u001b[0;34m\u001b[0m\u001b[0m\n",
            "\u001b[0;31mNameError\u001b[0m: name 'train_accs' is not defined"
          ]
        }
      ]
    }
  ]
}