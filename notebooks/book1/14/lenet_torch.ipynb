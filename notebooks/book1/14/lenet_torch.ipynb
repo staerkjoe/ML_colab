{
  "cells": [
    {
      "cell_type": "markdown",
      "metadata": {
        "id": "view-in-github",
        "colab_type": "text"
      },
      "source": [
        "<a href=\"https://colab.research.google.com/github/staerkjoe/ML_colab/blob/main/notebooks/book1/14/lenet_torch.ipynb\" target=\"_parent\"><img src=\"https://colab.research.google.com/assets/colab-badge.svg\" alt=\"Open In Colab\"/></a>"
      ]
    },
    {
      "cell_type": "markdown",
      "metadata": {
        "id": "maCJ8ek4AcYG"
      },
      "source": [
        "Please find jax implementation of this notebook here: https://colab.research.google.com/github/probml/pyprobml/blob/master/notebooks/book1/14/lenet_jax.ipynb"
      ]
    },
    {
      "cell_type": "markdown",
      "metadata": {
        "id": "view-in-github"
      },
      "source": [
        "<a href=\"https://colab.research.google.com/github/Nirzu97/pyprobml/blob/tenet-torch/notebooks/lenet_torch.ipynb\" target=\"_parent\"><img src=\"https://colab.research.google.com/assets/colab-badge.svg\" alt=\"Open In Colab\"/></a>"
      ]
    },
    {
      "cell_type": "markdown",
      "metadata": {
        "id": "FlpqfyRq6o7L"
      },
      "source": [
        "# The LeNet CNN\n",
        "\n",
        "Based on sec 6.5 of http://d2l.ai/chapter_convolutional-neural-networks/lenet.html\n",
        "\n"
      ]
    },
    {
      "cell_type": "code",
      "execution_count": 12,
      "metadata": {
        "colab": {
          "base_uri": "https://localhost:8080/"
        },
        "id": "As_6LkWL6kyU",
        "outputId": "8c2f5725-6318-4c93-d577-c395d0774cb9"
      },
      "outputs": [
        {
          "output_type": "stream",
          "name": "stdout",
          "text": [
            "mkdir: cannot create directory ‘figures’: File exists\n"
          ]
        }
      ],
      "source": [
        "import numpy as np\n",
        "import matplotlib.pyplot as plt\n",
        "import math\n",
        "from IPython import display\n",
        "\n",
        "try:\n",
        "    import torch\n",
        "except ModuleNotFoundError:\n",
        "    %pip install -qq torch\n",
        "    import torch\n",
        "try:\n",
        "    import torchvision\n",
        "except ModuleNotFoundError:\n",
        "    %pip install -qq torchvision\n",
        "    import torchvision\n",
        "from torch import nn\n",
        "from torch.nn import functional as F\n",
        "from torch.utils import data\n",
        "from torchvision import transforms\n",
        "\n",
        "import random\n",
        "import os\n",
        "import time\n",
        "\n",
        "np.random.seed(seed=66)\n",
        "torch.manual_seed(66)\n",
        "!mkdir figures # for saving plots"
      ]
    },
    {
      "cell_type": "markdown",
      "metadata": {
        "id": "8mKu5QWA7eBB"
      },
      "source": [
        "# Make the model"
      ]
    },
    {
      "cell_type": "markdown",
      "metadata": {
        "id": "zVKgyvJJ7pMN"
      },
      "source": [
        "We hard-code the assumption that the input will be 1x28x28,\n",
        "as is the case for (Fashion) MNIST."
      ]
    },
    {
      "cell_type": "code",
      "execution_count": 53,
      "metadata": {
        "id": "XcII-AEs6uD0"
      },
      "outputs": [],
      "source": [
        "class Reshape(torch.nn.Module):\n",
        "    def forward(self, x):\n",
        "        return x.view(-1, 1, 28, 28)\n",
        "\n",
        "\n",
        "net = torch.nn.Sequential(\n",
        "    Reshape(),\n",
        "    nn.Conv2d(1, 6, kernel_size=5, padding=2), # 6 filters with different weights\n",
        "    nn.Sigmoid(),\n",
        "    nn.AvgPool2d(kernel_size=2, stride=2),\n",
        "    nn.Conv2d(6, 16, kernel_size=5),\n",
        "    nn.Sigmoid(),\n",
        "    nn.AvgPool2d(kernel_size=2, stride=2),\n",
        "    nn.Flatten(),\n",
        "    nn.Linear(16 * 5 * 5, 120), # 16 feature maps, each of size 5×5\n",
        "    nn.Sigmoid(),\n",
        "    nn.Linear(120, 84),\n",
        "    nn.Sigmoid(),\n",
        "    nn.Linear(84, 10),\n",
        ")"
      ]
    },
    {
      "cell_type": "code",
      "execution_count": 54,
      "metadata": {
        "colab": {
          "base_uri": "https://localhost:8080/"
        },
        "id": "GN7agF4Y7ftT",
        "outputId": "465b0dab-891e-435b-a39c-a14c12c3708e"
      },
      "outputs": [
        {
          "output_type": "stream",
          "name": "stdout",
          "text": [
            "Reshape output shape: \t torch.Size([1, 1, 28, 28])\n",
            "Conv2d output shape: \t torch.Size([1, 6, 28, 28])\n",
            "Sigmoid output shape: \t torch.Size([1, 6, 28, 28])\n",
            "AvgPool2d output shape: \t torch.Size([1, 6, 14, 14])\n",
            "Conv2d output shape: \t torch.Size([1, 16, 10, 10])\n",
            "Sigmoid output shape: \t torch.Size([1, 16, 10, 10])\n",
            "AvgPool2d output shape: \t torch.Size([1, 16, 5, 5])\n",
            "Flatten output shape: \t torch.Size([1, 400])\n",
            "Linear output shape: \t torch.Size([1, 120])\n",
            "Sigmoid output shape: \t torch.Size([1, 120])\n",
            "Linear output shape: \t torch.Size([1, 84])\n",
            "Sigmoid output shape: \t torch.Size([1, 84])\n",
            "Linear output shape: \t torch.Size([1, 44])\n",
            "Sigmoid output shape: \t torch.Size([1, 44])\n",
            "Linear output shape: \t torch.Size([1, 10])\n"
          ]
        }
      ],
      "source": [
        "X = torch.rand(size=(1, 1, 28, 28), dtype=torch.float32)\n",
        "for layer in net:\n",
        "    X = layer(X)\n",
        "    print(layer.__class__.__name__, \"output shape: \\t\", X.shape)"
      ]
    },
    {
      "cell_type": "markdown",
      "metadata": {
        "id": "9tQG4D0Z8HWU"
      },
      "source": [
        "# Data"
      ]
    },
    {
      "cell_type": "code",
      "execution_count": 55,
      "metadata": {
        "id": "2go3oMDxNTqG"
      },
      "outputs": [],
      "source": [
        "def load_data_fashion_mnist(batch_size, resize=None):\n",
        "    \"\"\"Download the Fashion-MNIST dataset and then load it into memory.\"\"\"\n",
        "    trans = [transforms.ToTensor()]\n",
        "    if resize:\n",
        "        trans.insert(0, transforms.Resize(resize)) # converts PIL images (0–255) into PyTorch tensors (0–1 range).\n",
        "    trans = transforms.Compose(trans)\n",
        "    mnist_train = torchvision.datasets.FashionMNIST(root=\"../data\", train=True, transform=trans, download=True)\n",
        "    mnist_test = torchvision.datasets.FashionMNIST(root=\"../data\", train=False, transform=trans, download=True)\n",
        "    return (\n",
        "        data.DataLoader(mnist_train, batch_size, shuffle=True, num_workers=4),\n",
        "        data.DataLoader(mnist_test, batch_size, shuffle=False, num_workers=4),\n",
        "    )"
      ]
    },
    {
      "cell_type": "code",
      "execution_count": 56,
      "metadata": {
        "id": "jJdLMXln8Hxk"
      },
      "outputs": [],
      "source": [
        "batch_size = 256\n",
        "train_iter, test_iter = load_data_fashion_mnist(batch_size=batch_size)"
      ]
    },
    {
      "cell_type": "markdown",
      "metadata": {
        "id": "9jzw2yDa8KEs"
      },
      "source": [
        "# Training and eval\n",
        "\n",
        "We have to move the model and the data to the GPU, otherwise the code is terribly slow."
      ]
    },
    {
      "cell_type": "code",
      "execution_count": 57,
      "metadata": {
        "id": "tA_QeZH5rp1o"
      },
      "outputs": [],
      "source": [
        "class Animator:\n",
        "    \"\"\"For plotting data in animation.\"\"\"\n",
        "\n",
        "    def __init__(\n",
        "        self,\n",
        "        xlabel=None,\n",
        "        ylabel=None,\n",
        "        legend=None,\n",
        "        xlim=None,\n",
        "        ylim=None,\n",
        "        xscale=\"linear\",\n",
        "        yscale=\"linear\",\n",
        "        fmts=(\"-\", \"m--\", \"g-.\", \"r:\"),\n",
        "        nrows=1,\n",
        "        ncols=1,\n",
        "        figsize=(3.5, 2.5),\n",
        "    ):\n",
        "        # Incrementally plot multiple lines\n",
        "        if legend is None:\n",
        "            legend = []\n",
        "        display.set_matplotlib_formats(\"svg\")\n",
        "        self.fig, self.axes = plt.subplots(nrows, ncols, figsize=figsize)\n",
        "        if nrows * ncols == 1:\n",
        "            self.axes = [\n",
        "                self.axes,\n",
        "            ]\n",
        "        # Use a lambda function to capture arguments\n",
        "        self.config_axes = lambda: set_axes(self.axes[0], xlabel, ylabel, xlim, ylim, xscale, yscale, legend)\n",
        "        self.X, self.Y, self.fmts = None, None, fmts\n",
        "\n",
        "    def add(self, x, y):\n",
        "        # Add multiple data points into the figure\n",
        "        if not hasattr(y, \"__len__\"):\n",
        "            y = [y]\n",
        "        n = len(y)\n",
        "        if not hasattr(x, \"__len__\"):\n",
        "            x = [x] * n\n",
        "        if not self.X:\n",
        "            self.X = [[] for _ in range(n)]\n",
        "        if not self.Y:\n",
        "            self.Y = [[] for _ in range(n)]\n",
        "        for i, (a, b) in enumerate(zip(x, y)):\n",
        "            if a is not None and b is not None:\n",
        "                self.X[i].append(a)\n",
        "                self.Y[i].append(b)\n",
        "        self.axes[0].cla()\n",
        "        for x, y, fmt in zip(self.X, self.Y, self.fmts):\n",
        "            self.axes[0].plot(x, y, fmt)\n",
        "        self.config_axes()\n",
        "        display.display(self.fig)\n",
        "        display.clear_output(wait=True)\n",
        "\n",
        "\n",
        "class Timer:\n",
        "    \"\"\"Record multiple running times.\"\"\"\n",
        "\n",
        "    def __init__(self):\n",
        "        self.times = []\n",
        "        self.start()\n",
        "\n",
        "    def start(self):\n",
        "        \"\"\"Start the timer.\"\"\"\n",
        "        self.tik = time.time()\n",
        "\n",
        "    def stop(self):\n",
        "        \"\"\"Stop the timer and record the time in a list.\"\"\"\n",
        "        self.times.append(time.time() - self.tik)\n",
        "        return self.times[-1]\n",
        "\n",
        "    def avg(self):\n",
        "        \"\"\"Return the average time.\"\"\"\n",
        "        return sum(self.times) / len(self.times)\n",
        "\n",
        "    def sum(self):\n",
        "        \"\"\"Return the sum of time.\"\"\"\n",
        "        return sum(self.times)\n",
        "\n",
        "    def cumsum(self):\n",
        "        \"\"\"Return the accumulated time.\"\"\"\n",
        "        return np.array(self.times).cumsum().tolist()\n",
        "\n",
        "\n",
        "class Accumulator:\n",
        "    \"\"\"For accumulating sums over `n` variables.\"\"\"\n",
        "\n",
        "    def __init__(self, n):\n",
        "        self.data = [0.0] * n\n",
        "\n",
        "    def add(self, *args):\n",
        "        self.data = [a + float(b) for a, b in zip(self.data, args)]\n",
        "\n",
        "    def reset(self):\n",
        "        self.data = [0.0] * len(self.data)\n",
        "\n",
        "    def __getitem__(self, idx):\n",
        "        return self.data[idx]"
      ]
    },
    {
      "cell_type": "code",
      "execution_count": 58,
      "metadata": {
        "id": "pqs511oGN0wE"
      },
      "outputs": [],
      "source": [
        "def set_axes(axes, xlabel, ylabel, xlim, ylim, xscale, yscale, legend):\n",
        "    \"\"\"Set the axes for matplotlib.\"\"\"\n",
        "    axes.set_xlabel(xlabel)\n",
        "    axes.set_ylabel(ylabel)\n",
        "    axes.set_xscale(xscale)\n",
        "    axes.set_yscale(yscale)\n",
        "    axes.set_xlim(xlim)\n",
        "    axes.set_ylim(ylim)\n",
        "    if legend:\n",
        "        axes.legend(legend)\n",
        "    axes.grid()"
      ]
    },
    {
      "cell_type": "code",
      "execution_count": 59,
      "metadata": {
        "id": "YmfIDoh26p5I"
      },
      "outputs": [],
      "source": [
        "def try_gpu(i=0):\n",
        "    \"\"\"Return gpu(i) if exists, otherwise return cpu().\"\"\"\n",
        "    if torch.cuda.device_count() >= i + 1:\n",
        "        return torch.device(f\"cuda:{i}\")\n",
        "    return torch.device(\"cpu\")"
      ]
    },
    {
      "cell_type": "code",
      "execution_count": 60,
      "metadata": {
        "id": "skvmZ8n98I7K"
      },
      "outputs": [],
      "source": [
        "# We compute classification accuracy on the current batch\n",
        "# and add this metric to the accumulator, for plotting purposes\n",
        "\n",
        "\n",
        "def evaluate_accuracy_gpu(net, data_iter, device=None):\n",
        "    \"\"\"Compute the accuracy for a model on a dataset using a GPU.\"\"\"\n",
        "    if isinstance(net, torch.nn.Module):\n",
        "        net.eval()  # Set the model to evaluation mode\n",
        "        if not device:\n",
        "            device = next(iter(net.parameters())).device\n",
        "    # No. of correct predictions, no. of predictions\n",
        "    metric = Accumulator(2)\n",
        "    for X, y in data_iter:\n",
        "        X = X.to(device)\n",
        "        y = y.to(device)\n",
        "        metric.add(accuracy(net(X), y), y.numel())\n",
        "    return metric[0] / metric[1]\n",
        "\n",
        "\n",
        "def accuracy(y_hat, y):\n",
        "    \"\"\"Compute the number of correct predictions.\"\"\"\n",
        "    if len(y_hat.shape) > 1 and y_hat.shape[1] > 1:\n",
        "        y_hat = torch.argmax(y_hat, axis=1)\n",
        "    cmp_ = y_hat.type(y.dtype) == y\n",
        "    return float(cmp_.type(y.dtype).sum())"
      ]
    },
    {
      "cell_type": "code",
      "source": [
        "import matplotlib.pyplot as plt\n",
        "import torch\n",
        "\n",
        "# Pick one sample from your dataset\n",
        "sample_img, _ = next(iter(test_iter))  # shape: [batch, 1, 28, 28]\n",
        "sample_img = sample_img[144].unsqueeze(0)  # keep batch dim: [1, 1, 28, 28]\n",
        "\n",
        "# Move to same device as model\n",
        "device = next(net.parameters()).device\n",
        "sample_img = sample_img.to(device)\n",
        "\n",
        "# Layers you want to inspect (only conv layers here) --> picks conv layers\n",
        "conv_layers = [layer for layer in net if isinstance(layer, torch.nn.Conv2d)]\n",
        "\n",
        "feature_maps = []\n",
        "x = sample_img\n",
        "for layer in conv_layers: # loops through all conv layers within the model\n",
        "    x = layer(x) # creates feature maps\n",
        "    feature_maps.append(x.detach().cpu())  # store output for plotting\n",
        "\n",
        "\n",
        "def plot_feature_maps(feature_maps):\n",
        "    for layer_idx, fmap in enumerate(feature_maps):\n",
        "        num_channels = fmap.shape[1]\n",
        "        fig, axes = plt.subplots(1, num_channels, figsize=(num_channels*2, 2))\n",
        "        fig.suptitle(f\"Feature maps after Conv layer {layer_idx+1}\")\n",
        "        for i in range(num_channels):\n",
        "            axes[i].imshow(fmap[0, i], cmap='gray')\n",
        "            axes[i].axis('off')\n",
        "        plt.show()\n",
        "\n",
        "plot_feature_maps(feature_maps)\n"
      ],
      "metadata": {
        "colab": {
          "base_uri": "https://localhost:8080/",
          "height": 397
        },
        "id": "O8_93CU0XhCS",
        "outputId": "f92409e9-bea2-4912-9271-59d99261e6ac"
      },
      "execution_count": 68,
      "outputs": [
        {
          "output_type": "display_data",
          "data": {
            "text/plain": [
              "<Figure size 1200x200 with 6 Axes>"
            ],
            "image/svg+xml": "<?xml version=\"1.0\" encoding=\"utf-8\" standalone=\"no\"?>\n<!DOCTYPE svg PUBLIC \"-//W3C//DTD SVG 1.1//EN\"\n  \"http://www.w3.org/Graphics/SVG/1.1/DTD/svg11.dtd\">\n<svg xmlns:xlink=\"http://www.w3.org/1999/xlink\" width=\"684pt\" height=\"132.068571pt\" viewBox=\"0 0 684 132.068571\" xmlns=\"http://www.w3.org/2000/svg\" version=\"1.1\">\n <metadata>\n  <rdf:RDF xmlns:dc=\"http://purl.org/dc/elements/1.1/\" xmlns:cc=\"http://creativecommons.org/ns#\" xmlns:rdf=\"http://www.w3.org/1999/02/22-rdf-syntax-ns#\">\n   <cc:Work>\n    <dc:type rdf:resource=\"http://purl.org/dc/dcmitype/StillImage\"/>\n    <dc:date>2025-09-12T14:49:16.595037</dc:date>\n    <dc:format>image/svg+xml</dc:format>\n    <dc:creator>\n     <cc:Agent>\n      <dc:title>Matplotlib v3.10.0, https://matplotlib.org/</dc:title>\n     </cc:Agent>\n    </dc:creator>\n   </cc:Work>\n  </rdf:RDF>\n </metadata>\n <defs>\n  <style type=\"text/css\">*{stroke-linejoin: round; stroke-linecap: butt}</style>\n </defs>\n <g id=\"figure_1\">\n  <g id=\"patch_1\">\n   <path d=\"M 0 132.068571 \nL 684 132.068571 \nL 684 0 \nL 0 0 \nz\n\" style=\"fill: #ffffff\"/>\n  </g>\n  <g id=\"axes_1\">\n   <g clip-path=\"url(#p5247b11eca)\">\n    <image xlink:href=\"data:image/png;base64,\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\" id=\"image47fa5311dd\" transform=\"scale(1 -1) translate(0 -95.76)\" x=\"7.2\" y=\"-29.108571\" width=\"95.76\" height=\"95.76\"/>\n   </g>\n  </g>\n  <g id=\"axes_2\">\n   <g clip-path=\"url(#p47a1bb6ca7)\">\n    <image xlink:href=\"data:image/png;base64,\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\" id=\"image678e15a4ca\" transform=\"scale(1 -1) translate(0 -95.76)\" x=\"121.988571\" y=\"-29.108571\" width=\"95.76\" height=\"95.76\"/>\n   </g>\n  </g>\n  <g id=\"axes_3\">\n   <g clip-path=\"url(#p915999d3df)\">\n    <image xlink:href=\"data:image/png;base64,\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\" id=\"imagedac0e1ab90\" transform=\"scale(1 -1) translate(0 -95.76)\" x=\"236.777143\" y=\"-29.108571\" width=\"95.76\" height=\"95.76\"/>\n   </g>\n  </g>\n  <g id=\"axes_4\">\n   <g clip-path=\"url(#p1c3dde4197)\">\n    <image xlink:href=\"data:image/png;base64,\niVBORw0KGgoAAAANSUhEUgAAAIUAAACFCAYAAAB12js8AAAF+UlEQVR4nO2dyU5jPRCFzRCmEAIBIoLEJLY8EGvejx0PwJpHQEIssoGIMATCPPT61jkt/P9SByN9384lc3PTOu0cVbnsscPDw6/0S/j6qr7q/f29zDk5OZHY6empxDY2Nirj/f19mVOv1yV2dHQksePj48p4c3NT5hwcHEhse3tbYvE7dbtdmfOvGR/5J0LxIAoQEAUIiAKEyZ9+gf/C5+dnZfzw8CBznDE7OzuTWKvVqoydqVxYWJDY3d2dxM7PzyvjyUn9Z63VahJrNpsSi9/xJ2ClAAFRgIAoQEAUIPwqo/nx8VEZu4zmxcWFxHq9nsSiGVxZWZE5znw6cxufv76+LnOcaV1eXpbY6+urxEYNKwUIiAIERAFCEZ5ibGxMYrEi6ri9vc2Kvb+/S2xtba0ydr/5LpE0HA6/fa+ZmRmJjY/r/7/c2Kj5+TeA4kAUICAKEBAFCEUYzRxTmZIav36/L3NcQmtqakpiW1tblfHs7KzMub6+lpgzstEou6TXxMSExJyRfXt7k9ioYaUAAVGAgChAQBQgFGE0Hc6EPT09VcbOCDqjFrfepZRSp9OpjN12ucfHR4m5jGbMQjpj6zKVzmDHSvBPwEoBAqIAAVGAgChA+FVGM2YrB4OBzHGZw1gmTymlRqPx7Tu4rXduu1zMaLrSudse4MjN7v5LWClAQBQgIAoQivUUjvgb//LyInOcp4iJqpS0KuqSS65v1G3t+7+ewvkmkldQJIgCBEQBAqIAoVij6QxjTBw5o5ZrNOfm5r59h6urK4m55FKssDqjmVsRJXkFRYIoQEAUICAKEIo1ms5wxQymM5rT09MSW11dzZoXcdv9nDmM2dHFxUWZk9vjwel4UCSIAgREAQKiAKEIo+lM5fPzs8Si0XTHHbtMpevDiJlPVzq/ubnJetd4nHK73ZY5jtjHkhJGEwoFUYCAKEAo1lO439voKZwPyO3jjH4kdzueI57W61oK3DY+PAX8GhAFCIgCBEQBQhFG05GTvHIVS2c0XZIrxlxfhjtpz82LRzi7KxtcRRSjCb8GRAECogABUYBQhNF05s01D0fz6f7OHafsiIbO9YvkGsH4me4SWpfRdN+Rvg8oEkQBAqIAAVGAUKzRdBnAGHPm0GUvXXY0xlzpPOfUmpS0h8S9Q26PBxlNKBJEAQKiAKFYT+EqoDHmEj0u5q5oyDlpz/mMHE+R2zfqPBHJKygSRAECogABUYBQhNHMNVfRaOYeY+wumI0Hkrgej9wLZuNpeC7p5Uyri5VAmW8FPwqiAAFRgIAoQCjCaLosYW62MuLMmztOOcZ6vV7We7k7xObn5ytjZ0Zzs6MlwEoBAqIAAVGAgChAKMJoOpypjGYtdzueO0653+9Xxt1uV+Y4I+g+c2lpqTJ2ZtQd++yeX4L5ZKUAAVGAgChAKNZTuN/W6ClcQsjd3+UqoJeXl5WxO6nXPd/1qrZarco4t3rrfJPzLKOGlQIERAECogABUYBQrNF0RLPmeilc8sptj4tVUmdQndmNFdGU9EQ+l7zKuV4iJfo+oFAQBQiIAgREAUKxRjPnDpDBYCBzGo2GxJzJiw3G7r4wl4V0RjM2J8dn/+3varWaxDCaUCSIAgREAQKiAKEIo+kyh86ExUyhM4euBF6v1yUWzaE7ctnhnh9L887suu+T28A8algpQEAUICAKEIrwFG7bm0v2xHkuSeR8hrvTK+cAFOd1XDV1OBxWxs4/OC/i5rmK7qhhpQABUYCAKEBAFCAUYTQd8QLYlHwSKuIumHVV0pgIcwbPmU/3DtEwOlPpekmdwXbHQY8aVgoQEAUIiAIERAFCEUbTbUFzZi0eDuLmuF4QZzRzcFVMl9GMz3dNyM6guue7+85GDSsFCIgCBEQBAqIAoQij6TKHzhy22+3KeGdnR+a4cnqz2fz2M13G0TUrO3Mbs6/uWW67n8teukvwRg0rBQiIAgREAUIRniL3lLhOp1MZ7+3tyRz32727uyuxuB3P+Qf3Xm6bYNzul1OV/dvzXf/qqGGlAAFRgIAoQEAUIPwBFsBFwNgsH9AAAAAASUVORK5CYII=\" id=\"imagec5c116773c\" transform=\"scale(1 -1) translate(0 -95.76)\" x=\"351.565714\" y=\"-29.108571\" width=\"95.76\" height=\"95.76\"/>\n   </g>\n  </g>\n  <g id=\"axes_5\">\n   <g clip-path=\"url(#p06f1d39eaa)\">\n    <image xlink:href=\"data:image/png;base64,\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\" id=\"imageff9b810116\" transform=\"scale(1 -1) translate(0 -95.76)\" x=\"466.354286\" y=\"-29.108571\" width=\"95.76\" height=\"95.76\"/>\n   </g>\n  </g>\n  <g id=\"axes_6\">\n   <g clip-path=\"url(#p76f577df20)\">\n    <image xlink:href=\"data:image/png;base64,\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\" id=\"imageb27067f35f\" transform=\"scale(1 -1) translate(0 -95.76)\" x=\"581.142857\" y=\"-29.108571\" width=\"95.76\" height=\"95.76\"/>\n   </g>\n  </g>\n  <g id=\"text_1\">\n   <!-- Feature maps after Conv layer 1 -->\n   <g transform=\"translate(234.261562 16.318125) scale(0.12 -0.12)\">\n    <defs>\n     <path id=\"DejaVuSans-46\" d=\"M 628 4666 \nL 3309 4666 \nL 3309 4134 \nL 1259 4134 \nL 1259 2759 \nL 3109 2759 \nL 3109 2228 \nL 1259 2228 \nL 1259 0 \nL 628 0 \nL 628 4666 \nz\n\" transform=\"scale(0.015625)\"/>\n     <path id=\"DejaVuSans-65\" d=\"M 3597 1894 \nL 3597 1613 \nL 953 1613 \nQ 991 1019 1311 708 \nQ 1631 397 2203 397 \nQ 2534 397 2845 478 \nQ 3156 559 3463 722 \nL 3463 178 \nQ 3153 47 2828 -22 \nQ 2503 -91 2169 -91 \nQ 1331 -91 842 396 \nQ 353 884 353 1716 \nQ 353 2575 817 3079 \nQ 1281 3584 2069 3584 \nQ 2775 3584 3186 3129 \nQ 3597 2675 3597 1894 \nz\nM 3022 2063 \nQ 3016 2534 2758 2815 \nQ 2500 3097 2075 3097 \nQ 1594 3097 1305 2825 \nQ 1016 2553 972 2059 \nL 3022 2063 \nz\n\" transform=\"scale(0.015625)\"/>\n     <path id=\"DejaVuSans-61\" d=\"M 2194 1759 \nQ 1497 1759 1228 1600 \nQ 959 1441 959 1056 \nQ 959 750 1161 570 \nQ 1363 391 1709 391 \nQ 2188 391 2477 730 \nQ 2766 1069 2766 1631 \nL 2766 1759 \nL 2194 1759 \nz\nM 3341 1997 \nL 3341 0 \nL 2766 0 \nL 2766 531 \nQ 2569 213 2275 61 \nQ 1981 -91 1556 -91 \nQ 1019 -91 701 211 \nQ 384 513 384 1019 \nQ 384 1609 779 1909 \nQ 1175 2209 1959 2209 \nL 2766 2209 \nL 2766 2266 \nQ 2766 2663 2505 2880 \nQ 2244 3097 1772 3097 \nQ 1472 3097 1187 3025 \nQ 903 2953 641 2809 \nL 641 3341 \nQ 956 3463 1253 3523 \nQ 1550 3584 1831 3584 \nQ 2591 3584 2966 3190 \nQ 3341 2797 3341 1997 \nz\n\" transform=\"scale(0.015625)\"/>\n     <path id=\"DejaVuSans-74\" d=\"M 1172 4494 \nL 1172 3500 \nL 2356 3500 \nL 2356 3053 \nL 1172 3053 \nL 1172 1153 \nQ 1172 725 1289 603 \nQ 1406 481 1766 481 \nL 2356 481 \nL 2356 0 \nL 1766 0 \nQ 1100 0 847 248 \nQ 594 497 594 1153 \nL 594 3053 \nL 172 3053 \nL 172 3500 \nL 594 3500 \nL 594 4494 \nL 1172 4494 \nz\n\" transform=\"scale(0.015625)\"/>\n     <path id=\"DejaVuSans-75\" d=\"M 544 1381 \nL 544 3500 \nL 1119 3500 \nL 1119 1403 \nQ 1119 906 1312 657 \nQ 1506 409 1894 409 \nQ 2359 409 2629 706 \nQ 2900 1003 2900 1516 \nL 2900 3500 \nL 3475 3500 \nL 3475 0 \nL 2900 0 \nL 2900 538 \nQ 2691 219 2414 64 \nQ 2138 -91 1772 -91 \nQ 1169 -91 856 284 \nQ 544 659 544 1381 \nz\nM 1991 3584 \nL 1991 3584 \nz\n\" transform=\"scale(0.015625)\"/>\n     <path id=\"DejaVuSans-72\" d=\"M 2631 2963 \nQ 2534 3019 2420 3045 \nQ 2306 3072 2169 3072 \nQ 1681 3072 1420 2755 \nQ 1159 2438 1159 1844 \nL 1159 0 \nL 581 0 \nL 581 3500 \nL 1159 3500 \nL 1159 2956 \nQ 1341 3275 1631 3429 \nQ 1922 3584 2338 3584 \nQ 2397 3584 2469 3576 \nQ 2541 3569 2628 3553 \nL 2631 2963 \nz\n\" transform=\"scale(0.015625)\"/>\n     <path id=\"DejaVuSans-20\" transform=\"scale(0.015625)\"/>\n     <path id=\"DejaVuSans-6d\" d=\"M 3328 2828 \nQ 3544 3216 3844 3400 \nQ 4144 3584 4550 3584 \nQ 5097 3584 5394 3201 \nQ 5691 2819 5691 2113 \nL 5691 0 \nL 5113 0 \nL 5113 2094 \nQ 5113 2597 4934 2840 \nQ 4756 3084 4391 3084 \nQ 3944 3084 3684 2787 \nQ 3425 2491 3425 1978 \nL 3425 0 \nL 2847 0 \nL 2847 2094 \nQ 2847 2600 2669 2842 \nQ 2491 3084 2119 3084 \nQ 1678 3084 1418 2786 \nQ 1159 2488 1159 1978 \nL 1159 0 \nL 581 0 \nL 581 3500 \nL 1159 3500 \nL 1159 2956 \nQ 1356 3278 1631 3431 \nQ 1906 3584 2284 3584 \nQ 2666 3584 2933 3390 \nQ 3200 3197 3328 2828 \nz\n\" transform=\"scale(0.015625)\"/>\n     <path id=\"DejaVuSans-70\" d=\"M 1159 525 \nL 1159 -1331 \nL 581 -1331 \nL 581 3500 \nL 1159 3500 \nL 1159 2969 \nQ 1341 3281 1617 3432 \nQ 1894 3584 2278 3584 \nQ 2916 3584 3314 3078 \nQ 3713 2572 3713 1747 \nQ 3713 922 3314 415 \nQ 2916 -91 2278 -91 \nQ 1894 -91 1617 61 \nQ 1341 213 1159 525 \nz\nM 3116 1747 \nQ 3116 2381 2855 2742 \nQ 2594 3103 2138 3103 \nQ 1681 3103 1420 2742 \nQ 1159 2381 1159 1747 \nQ 1159 1113 1420 752 \nQ 1681 391 2138 391 \nQ 2594 391 2855 752 \nQ 3116 1113 3116 1747 \nz\n\" transform=\"scale(0.015625)\"/>\n     <path id=\"DejaVuSans-73\" d=\"M 2834 3397 \nL 2834 2853 \nQ 2591 2978 2328 3040 \nQ 2066 3103 1784 3103 \nQ 1356 3103 1142 2972 \nQ 928 2841 928 2578 \nQ 928 2378 1081 2264 \nQ 1234 2150 1697 2047 \nL 1894 2003 \nQ 2506 1872 2764 1633 \nQ 3022 1394 3022 966 \nQ 3022 478 2636 193 \nQ 2250 -91 1575 -91 \nQ 1294 -91 989 -36 \nQ 684 19 347 128 \nL 347 722 \nQ 666 556 975 473 \nQ 1284 391 1588 391 \nQ 1994 391 2212 530 \nQ 2431 669 2431 922 \nQ 2431 1156 2273 1281 \nQ 2116 1406 1581 1522 \nL 1381 1569 \nQ 847 1681 609 1914 \nQ 372 2147 372 2553 \nQ 372 3047 722 3315 \nQ 1072 3584 1716 3584 \nQ 2034 3584 2315 3537 \nQ 2597 3491 2834 3397 \nz\n\" transform=\"scale(0.015625)\"/>\n     <path id=\"DejaVuSans-66\" d=\"M 2375 4863 \nL 2375 4384 \nL 1825 4384 \nQ 1516 4384 1395 4259 \nQ 1275 4134 1275 3809 \nL 1275 3500 \nL 2222 3500 \nL 2222 3053 \nL 1275 3053 \nL 1275 0 \nL 697 0 \nL 697 3053 \nL 147 3053 \nL 147 3500 \nL 697 3500 \nL 697 3744 \nQ 697 4328 969 4595 \nQ 1241 4863 1831 4863 \nL 2375 4863 \nz\n\" transform=\"scale(0.015625)\"/>\n     <path id=\"DejaVuSans-43\" d=\"M 4122 4306 \nL 4122 3641 \nQ 3803 3938 3442 4084 \nQ 3081 4231 2675 4231 \nQ 1875 4231 1450 3742 \nQ 1025 3253 1025 2328 \nQ 1025 1406 1450 917 \nQ 1875 428 2675 428 \nQ 3081 428 3442 575 \nQ 3803 722 4122 1019 \nL 4122 359 \nQ 3791 134 3420 21 \nQ 3050 -91 2638 -91 \nQ 1578 -91 968 557 \nQ 359 1206 359 2328 \nQ 359 3453 968 4101 \nQ 1578 4750 2638 4750 \nQ 3056 4750 3426 4639 \nQ 3797 4528 4122 4306 \nz\n\" transform=\"scale(0.015625)\"/>\n     <path id=\"DejaVuSans-6f\" d=\"M 1959 3097 \nQ 1497 3097 1228 2736 \nQ 959 2375 959 1747 \nQ 959 1119 1226 758 \nQ 1494 397 1959 397 \nQ 2419 397 2687 759 \nQ 2956 1122 2956 1747 \nQ 2956 2369 2687 2733 \nQ 2419 3097 1959 3097 \nz\nM 1959 3584 \nQ 2709 3584 3137 3096 \nQ 3566 2609 3566 1747 \nQ 3566 888 3137 398 \nQ 2709 -91 1959 -91 \nQ 1206 -91 779 398 \nQ 353 888 353 1747 \nQ 353 2609 779 3096 \nQ 1206 3584 1959 3584 \nz\n\" transform=\"scale(0.015625)\"/>\n     <path id=\"DejaVuSans-6e\" d=\"M 3513 2113 \nL 3513 0 \nL 2938 0 \nL 2938 2094 \nQ 2938 2591 2744 2837 \nQ 2550 3084 2163 3084 \nQ 1697 3084 1428 2787 \nQ 1159 2491 1159 1978 \nL 1159 0 \nL 581 0 \nL 581 3500 \nL 1159 3500 \nL 1159 2956 \nQ 1366 3272 1645 3428 \nQ 1925 3584 2291 3584 \nQ 2894 3584 3203 3211 \nQ 3513 2838 3513 2113 \nz\n\" transform=\"scale(0.015625)\"/>\n     <path id=\"DejaVuSans-76\" d=\"M 191 3500 \nL 800 3500 \nL 1894 563 \nL 2988 3500 \nL 3597 3500 \nL 2284 0 \nL 1503 0 \nL 191 3500 \nz\n\" transform=\"scale(0.015625)\"/>\n     <path id=\"DejaVuSans-6c\" d=\"M 603 4863 \nL 1178 4863 \nL 1178 0 \nL 603 0 \nL 603 4863 \nz\n\" transform=\"scale(0.015625)\"/>\n     <path id=\"DejaVuSans-79\" d=\"M 2059 -325 \nQ 1816 -950 1584 -1140 \nQ 1353 -1331 966 -1331 \nL 506 -1331 \nL 506 -850 \nL 844 -850 \nQ 1081 -850 1212 -737 \nQ 1344 -625 1503 -206 \nL 1606 56 \nL 191 3500 \nL 800 3500 \nL 1894 763 \nL 2988 3500 \nL 3597 3500 \nL 2059 -325 \nz\n\" transform=\"scale(0.015625)\"/>\n     <path id=\"DejaVuSans-31\" d=\"M 794 531 \nL 1825 531 \nL 1825 4091 \nL 703 3866 \nL 703 4441 \nL 1819 4666 \nL 2450 4666 \nL 2450 531 \nL 3481 531 \nL 3481 0 \nL 794 0 \nL 794 531 \nz\n\" transform=\"scale(0.015625)\"/>\n    </defs>\n    <use xlink:href=\"#DejaVuSans-46\"/>\n    <use xlink:href=\"#DejaVuSans-65\" transform=\"translate(52.019531 0)\"/>\n    <use xlink:href=\"#DejaVuSans-61\" transform=\"translate(113.542969 0)\"/>\n    <use xlink:href=\"#DejaVuSans-74\" transform=\"translate(174.822266 0)\"/>\n    <use xlink:href=\"#DejaVuSans-75\" transform=\"translate(214.03125 0)\"/>\n    <use xlink:href=\"#DejaVuSans-72\" transform=\"translate(277.410156 0)\"/>\n    <use xlink:href=\"#DejaVuSans-65\" transform=\"translate(316.273438 0)\"/>\n    <use xlink:href=\"#DejaVuSans-20\" transform=\"translate(377.796875 0)\"/>\n    <use xlink:href=\"#DejaVuSans-6d\" transform=\"translate(409.583984 0)\"/>\n    <use xlink:href=\"#DejaVuSans-61\" transform=\"translate(506.996094 0)\"/>\n    <use xlink:href=\"#DejaVuSans-70\" transform=\"translate(568.275391 0)\"/>\n    <use xlink:href=\"#DejaVuSans-73\" transform=\"translate(631.751953 0)\"/>\n    <use xlink:href=\"#DejaVuSans-20\" transform=\"translate(683.851562 0)\"/>\n    <use xlink:href=\"#DejaVuSans-61\" transform=\"translate(715.638672 0)\"/>\n    <use xlink:href=\"#DejaVuSans-66\" transform=\"translate(776.917969 0)\"/>\n    <use xlink:href=\"#DejaVuSans-74\" transform=\"translate(810.373047 0)\"/>\n    <use xlink:href=\"#DejaVuSans-65\" transform=\"translate(849.582031 0)\"/>\n    <use xlink:href=\"#DejaVuSans-72\" transform=\"translate(911.105469 0)\"/>\n    <use xlink:href=\"#DejaVuSans-20\" transform=\"translate(952.21875 0)\"/>\n    <use xlink:href=\"#DejaVuSans-43\" transform=\"translate(984.005859 0)\"/>\n    <use xlink:href=\"#DejaVuSans-6f\" transform=\"translate(1053.830078 0)\"/>\n    <use xlink:href=\"#DejaVuSans-6e\" transform=\"translate(1115.011719 0)\"/>\n    <use xlink:href=\"#DejaVuSans-76\" transform=\"translate(1178.390625 0)\"/>\n    <use xlink:href=\"#DejaVuSans-20\" transform=\"translate(1237.570312 0)\"/>\n    <use xlink:href=\"#DejaVuSans-6c\" transform=\"translate(1269.357422 0)\"/>\n    <use xlink:href=\"#DejaVuSans-61\" transform=\"translate(1297.140625 0)\"/>\n    <use xlink:href=\"#DejaVuSans-79\" transform=\"translate(1358.419922 0)\"/>\n    <use xlink:href=\"#DejaVuSans-65\" transform=\"translate(1417.599609 0)\"/>\n    <use xlink:href=\"#DejaVuSans-72\" transform=\"translate(1479.123047 0)\"/>\n    <use xlink:href=\"#DejaVuSans-20\" transform=\"translate(1520.236328 0)\"/>\n    <use xlink:href=\"#DejaVuSans-31\" transform=\"translate(1552.023438 0)\"/>\n   </g>\n  </g>\n </g>\n <defs>\n  <clipPath id=\"p5247b11eca\">\n   <rect x=\"7.2\" y=\"29.211429\" width=\"95.657143\" height=\"95.657143\"/>\n  </clipPath>\n  <clipPath id=\"p47a1bb6ca7\">\n   <rect x=\"121.988571\" y=\"29.211429\" width=\"95.657143\" height=\"95.657143\"/>\n  </clipPath>\n  <clipPath id=\"p915999d3df\">\n   <rect x=\"236.777143\" y=\"29.211429\" width=\"95.657143\" height=\"95.657143\"/>\n  </clipPath>\n  <clipPath id=\"p1c3dde4197\">\n   <rect x=\"351.565714\" y=\"29.211429\" width=\"95.657143\" height=\"95.657143\"/>\n  </clipPath>\n  <clipPath id=\"p06f1d39eaa\">\n   <rect x=\"466.354286\" y=\"29.211429\" width=\"95.657143\" height=\"95.657143\"/>\n  </clipPath>\n  <clipPath id=\"p76f577df20\">\n   <rect x=\"581.142857\" y=\"29.211429\" width=\"95.657143\" height=\"95.657143\"/>\n  </clipPath>\n </defs>\n</svg>\n"
          },
          "metadata": {}
        },
        {
          "output_type": "display_data",
          "data": {
            "text/plain": [
              "<Figure size 3200x200 with 16 Axes>"
            ],
            "image/svg+xml": "<?xml version=\"1.0\" encoding=\"utf-8\" standalone=\"no\"?>\n<!DOCTYPE svg PUBLIC \"-//W3C//DTD SVG 1.1//EN\"\n  \"http://www.w3.org/Graphics/SVG/1.1/DTD/svg11.dtd\">\n<svg xmlns:xlink=\"http://www.w3.org/1999/xlink\" width=\"1800pt\" height=\"131.229474pt\" viewBox=\"0 0 1800 131.229474\" xmlns=\"http://www.w3.org/2000/svg\" version=\"1.1\">\n <metadata>\n  <rdf:RDF xmlns:dc=\"http://purl.org/dc/elements/1.1/\" xmlns:cc=\"http://creativecommons.org/ns#\" xmlns:rdf=\"http://www.w3.org/1999/02/22-rdf-syntax-ns#\">\n   <cc:Work>\n    <dc:type rdf:resource=\"http://purl.org/dc/dcmitype/StillImage\"/>\n    <dc:date>2025-09-12T14:49:16.772368</dc:date>\n    <dc:format>image/svg+xml</dc:format>\n    <dc:creator>\n     <cc:Agent>\n      <dc:title>Matplotlib v3.10.0, https://matplotlib.org/</dc:title>\n     </cc:Agent>\n    </dc:creator>\n   </cc:Work>\n  </rdf:RDF>\n </metadata>\n <defs>\n  <style type=\"text/css\">*{stroke-linejoin: round; stroke-linecap: butt}</style>\n </defs>\n <g id=\"figure_1\">\n  <g id=\"patch_1\">\n   <path d=\"M 0 131.229474 \nL 1800 131.229474 \nL 1800 0 \nL 0 0 \nz\n\" style=\"fill: #ffffff\"/>\n  </g>\n  <g id=\"axes_1\">\n   <g clip-path=\"url(#p4dba5f7159)\">\n    <image xlink:href=\"data:image/png;base64,\niVBORw0KGgoAAAANSUhEUgAAAIMAAACDCAYAAACunahmAAAFeUlEQVR4nO2dSU4jQRBF05jZxiBsJAQSQiw5EhyPPUdAHIIzICZLzIOZevcXnT+kSpWr2mq9twxFlavRV+pHdGRmZzKZ/KaW+P7+tvHPz88s9vz8bHMvLi6y2Onpqc09OzvLYtvb21ns+PjYPn94eJjFzs/Pbe7JyUkW+/n5sbnu946OjmzuwcGBjTvc33dubq7y89Uz4b8HMYBADCAQA4j5Nn/s99d7VRd3pjIlbyzH47HNfXl5yWILCwtZbH193T6/urqaxSIT/PHxkcU6nY7NdabOfVeUG31DXVgZQCAGEIgBBGIAgRhANFZNuAohqiZc23Yymdjcx8fHSrHovYPBIIttbGzY5+fn8z/P19eXzXXxlZUVm+sqh263a3OjisQR/X2rwsoAAjGAQAwgEAOIVtvR0f/vu/j7+7vNdWbRtZ1TSmlxcTGLbW5uZjFnKiMiY+vMmzOgKXkDGRnFuqawBFYGEIgBBGIAgRhAIAYQrbajS3LdsEhKKT09PWWxaBCm3+9nsdFoVCkvpbI2ucNVMyn5KqOk7RxR9x2sDCAQAwjEAAIxgGi1HR3hDGRk1N7e3iq/180pDIfDLBbNHTw8PGSxyKy6KeYSA1myDa6pFjUrAwjEAAIxgEAMIBADiFbb0ZFjLqkmXJs6mix2QytuuCVy/W7iOZqOdu+I2tyueplGO7ourAwgEAMIxAACMYBo1UBG09Hu8InIQLp2cDSFvLa2VikWPe9+Kzoow5nCkkNAIhPcJqwMIBADCMQAAjGAQAwgalcTdaegU/KVQ7TX0rWjozb30tJSFitx8u67omrCVSmu9Z1SSr1eL4uVDLc0tS+TlQEEYgCBGEAgBhAzcXa0M4Wvr682N5pOdrg2s5s7iAxZiYGsupUvJW8gmWeAmQIxgEAMIBADCMQAYmariWhPpasmSm64ca695Luiasa1uaMjBV2bvOTf0BSsDCAQAwjEAAIxgGhsnqGkvepMWTTP4La3ldyxXTWWkjexUa5rcztTmZKfXYgmxzGQ8E9ADCAQAwjEAAIxgJiJo/9K9lqWHKDhBmTcxeouFsWjKsfttYz2cDpKqommBmFYGUAgBhCIAQRiANGYgSwxOc48RaawJNddVHJzc5PF7u7u7PP39/dZLLo20V1PWHL3d2QgS+DyEZgaiAEEYgCBGEC0Os9Qcq5ANKPgiAykM4CXl5dZbGtryz5/e3ubxSID6c5nKLn7exoGsi6sDCAQAwjEAAIxgEAMIGZinqGEku1xrh3tqgl35WFKKV1dXWWxqJpw1U/JWdklcJUhNA5iAIEYQCAGEDNrICOTVHKsrjN7zkBG2+Cur68rvTOlshZz1D7/17AygEAMIBADCMQAAjGAmIlqwlUOkeN2rdyoveu2wrkKYXl52T7vcqNtf+4booM9XHwawy11t+KxMoBADCAQAwjEAKK2gZzGWQHO+ETmy5nCyNS53PF4nMXcSW0p+enqElPojhuO4kxHw0yBGEAgBhCIAQRiANFqOzoaTHHxqB3tTmCLBk6ik9n+xh20Eb03cv0l51+XXMfo4LQ3aBzEAAIxgEAMIFo1kN1u18ZL7qd2F4JEN905E+pMXXRcsHs+OgLYGcvIKDrDHL3X5bK9DhoHMYBADCAQAwjEAKLV4ZaomnB7HaP9j45oOrrqt5W4/qh1XVIhuGlsdz929N66h31EsDKAQAwgEAMIxACisXa0a5lGhsqduzwajWyuO5ltMBjYXGf2nKmMzJv73l6vV/u7XK67/S6lstPtuHwEpgZiAIEYQCAGEIgBxExMR/f7/Sy2s7Njc/f397NYNIXs9mCW3JDjqoyoTb63t5fFdnd3be5wOKz0WxEMt0DjIAYQiAEEYgDxB/KKYhYur/3EAAAAAElFTkSuQmCC\" id=\"image8c7cc32a1b\" transform=\"scale(1 -1) translate(0 -94.32)\" x=\"7.2\" y=\"-29.709474\" width=\"94.32\" height=\"94.32\"/>\n   </g>\n  </g>\n  <g id=\"axes_2\">\n   <g clip-path=\"url(#pa9ffc571cf)\">\n    <image xlink:href=\"data:image/png;base64,\niVBORw0KGgoAAAANSUhEUgAAAIMAAACDCAYAAACunahmAAAFVElEQVR4nO3dS07jQBSF4QoB8oCEIAFiB+yDKStgrwwYMGQLTBBIgEAkAcIbenYmda6UUrBjtf5veGUcg05bt25X7NZkMvlNNfn+/rb19/f3rHZzc2OPPT8/z2onJyf22IuLi6x2cHCQ1Q4PD+3Pb2xsZLXT01N77NnZWVbb3d21xx4fH2e1o6Mje+z+/n5W+/j4sMdG9XmtLPTT+K8QBghhgBAGyOqyLyCllL6+vrLa29ubPXY8Hme1h4cHe+xsNstqrVYrq62vr9ufb7fbWc01u9FnfX5+2mN/f/Oe3X1WSimtrOT/Xt3v8Be4M0AIA4QwQAgDhDBAKltNuI7Z1VJK6efnJ6u9vr7aY6fTaVZ7fn6e+7rciHkwGMx9XSW/g1sJpJTS6mr+Z49WEyXctZWsPLgzQAgDhDBACAOk1nG0a7JS8mPbl5cXe+zT01NWi/4fv9vtZrWtra2s5prK6LOiEbOztrZm666BLGn0oiZ2UdwZIIQBQhgghAFCGCCNGEe7Dt1tFknJrzKiVcrm5mZWG41GWc2tOlLyG2ncRpxIVauJqnBngBAGCGGAEAZIY8fR0e5otzs52gvgRs+uFu2Ods1iSQPpGsWUyvYuVDV6drgzQAgDhDBACAOEMEAa8V1L9xCPaMOKW3lEY183eh4Oh1kt6vrdyiF64Ig7R6fTmfvYSMlYf1HcGSCEAUIYIIQBUut+hmgc7ZqykrFvr9ezddcsulo0HnbXFTVv/X4/q0W7rqPxt8M4GktBGCCEAUIYIIQBsvBqIup2XT0a5boRc7SacOeNunPXzbuuP3qohruGaBez24ntVi4pxWNqh3E0loIwQAgDhDBAah1Hl7x8JHpGsztH1AC6fQ4lo2D3WdHo2jWL29vb9lg3Po8aU8bRWArCACEMEMIAIQyQWlcT0YjZfa8yena0O0fJM5qjYx23moi6fvf8abc7O6V4M47DagJLQRgghAFCGCCV7Wdwot3Ri46jo/POuxcgGpOX7Gco2R0dfR3QKfn7LvrEOO4MEMIAIQwQwgAhDJBGPPrPde0lD+uIVgPuHG6VEm14cZ8V/Q5u9B2d143E6xw7R7gzQAgDhDBACAOk1gYyapJcAxi9MtA1cFGz6V5FOJlMslo0xnXNZrQnw52jZO9EydcUq8KdAUIYIIQBQhggjXhcsGsKS/YYRJtnHx8fs9rt7W1Wi5rVkvdulzxHoeTYOt9qx50BQhgghAFCGCCEAdKI1YQTdddu5RG99vD+/j6rXV1dZbWS1Uj0We66Sn6HJuDOACEMEMIAIQyQxjaQJaKv4rkG8PLyMqvNZjP7864BjUbXJSNmGkg0HmGAEAYIYYAQBsh/sZqIunO3E/r6+jqrRauJ8Xic1UpWEyWvbmRzCxqFMEAIA4QwQBrRQJY8WrjkTXdu78Hd3V1Wi3Y8u8Yy+sqcawqjHd5RfV5VNZXcGSCEAUIYIIQBQhggC68m/qKzLdnx7Dr8aJzszlHy7GhX73a79li3IolWKW71w9Pe0CiEAUIYIIQBUus4uuTpZ9G+gel0mtXcQzWic5S8kc5dr3sscEplDWTJNTglDwEpOS93BghhgBAGCGGAEAZIZauJkk48ekmH40bM0Th63u46Gn2XXFfJdy3b7XZWK1lpVWX5V4DGIAwQwgAhDJDK9jO4evQOaPfO6Og90q4JXfR90SWNXkkTHDWgnU5n7vM6VT3sgzsDhDBACAOEMEAIA6SycbTr2qPuejAYZLW9vT177M7OTlZzG15S8qsE18lH19Xv97PaaDSyx7r6cDi0x/Z6vazmVi51484AIQwQwgAhDJB/BDlxXsH8MDEAAAAASUVORK5CYII=\" id=\"image31d66c4d73\" transform=\"scale(1 -1) translate(0 -94.32)\" x=\"119.974737\" y=\"-29.709474\" width=\"94.32\" height=\"94.32\"/>\n   </g>\n  </g>\n  <g id=\"axes_3\">\n   <g clip-path=\"url(#pfa0a4285af)\">\n    <image xlink:href=\"data:image/png;base64,\niVBORw0KGgoAAAANSUhEUgAAAIMAAACDCAYAAACunahmAAAFaklEQVR4nO2dOVIrSxREm0EPEAgxGGwEl4CtsEAWgcMW8LBQyBCDGMXM99KpzB+qEBJ6L84xb1SXujuSiryX21ULFxcX382M+Pr6svHRaFTELi8v7dizs7Midnp6asc+Pz8XsaOjoyJ2eHhor7++vi5iJycnduz5+XkROzg4sGOPj4+L2P7+vh379vZWxIbDoR37/v5exJaWluxYx+LYI+GfBzGAQAwgEAOI5Vn+2Pe396rO+Nzd3dmx/X6/iPV6PTu21WqNFVtbW7PXv76+FrHBYGDH3t7eFjH3XOkeVlZW7NiPj48ilt5jio8LKwMIxAACMYBADCAQA4iZZhOpHO1c9/39vR3r3Hwau7e3V8S63W4RS9mEKwW70nnT1JWCXTaxuDj+3+WkWUOClQEEYgCBGEAgBhBTM5DO5CQD6cq+yRS6MvXn56cdu7m5WcR2dnaK2J8/f+z1zkC6e20abwDTvDU9BtMyiw5WBhCIAQRiAIEYQCAGEHNRjnYO/fHx0Y518eVl/xi7u7tFbHt7u4ilUrC7L9dsku6hJpuYVsNKDawMIBADCMQAAjGAmGk5OpWNX15eitjT05Md6wxc6kdwBtKVqBPuvn7CQC4sLBSxnzCKbt4aWBlAIAYQiAEEYgCBGEDMRTbhyr7Oyad5O52OHetKz+12e6L7Sq7ffSu5urpqx7ruaMrRMFcgBhCIAQRiADEX/Qzu0zTXmdw0vuS6sbFhxzoD6UrXaVONGgPpjKmLNY3vZ0jvBgMJvwJiAIEYQCAGEIgBxFyUo13mUNNEksrRLstwpWC3x3TT+GwidVK7ppmU5bhsIr0bsgn4FRADCMQAAjGAmNhAJoPjyqvJFNYYSGe+Ut+AizsDmH7LxVPHsyt9p05s9wzpHlKZehqwMoBADCAQAwjEAAIxgJhaOdq54NRE4jqha5pbksN3pWuXTaRScE024bYUTGVy9wwpm3DZ2qTfVCZYGUAgBhCIAQRiADG1crSLJ5NUs6uao2YvZmcWk7F1z5AMpCs9p01E3LzpHmrK0WzWAT8GYgCBGEAgBhCIAcRMy9E12URy1zW433O/lU6Xcdenfapd5pAyD/duUkl8WqVnBysDCMQAAjGAQAwg5uLzOmfUav6/n8ym+2zu4eFhrHH/N6/DGctk/twzpLI+BhJ+BcQAAjGAQAwgZrrbWzKQLl4zNm0t7M7Nvrm5KWLp3G1XmUz9BTVGz80xy30YEqwMIBADCMQAAjGAQAwgptYdPekcybW7MnUqJ19dXRWxfr9fxIbDob1+NBoVsZrnrdnIZJZl5wQrAwjEAAIxgEAMIGZajq6hxnylc7MHg0ER6/V6RSwZUDdvMnqTlqMT9DPAr4AYQCAGEIgBBGIA8ddlEzWd1C6bcGdWp+tdOTptDOJ2kUtZg2vQoRwNcwViAIEYQCAGEP+EgUz7KzhT54xaMm9u3nSgSM3udjU72dXc76SwMoBADCAQAwjEAAIxgJg4m6jZkCJRswGH+64yNae4sq8rEadd2ZzrT2dhu99KWY67hzRvTeYwaac6KwMIxAACMYBADCCmVo6uMT415st1LLu+gzSvI52lXYMzvKns7N5NzQEq09rYg5UBBGIAgRhAIAYQiAHETLOJms7i5MRdNlHT3OLO2E6Zj+ukTrjMJbl+V/5Oh5rUNMJMCisDCMQAAjGAQAwgptbP4MxbMkmtVmus65umzqi5OcbtmG4af7/uXlM8GVB30l0y187wTuugElYGEIgBBGIAgRhAIAYQM80mUhdyu90uYuvr63asc+LJ4Xc6nbHmTZmL+66y2+3asVtbW2Nd3zT+GRKuk7pm68AaWBlAIAYQiAEEYgDxHxL0hC3WKNQ6AAAAAElFTkSuQmCC\" id=\"image3cd97568db\" transform=\"scale(1 -1) translate(0 -94.32)\" x=\"232.749474\" y=\"-29.709474\" width=\"94.32\" height=\"94.32\"/>\n   </g>\n  </g>\n  <g id=\"axes_4\">\n   <g clip-path=\"url(#p33391ece85)\">\n    <image xlink:href=\"data:image/png;base64,\niVBORw0KGgoAAAANSUhEUgAAAIMAAACDCAYAAACunahmAAAFT0lEQVR4nO3dSU4rSxCF4aDvW9GIJbALhsxZMCMk2AZCRgIBNhjTw5udSZ6QnPKtcunp/4aptCm4R6WIvFlZM9fX13/Rko+PDzve6/WKsaurKzv3/Py8GLu9vbVzj4+Pi7GTk5NibHFx0X7+4uKiGLu8vLRzj46OirGzszM79/T0tBg7PDy0c9/e3oqx19dXO/fvb7J/ytmJPo3/FcIAIQwQwgCZb+qLXTHz8/Nj545Go2Ls8fHRzr2/vy/GhsOhnTs7W2Z9eXl5rHkREZ+fn8WYu9YIXxzPzMzYuUtLS8VYVsRmRbfj/ubZNTjcGSCEAUIYIIQBQhggrXYTX19fdq5bXu33+3Zu1jk4a2trY41l1+XGs47ImZubs+Pz8+WfPeto2jT9K0BnEAYIYYAQBkhnC8iXlxc7133HysqKnbu9vV2MuQJyMBjYz39/fxdj2Z4BVywuLCzYuTVLxJPuUajBnQFCGCCEAUIYIIQB0lg38fv7W4y5zSIRvpvINpE4m5ubdnxnZ6cYc53H09OT/bzrXLLq3i0xu7EI30202TVkuDNACAOEMEAIA6QTy9HuEbL393c71y3xbm1t2bluOdrtQs72KLjrzZaSmyogWY7GVBAGCGGAEAYIYYC0uhztNotE+GVq9/kI/6yk6xoifJfhKvysy3FdRtYhuOvKNrd0YSe0082rwlQQBghhgBAGyMQFZLZc6grAmsfYsu91B11k+xnW19eLMbcUnO2zcL9DdqjG6upqMfYvdke3iTsDhDBACAOEMEAIA6SxbsIt5dZ0ExlXobtKPsIvETtZN+GqftehRPiOJvv57nuz5Xc2t2AqCAOEMEAIA6SxAtLtXcjOQXYFXPa9roDMCjU3t2bXdk0B6fZUuKXz7BooINEphAFCGCCEAUIYIJ3oJtx4Vl27I/ayM5pdN+CWybNd2zXdhNuJnW2EcX+z7BroJjAVhAFCGCCEAdLqfoZs34ArILMDNLLH28a9NleoZdflZEvfbk9Fdq3ud8seucsK6SZwZ4AQBghhgBAGCGGAtHpYR83u6Jol4ux73fGBNYd1uG4k6xDc0nNNh1DzisSmcGeAEAYIYYAQBkirBWRWJNXsMXDcy0siIp6fn4sxt2PanV2dXUO2/D7p6wnZHY1OIQwQwgAhDJDGCkin5mS4rKByq4r9ft/Ovbu7K8bc2+uGw6H9vFuZrCn0aoq/f1GYToo7A4QwQAgDhDBACAOk1VcZ1ryur6abyN5l3ev1ijH3eFzWjdScaT3p79uF86S5M0AIA4QwQAgDpNXl6ExN8eQehXt4eLBzb25uijF3rK/b9xDh9zN0odBrCncGCGGAEAYIYYAQBkgnNrfULOW6biJbTnbdhDuVbTAY2M/XHKpRs6Te5gEcNbgzQAgDhDBACAOkEwWk2zeQnZngCsjstDZX7I1Go2LM7ZGI8EvP2XK0KzZrCsguLHNzZ4AQBghhgBAGCGGATNxNZFVwzfueXefgqv4If7BGzfOPNedEr62tjfWdEc11EzxriakgDBDCACEMkMYKyOz//R23Czk7gc0VlpPuk8heKDJpUZhxb9vL/l4UkJgKwgAhDBDCACEMkMa6CfeSjuzd0E7Ne7OzSnzcM6lr3rud/Sw3nr2oxJ1fTTeBTiEMEMIAIQyQxgpIVyy690VH+POcs+LLFVpZYeqWmccdy64r+x3c3gf3+Qh/va5YbRt3BghhgBAGCGGAEAZIY92EW3Ld2Niwc/f29sYai/DLyVk34M6JdnOzDmF/f78YOzg4sHN3d3fH+vkRvpuoeUtPU7gzQAgDhDBACAPkP/UxaxmAbc8sAAAAAElFTkSuQmCC\" id=\"image619bfeb088\" transform=\"scale(1 -1) translate(0 -94.32)\" x=\"345.524211\" y=\"-29.709474\" width=\"94.32\" height=\"94.32\"/>\n   </g>\n  </g>\n  <g id=\"axes_5\">\n   <g clip-path=\"url(#p74d362f5f7)\">\n    <image xlink:href=\"data:image/png;base64,\niVBORw0KGgoAAAANSUhEUgAAAIMAAACDCAYAAACunahmAAAFS0lEQVR4nO2dyU0kQRBFk31fBQ7gAnZgBw5wxhPu+IEFuAAHLoilBc0Oc/uX/F/qVE8VNaP3jqGkq7r1JxUR8zNy5vT09Kf0xMfHh43f3t5WscvLS7v2+vq6ih0eHtq1x8fHVezg4KCKnZ+f278/OzurYjs7O3btyclJFTs6OrJrb25uqtjFxYVde3V1VcVmZmbs2oWFBRuflNmp/hr+KxADCMQAAjGAmO/zYd/f3zY+Ho+r2OPjo137+vpaxVZXV+3avb29Kra2tlbFUmL79PRUxTY3N+3alZWVide67zY7+/v/Ln//DWAwIAYQiAEEYgCBGEB0Vk38/NRd7q+vL7vWVRPPz892rWvF7u7u2rWudeyydvf8UnzlkrL+5eXlKpbaw3NzczbucL9jakdPCzsDCMQAAjGAQAwgek0gPz8/7VqXwL29vdm1ru27v79v17rWs/vc0Whk/9697+Liol3b4iVwiXRq1fcJOwMIxAACMYBADCAQA4heq4lkInGt59S63tjYqGLOxFJKKUtLS1Xs7u6uiiUjjcvw3WeW4quJVCG4KsX9Xn3DzgACMYBADCAQA4jOEkiXPL2/v9u1zjeQ/s9+e3u7iqUjb8574FrPyTvhcL6FUrxHISXBtKNh8CAGEIgBBGIAgRhA9HrWMrWjXXt2ft6/mqsc0plGl6G7aiK5o12F4Mw1aW36vin+27AzgEAMIBADCMQAYhDuaBdPbuOtra0q5lzQ6R1aEkj3Duvr63atSyCTw9u15ZOfoaujdA52BhCIAQRiAIEYQCAGEFNXEykLdgaOljZsciG7bD6tde1oN87PmWtK8UYW584uxVcTLy8vdq17HtUEDArEAAIxgEAMIDpLIF2LObmjHSkpdEld8j64BNI5oVMC6bwLabKcSyCT69q1qVuO13U1Z5qdAQRiAIEYQCAGEIgBRGfmFldNtLSjW0bstWTXLpNP7+WqCXfWM71DqiZcm5phHTAoEAMIxAACMYDoNYH8G+1o13puSb5aBmW0XE/ofAfJz9Diju7zikN2BhCIAQRiAIEYQCAGEL2O/mtpRyfDisva0xnOScfpJQeyM9KkYR2OdNaS2dEweBADCMQAAjGAGEQC6ZKndF+0aye3JGouWUzJqmuJpza5I82OHsKcaAc7AwjEAAIxgEAMIHqd9vY3umzOC+BmLpTiE0uXmKYLRVy3MU2hG2pS2AI7AwjEAAIxgEAMIBADiH+umnCDNdJd1q7KcG7jNHvaTZZL1cQQhm1MyzDfCn4FxAACMYBADCB6vb0u4TwGyaTqEsj7+3u79uHhYaLnpxHA7ihdVwlkn2OBE+wMIBADCMQAAjGAQAwgeq0mkgHEZeKpZesc1qkd7aoM9yx3PWIpfrJbSzWRKgRnsElr3W/G7GjoHMQAAjGAQAwgBtGOdsfQUnt30gtFSvHtaPesNMHNJZbp2F/LEcGWBLJP2BlAIAYQiAEEYgCBGEB0Vk247Di1o935yTTBzZGGgIxGo4newbmgS/Gu6VTltFQTuKNh8CAGEIgBBGIAMXUCmdqoLklKCaS7pGM8Hk/8Dimpc05q9w7peJ27QS99h5Ypcu63YVwwDArEAAIxgEAMIBADiM6qCdeKTe1ZN6IvGVYmfVYpvqXtMvk0+s99bqomWr6vYwijA9kZQCAGEIgBBGIA0ZmfoeXiDpc8pXa0cze3OJZdLLWNHSnRaxnA4RLbdFGJoysnNTsDCMQAAjGAQAwgEAOIztrRbqhFMpG4KqPlrGV6B/cZLcMvWrJ296zk8HammxY3eFewM4BADCAQAwjEAOIP42Ul0VUJgUsAAAAASUVORK5CYII=\" id=\"image582d038bd1\" transform=\"scale(1 -1) translate(0 -94.32)\" x=\"458.298947\" y=\"-29.709474\" width=\"94.32\" height=\"94.32\"/>\n   </g>\n  </g>\n  <g id=\"axes_6\">\n   <g clip-path=\"url(#p78d5eff248)\">\n    <image xlink:href=\"data:image/png;base64,\niVBORw0KGgoAAAANSUhEUgAAAIMAAACDCAYAAACunahmAAAFRklEQVR4nO2dyUpsSxRE017LEkGxQSeOBQeO/XTBb/AHHDgQUUTs++bNAh4Z4avEW+ceHmsNN3lO5bnETWJvd2ZOTE1NfZeOmJ6etvHhcFjFtre37dj9/f0qdnBwYMfu7OxUsYuLiyp2fHxsn7+/v69iu7u7duze3l4Ve3p6smOPjo6q2OHhoR17cnJSxV5eXuzYiYmJkWKJyZFHwv8exAACMYBADCC8oxsTycw4Yzk/P2/HLi0tjRQrpZS5ubkq9vX1VcWSIXt/f69i6RtmZmaq2OSk/7/2/V179o+PDzvWzdc9/9PcRoWVAQRiAIEYQCAGEIgBxNiyCedsk7t2TnxhYcGOdaXrNNa5blciTmXjlmzCxV0mUIrPHNLYlDmMA1YGEIgBBGIAgRhAdGogp6am/CQaytGDwaCKOQNaSilvb29V7OHhoYolA+kMb0vJ9/Pz08YxkNB7EAMIxAACMYBADCA6bW5J5eiWbMI1rCRclnB3d1fFnp+f7fOLi4tVLHV4O1I24eItWcNvm1gSrAwgEAMIxAACMYDotBydjI8rU6cSszNwyai57XHOQKbuaNd1nb7BlZNdP0QpvhydvqFLWBlAIAYQiAEEYgCBGED0NptIZV/3DtfEUopvZHGx5PpH/f30jpY9nF02sSRYGUAgBhCIAQRiAPFrA9my3aylnyEZSPeOZABH3UqXnm/ZMud6Ih4fH+1YZyxTOZruaPgrIAYQiAEEYgCBGECMrRztXH/aa+kaWVJzi3tvOjbPlamdk285Si9lE6N2YpfiswyaW6BXIAYQiAEEYgDRaT9DKjG7LXNpe13L9rZRu5CTgXSGNxlIZwqTgaQcDb0HMYBADCAQAwjEAKIXzS2zs7NVLB3K4bKJVOYelTSvlve6DCE1t7y+vlaxlKWM62AOBysDCMQAAjGAQAwgenHam+tdcKYyjU1Gz72jpXcixR2uwzpt+/tt70KLaW+BlQEEYgCBGEAgBhCIAURvD+toOfovZR7uikN3HrQrD6fn02+5cnTL7TLjyhBaYGUAgRhAIAYQiAFEp+XoFpPUshUvdVIvLy9XsdXV1Z+m+C/c2dHpt1zpueV7uzSKCVYGEIgBBGIAgRhAdGogW2hpUk2mbmVlpYptbGxUsbRlzz3vKpil+NPe0je0GEgqkPBXQAwgEAMIxAACMYDobTaRXLRz6C1b8ba2tqpYykbW1taqWMombm9vq1gqqbs45WjoFYgBBGIAgRhA9NZAtpCaZ10/wubmZhUbDAYjP99yCl0ykPQzQO9BDCAQAwjEAAIxgOhFNuFcd8u1h2nL23A4rGLr6+tVzG2jS/G0Zc5lNC3f8CeyiZZtew5WBhCIAQRiAIEYQPTCQDqjlUyhKwcnA+gMpDNv6XlnbN0tdaW0nVjn5tDSST0uWBlAIAYQiAEEYgCBGECMLZtouYLPOebkxF0jSupYdvFRz5MuxX9Dunfbvbclm6C5BXoFYgCBGEAgBhC/NpDJKLq/+6deAHcZRzJUrhydupvd2JYLRZxZTB3PrpycSsyO9O/o4mksl4/AHwMxgEAMIBADCMQAotNytLvurxR/cUca62hpDGlx/S3laJcRpasM3WUn6Xt/e+1hC6wMIBADCMQAAjGA6LQcnQzV/f19Fbu+vrZjb25uqtjd3d0PM/zveTkDW4o/D9qd6pbm8PDwYMe6Dut0g56bL+VoGDuIAQRiAIEYQCAGEL0oRzuHfn5+bseenp5WsdSF7I7ua5mXc/1XV1d27NnZWRW7vLy0Y933pmyiy3uzWRlAIAYQiAEEYgDxD5pPxXqLkIYgAAAAAElFTkSuQmCC\" id=\"imagef4c8e5985f\" transform=\"scale(1 -1) translate(0 -94.32)\" x=\"571.073684\" y=\"-29.709474\" width=\"94.32\" height=\"94.32\"/>\n   </g>\n  </g>\n  <g id=\"axes_7\">\n   <g clip-path=\"url(#p46921e00d5)\">\n    <image xlink:href=\"data:image/png;base64,\niVBORw0KGgoAAAANSUhEUgAAAIMAAACDCAYAAACunahmAAAFBklEQVR4nO2dS07rQBREO+GfD2EJjBiy/1UwZsACYECEBIQ/vFlNukpyK7YTPZ0zvGo7jlSy6pauuyfT6fSvjMTh4aGtL5fLqnZ5eWnXXl9fV7Wrqyu7drFYVLX39/eqttls7PWTyaSqnZ+f27Wz2azTb5VSyt3dXVW7ubmxa29vb6vaer22a39/f6vadDq1ax3dV8J/D2IAgRhAIAYQ3tH1gDNfrlZKKcfHx1VtPp/btavVqlOtlFLOzs6q2t9f7Zc/Pz/t9c58nZycdP6txNHRUaffKsU/r6v1AW8GEIgBBGIAgRhAIAYQg3UTjoODA1t33YSLd0vxEfPp6ald6+JvF9n+/PzY693a1BG5/5bWuvu6WinDdQ4O3gwgEAMIxAACMYAYNY5OkauLZ1O86+LgZEydKXPR88fHR+fnSoauJTZ2dQwk7BWIAQRiAIEYQCAGEKPG0ambcB1Cipidw0+4zsFNLKduwnVELe4+rXXxN90E7BWIAQRiAIEYQIwaR6fY2M0dJKPoTGiaR3Bm8e3trdO69Awtsw9p7ff3d6frx4Y3AwjEAAIxgEAMIBADiL3oJpxrT2sdX19ftt61c0jfWrpuIMXDrhtwXUO6b+o8iKNhJyAGEIgBBGIAsbWBTJ+QbRtHp53hnKFKRs2ZRVdLBrTFFLp7pDkJZ1jTfTGQsBMQAwjEAAIxgEAMIPYijm7pJhzJiXd17SkKdvXUebjOwcXhpfiOhm4C9grEAAIxgEAMIAYzkG6KOZlCN8+Q1rr7psliZ8pcrY8ZhRYD6eopusZAwk5ADCAQAwjEAAIxgBhsuGWobsLVW05xcaT/4K5PcbSL2tM3nK5zII6GvQIxgEAMIBADiFHj6Ja9o9NmHS0G0tVbdotrib6dsWyZfWjZrKPF8LbAmwEEYgCBGEAgBhCIAcSo09EpYnZRbnL97tjD1E2402zcntQtm4ik33K0bBPYx9Z/qcvoCm8GEIgBBGIAgRhAjGogE86UtZi6ZDbn83lVa9kowx2K4gxsKePOHQwFbwYQiAEEYgCBGEDsxel1zmwmA+rM4mw2s2tXq1Wn+6aksGUmw80uJBPc8n/HhDcDCMQAAjGAQAwgEAOIUbuJFpK7djMRbm4h4eLkls060sTzZrOpan10E2N2GbwZQCAGEIgBBGIAMaqB7MMMOVOWDKQbfnUzDgk3+/D6+mrXupmIluFZ4mjYKxADCMQAAjGAQAwg9qKbcB1Cy8YeqZtw0bOLmFNs3BIxu/2g09S2u0cfcbSL1Zum1DuvhP8exAACMYBADCC2NpB9fFbW8nmdM4VpOtrVt/2t9Cne09NT5/u6etq7gnkG2AmIAQRiAIEYQCAGEIPF0S1dhnPMKcp1G2ikgZXlclnVWqJv91wuoi7Fdx4txzG2DMIMxe6fAPYGxAACMYBADCAGM5DbbonbxzzDYrGoas5AJrPrPqVzBraU7Q9FSXB6HewExAACMYBADCAQA4jBhltc55C22HP1FhedYl8XEbtuIg2suPu2HCPYx+Ej7r5DdRi8GUAgBhCIAQRiADFYHO3MkzsDuhT/aVqaG3CbZaS1bs7BGUi3KUd6LldLz5XWtpyb3WKuOb0OegMxgEAMIBADCMQAYtThluTan5+fq9p6vbZr7+/vq9rFxYVd6xy6i5jTc728vFS1h4cHu/bx8bGque8v031Tp5Ui7SHgzQACMYBADCAQA4h/p4oF9M/BfkMAAAAASUVORK5CYII=\" id=\"imagec58c8f4530\" transform=\"scale(1 -1) translate(0 -94.32)\" x=\"683.848421\" y=\"-29.709474\" width=\"94.32\" height=\"94.32\"/>\n   </g>\n  </g>\n  <g id=\"axes_8\">\n   <g clip-path=\"url(#p45c0703879)\">\n    <image xlink:href=\"data:image/png;base64,\niVBORw0KGgoAAAANSUhEUgAAAIMAAACDCAYAAACunahmAAAE7ElEQVR4nO2dy07rWhBENye8QhLgE2DO/38HA/6AGSISSLyfd1bSva46ciuxY12tNWy1nR2rZFW32nvvzWaz3zYSs9nMxlerVSd2cXFhc6+urjqxy8tLm7tcLjuxn5+fTuz7+9te//vbfTQHBwc29/DwsPd9b29vO7Hr62ube3Nz04mt12ub6/5beuaOP70z4X8PYgCBGEAgBhD7Y/7Y3t6ejTvztVgsbO7Z2Vkndn5+bnNPTk46sff3907s4+PDXu8M2fHxsc118WQgj46OOrGK0XPGdhvwZgCBGEAgBhCIAQRiADFYNeEqh+SYXTXhKoHWfJUxn89trmsdu2rCVQ1/izsq1YAjVQguTjUBg4MYQCAGEIgBxKjt6D9/vPZcezaZQhdP5s0Zra+vr07s7e3NXt/39xPJ6Lk2dWWmYih4M4BADCAQAwjEAAIxgJhsOzoNkezv919y38rBtahb8+utuPuU69rcqfVNNQE7ATGAQAwgEAOIUdvRyUA6U5g+Y3PGNJkvZwwrBtIZ28qMQ2oxuzgGEiYFYgCBGEAgBhCIAcQk2tGumqhMG7u2c2v9K4dKO7oySZ2qCbfe9B+oJmAnIAYQiAEEYgAxWQOZ5hb6Tjy31t9Aps06Kju4uTWk+7o1YCBhUiAGEIgBBGIAgRhAbFxNpO383HeV26gmHMmJOzf/+fnZ+3oXd9enePqG08XTfV01kZ75ppUHbwYQiAEEYgCBGEAM1o52BjKZQjcJncymu2+aMXAGsLJRhosno+fMajKQr6+vnViaqaAdDTsBMYBADCAQAwjEAGKy1UTKdVXGpu3ZtCWhu36odvQ2hlvSc+gLbwYQiAEEYgCBGECMaiBTi9nF02YdLp6Mk4s7Y5ra2e761Lp2BrLSuk4Gsu+6WmOeAbYIYgCBGEAgBhCIAcSo31qmtm+lHe1yKyfcOIefrnfxSsu3MjQz5hBLgjcDCMQAAjGAQAwgJrFZR6V17TbQSGYznaf9XyqzBOm3kgl1uPY3BhImBWIAgRhAIAYQox4+Upk7SLmuA5lOujs9Pe3EXFeysj9DMnrOQFZM5abDrNuANwMIxAACMYBADCAQA4hRq4kKlWqib9u5NT/PkCqEyrGHbkZhG3MSY1YZvBlAIAYQiAEEYgAx6jzDNnDzBPP53Oa61nNl+92np6dO7Pn52ea6eJrJqAwLj8nuVwCTATGAQAwgEAMIxABi1Hb0NtqzlXZ03zO2k+t31UjKde3oyiR1eja0o2EnIAYQiAEEYgAxiXmGyud1FQPp4pWT8ioHnby8vHRild3tMJAwKRADCMQAAjGAQAwgBqsmKptPbFpNLBYLm7tarToxt9lHcvKuxZwOFKkcx1ipJsZk9yuAyYAYQCAGEIgBxMYGMhlF17atHPJRMZBpOnq5XHZizkCm/+A+pXMzDq35lnZlfmMKTHNVsBMQAwjEAAIxgEAMIAZrR1eqCRevDHWkYw9dleGqlHRISKXF7CqS9H9dbqUqG2qfad4MIBADCMQAAjGAGMxAOlPmzoBuzbd909yAm0JOue73XNs47eBWWZeLp9zKudmVk+42naTmzQACMYBADCAQAwjEAGKw4ZZKNeG2zXt4eLC59/f3ndjd3d1fVvhvXDs5rctt/ed+v7XW1ut1J/b4+Nj7vpU9qYeCNwMIxAACMYBADCD+ActNDouQIOyqAAAAAElFTkSuQmCC\" id=\"image96136366b5\" transform=\"scale(1 -1) translate(0 -94.32)\" x=\"796.623158\" y=\"-29.709474\" width=\"94.32\" height=\"94.32\"/>\n   </g>\n  </g>\n  <g id=\"axes_9\">\n   <g clip-path=\"url(#p3708cd09c9)\">\n    <image xlink:href=\"data:image/png;base64,\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\" id=\"image1f39bd294a\" transform=\"scale(1 -1) translate(0 -94.32)\" x=\"909.397895\" y=\"-29.709474\" width=\"94.32\" height=\"94.32\"/>\n   </g>\n  </g>\n  <g id=\"axes_10\">\n   <g clip-path=\"url(#p736f3bab66)\">\n    <image xlink:href=\"data:image/png;base64,\niVBORw0KGgoAAAANSUhEUgAAAIMAAACDCAYAAACunahmAAAE8klEQVR4nO3du04jQRCF4QYMGCzASOYVSBAxj0/KUyAEEhAQAMY2dzY7SZ+Sptae2dnd/wtLje2VjkbVtT0za4PB4Kd0ZDAY2Prh4WFVOz4+tmvPzs6q2unpqV27tbVV1S4vL6va9fW1/fv9/f2qdnJyYtdOJpOqdnV1Zdeen59XtYuLC7v27u6uqn1+ftq1GxsbVW1tbc2uddYbr8Q/jzBACAOEMEB8R9eS9XWfPdfo7e7u2rXj8biquUavlFJ+fpbrjd3v3d7etmtdfXNz067NNHWZf4NbSwOJ30IYIIQBQhgghAHS2m7CdbFuXFqK78RHo5Fd6+puN1JKKfP5vKq9vb1Vtff3d/v3me7c1aOdwPf3d6Na17gyQAgDhDBACAOkFw2kawCjBnJnZ6fRd5Xim8XZbFbVogbSib7LNYtfX192ratHzeayI/UMrgwQwgAhDBDCACEMkN7uJobDoV3rTlhHXbvbObgRdVu7iegUsxs9r2LXkDnI4nBlgBAGCGGAEAZIL05Hu1PE0RkF9xlu7FxKKS8vL1XNNZBRo5fhmthVjKO7xJUBQhgghAFCGCCEAdKLcbQbMUcP9nBdd5e7iWiH4Eba0ZjbfR+7CfQKYYAQBghhgCzdQEb/h+7GxlED6cbRq2gg3XkGtzZza1vUbL6+vla1xWJh1358fFQ1Gkj0CmGAEAYIYYAQBkhr42i3m4h2CO4gS2Y34brzUnyH73YT0aGbzHe5utvNRL8h2tG43dqyp6AjXBkghAFCGCCEAdLpODp6lnLmucvuc6Omrum5gcwT3KIzCq4pnE6ndq1rbKNzEl3iygAhDBDCACEMEMIA6e04OtpNZF7X1/TASGY3weEW/BcIA4QwQAgDpBe317lmMXplYOZWvKZro793TXDm9rro1Da316H3CAOEMEAIA4QwQDrdTURj30yH73YeUSfuXq7uatHo29Wjk9SZ1xO638tuAr1CGCCEAUIYIJ0+OzoaR7v6Km7FOzg4qGrj8bjx73KvTYy+a1mZMxVt4coAIQwQwgAhDJBOG8hMkxStdQ1k1ABOJpOq5h4hHE0V9/b2Gn1/Kb6x7LL5WwWuDBDCACEMEMIAIQyQTncTq+B2DqPRyK49Ojqqau4Uc3SWwI2zo51H5rY/9xl92HlwZYAQBghhgBAGyF/XQLrmy507KMWPozOHUd0tftEtc66BjMbkfcWVAUIYIIQBQhgghAHS6e11mbWZB3AMh0O71tVdh595leHT05Otu1vxMqfBGUejVwgDhDBACANk6QYyGuW6enQWwDWFmReVRONo97nudHPmCW7Ry0cyt/3RQKL3CAOEMEAIA4QwQFobR7vdRDT2dbuM6NnR7mlt0elo9xluN5B5oYi7V7MUv/vJPJOa3QR6hTBACAOEMEBaG0cv+/jcaBztRs/RONqdZ3CfG42Y3e/NjJij8Xtf/V2/Fq0iDBDCACEMEMIAaW0c7Q6MRF27q2dG15nH8TnR4RY3Is7snqIx97I7rbZwZYAQBghhgBAGSGvjaNeUufMBpfhb1qLb2KbTaVWbzWaNf4Nr6qLfNZ/PG3+Xqy8WC7vWPfAjajZpIPFHEAYIYYAQBghhgHQ6jo669sfHx6p2e3tr197c3FS16BCJO9zixr7R4/yen5+r2v39vV378PBQ1aIdkdtlsJtArxAGCGGAEAbIL7PE55R5KiL+AAAAAElFTkSuQmCC\" id=\"image11dd40365b\" transform=\"scale(1 -1) translate(0 -94.32)\" x=\"1022.172632\" y=\"-29.709474\" width=\"94.32\" height=\"94.32\"/>\n   </g>\n  </g>\n  <g id=\"axes_11\">\n   <g clip-path=\"url(#p43ba96a5d4)\">\n    <image xlink:href=\"data:image/png;base64,\niVBORw0KGgoAAAANSUhEUgAAAIMAAACDCAYAAACunahmAAAFj0lEQVR4nO2dyW0jMRRE6X2TvIfgNJyD4Rycl9NwBr44AJ99MUbwvu9zqwurABGabguD944f7FazUSLqf/wmZ05OTn5KT/z8+J96fn6uYhcXF3bs6elpFTs7O7Njh8NhFTs8PKxi+/v79vrz8/Mqdnx8bMe65z04OLBjj46Oqtje3t7Y903v5vX1tYrNz8/bsY7ZsUfCfw9iAIEYQCAGEOO7i39AMpAfHx9V7P7+3o798+dPFRuNRnbs4uJiFVtZWaliy8vL9npnyK6uruzY29vbKubmVUopS0tLVcw9aymlzM7W/9f0HieFlQEEYgCBGEAgBhCIAUSv2cT397eNv7+/V7HHx0c79ubmpoq9vLzYsS5L2NjYqGLO3ZdSytvbWxV7enqyY13mkErBLu6yhkTKJtL7HRdWBhCIAQRiAIEYQHRmIJ3JSQanpRzt4jMzM3bs9vb2WLFk3lyfhTOVpZQyNzdXxZIxbSkxd1V6drAygEAMIBADCMQAAjGAmIpytHPozsmX4kvXybXv7OxUMVeObunaTg0rrsS8sLBgx7psIr2blhJzS0nbXj/R1fBfgRhAIAYQiAFErwby6+vLxlsMpLvHYDCwY3d3d6vY6upqFfv8/LTXu96FNAfXO5G6rl35PBlFZ27pjobOQQwgEAMIxAACMYCYiuYWV2JOTSSOlE24RhZXunbfVJbiu67THNx9W5pbUpYyacdzC6wMIBADCMQAAjGA6NVAJpPkegScqSzFdyG7HoVSSllfX69iru+gxUCmTuy1tbUq5jYGSfdIJfH0zrqAlQEEYgCBGEAgBhCIAcRUZBMuc0hjXTbgGlZK8WVqd33KXFxJ3GUzpfiMJj2XezfpGfjWEn4FxAACMYBADCAmNpAtO4+lkqszT2lsi4F03cmulyCZNxdPezxvbW1VMVeiLsW/m1QSbylHp1L5uLAygEAMIBADCMQAAjGA6LUcnTa6cE46dQW7bCI5fDfWPVfKXNzzpo7nzc3NKpayHJchpHfj3sOkWUOClQEEYgCBGEAgBhCdGciuytGunNxy3nOLeXNmM5lV18+QNutwc0vz5fM6+BUQAwjEAAIxgEAMIHotR7eUfdPYFtw9XOaSsgmXeaT9oF3pOY11GUJ6hj5hZQCBGEAgBhCIAcRUHD7izFPqCm4xpm7/aXfGdtpZzv1WOuDDmcX0Kd6kJWb6GaBzEAMIxAACMYDotQLZ8ileMlnOWKZP0+7u7qqYO0s7Xe+eN/VOOLOYjF6fey60wMoAAjGAQAwgEAMIxACis806Wsa2HFTSstHF1dVVFRuNRlXs4eFh7N9KPQqua/pfZBPuHhxlCJ2DGEAgBhCIAUSv/QyJFkPkytHp3GxnFi8vL6uYK1un50r7M7gydYuBTH0SDvoZoHMQAwjEAAIxgEAMIKYim3CkDMNlE09PT3asyybc8YYtB3+k4wldmbqlQSc1zbRkGZPCygACMYBADCAQA4ipMJAtJ925T+ncmdWllHJzc1PFXDk6fQbnSAbSGb00B2csk1HsqvTsYGUAgRhAIAYQiAEEYgAxcTaR3G6LC27ZgCOVjh1uY47r6+sqlhpW3BxSd3TLHBypHE02Ab8CYgCBGEAgBhC9lqOTGWr5ZC6Vnh3ObLpO6pbzppPRc3NIPRmu/I2BhKkCMYBADCAQAwjEAKKzbMI1a6QmEhdv2Q863XfcEnHLdn6pCcX9VsoEXPm7ZQ5s1gGdgxhAIAYQiAFErwYy9QK4eDJqrnScDJW7rzOL6bec0Uu9D263t3RutounOTjD29X52KwMIBADCMQAAjGAQAwgOuuOdg49uevhcFjFBoOBHevcfPr+0Z1Pvba2VsVSOdqNdbH0WynzcKXndBa2i6dsYtJGGFYGEIgBBGIAgRhA/AWF3H5mkKjd5AAAAABJRU5ErkJggg==\" id=\"image840f0667fd\" transform=\"scale(1 -1) translate(0 -94.32)\" x=\"1134.947368\" y=\"-29.709474\" width=\"94.32\" height=\"94.32\"/>\n   </g>\n  </g>\n  <g id=\"axes_12\">\n   <g clip-path=\"url(#p376cc6d374)\">\n    <image xlink:href=\"data:image/png;base64,\niVBORw0KGgoAAAANSUhEUgAAAIMAAACDCAYAAACunahmAAAFcUlEQVR4nO2dS04rSxBEi5/BYLABIW+AAXthxAbYIXtgC0gIloAAYYz5/98sJhX51CVTbevqnGGqaFdfxS1FprKzFi4vL39TS3x9fdn4/f19Fru4uLBrT09Ps9j5+bldOxwOs9jh4WEWOzg4sH9/dnaWxU5OTuzap6enLHZ0dGTXHh8fZ7H9/X27djweZ7HRaGTXfnx8ZLHl5WW71rHYeCX88yAGEIgBBGIA0dxdFPL7m/vSn58fu9YZn8lkYtfe3d01Xru3t5fFVldXs9jKykrjfTmjmFJKz8/PWSwyzIuL+f/ByOgtLCzYeA04GUAgBhCIAQRiAIEYQFTLJhzf3982/vr6msWiDMHFI9e+traWxTY2NrJY5ORdNvH29mbXundzWcP/xZviMrW/gJMBBGIAgRhAIAYQrZajIwP5/v6exaKyrzObS0tLdm2/389iW1tbWSwydG5fkVl1e4jK3CUGspZZdHAygEAMIBADCMQAAjGAqJZNuEaWknL0y8uLXeue0e127drt7e0s1uv1sljk2F3pOWrQ6XQ6jWIp+Wwieq7bG+VoqA5iAIEYQCAGEHPRz1DSN+DMkzOFKaW0s7OTxZzZdL8fxSPzVtJ17Qxk9FzK0TATEAMIxAACMYBADCDmIpv4/PxsFEvJO/HNzU27djAYZDHn+t13kin5bCL69tFlKe63ome0mTVEcDKAQAwgEAMIxABiagNZUkaNOoudUYvWuk/h1tfX7VpnLF2JODKrLh6VmF1J3H3el5I3kJG5jvocasDJAAIxgEAMIBADCMQAolo52rnjv8gmXDk6yiZc3H0TGWUT7h2iDMF1Ykf7ckR7oLkFZgJiAIEYQCAGENXK0a6M6oZfRPGoPOsMZPQZm+sncKXgyKyWGEjXO+Emy0VE7xvFa8DJAAIxgEAMIBADCMQAotVhHZFrd9lEVJ6tMWIv2pd7h6jj2Y0ZjDIPR/S+jqhDe9qZ1JwMIBADCMQAAjGAaNVARiapZEZzyfSzpj0VJQYyMquud6HEQJa8by04GUAgBhCIAQRiAIEYQMzFTTQl3dHuGVGW4sYHujnVUdON+62oFOzK1NEViSWXxpNNwExADCAQAwjEAKLVaW+RSSoxhc5YOlOYUkoPDw+NYtFFJyU9Bq6XIOovKDGQzrBGJnZaOBlAIAYQiAEEYgDRagUyMkkuHlXenKmL7s2+vb3NYu5CkslkYv/emdXIFLZ5vzW310F1EAMIxAACMYBADCBaLUeXUNLx/Pj4aNdeX19nMTdPejwe2793mUuUNZSUiN27Rc9lWAfMBMQAAjGAQAwg5tZARjhDFd0+d3V1lcXcJ2+RAXUGsuRCkQhnIKO/r9W74OBkAIEYQCAGEIgBBGIAMRfZhMsQokaYkmEbNzc3WcwN2yi5o3se5kHTHQ3VQQwgEAMIxACiVQNZclGJm9kQxSNDNhqNspibmRD1EjhjGpk39w4l91u3WXaO4GQAgRhAIAYQiAEEYgAxdTbxFxdhONftJrWl5AdzRKVrtweXYUQNK9FzHe4dSsrOf/EN57RwMoBADCAQAwjEAKJaOdoZH3fzXEQ0wtdNZotMrPu9aDKcIxr36yi5FKXk34bP62AmIAYQiAEEYgCBGEBUK0c7d9zpdOzako5ll2VETrxpw0nUXV3SCOP2EO3LvW/JnGlG/0F1EAMIxAACMYCoVo525inqG+j1elnM3S2dkjdfUdm42+022oO7eS7al5sWV/JbKcVG2lEyV3taOBlAIAYQiAEEYgCBGEC02twSZQi7u7tZbDgc2rVuznNU9nW3zjjXH7n7fr+fxdxeU0ppMBg0+q2U/H5Lrnks6dougZMBBGIAgRhAIAYQ/wG/jmhDD0K5CQAAAABJRU5ErkJggg==\" id=\"image4b4256fb15\" transform=\"scale(1 -1) translate(0 -94.32)\" x=\"1247.722105\" y=\"-29.709474\" width=\"94.32\" height=\"94.32\"/>\n   </g>\n  </g>\n  <g id=\"axes_13\">\n   <g clip-path=\"url(#p0050f5b051)\">\n    <image xlink:href=\"data:image/png;base64,\niVBORw0KGgoAAAANSUhEUgAAAIMAAACDCAYAAACunahmAAAFVklEQVR4nO2dyU4jQRBEy2Y1OxYGxD8gceXKhd9F4sjPgAQCLoBtVrPNLS4VKXWpcdOD3jumqtvFTKgUmcrO6nS73e/UEDMzMzbe6/Wy2GAwsGsPDg6y2PHxsV27v7+fxa6urrLY2dmZff7m5iaLHR4e2rVHR0dZ7OXlxa49OTnJYqenp3bt+fl5Fvv6+rJrO51OFvv+rv7f2628Ev48iAEEYgCBGEDMTuvFzsx0u157zlguLi7atRsbG1ms3+/btUtLS1ns4+Mjiz0/P9vnPz8/s9j8/Lxd60zw29ubXesMoNtXSmUGEAMJPwZiAIEYQCAGEIgBxNSyCYdzuymlNDubb8O585RSWltby2IrKyuVf+/p6SmLPT4+2uddNuH2mpLPiCIn7zIH91vRO6J/x7pwMoBADCAQAwjEAKIV5WhnyqJy9OrqauW1rhw8HA6zmDOVKXlTGBlIR1RidvGSsvG04GQAgRhAIAYQiAEEYgDRinK0c+1ROdo1rERZiisz39/fZ7GouWV9fT2LlWQT7+/vNk42Aa0HMYBADCAQA4hGy9ElBnJhYcGudd3JUS+AKz0/PDxksdfXV/v85uZmFos+EXR7mEwmdm2JgZxW74KDkwEEYgCBGEAgBhCIAUTtbCJyu3Wzibm5ObvWlYOjsu9oNMpiLsOImlDcvqLSt8scomEdbm00gKNJOBlAIAYQiAEEYgDR2u7oyEC690YG0nU9u1hkIN2+IhPseiLG47Fd64xlZCD5vA5+BcQAAjGAQAwgEAOIRrOJqDHENaxEzS0uy4iaW1zTiotFjSXRfh0uS3GNNCn5zINyNLQKxAACMYBADCAa7WeIytHOLEYDOFyJODJfrsxc0pkclcQdVT/lSwkDCf8BiAEEYgCBGEAgBhCNDuuIsgnn2qNytCsRl2Q0Jc0idZtbopnUUTOOg28t4VdADCAQAwjEAKIVBrKkn8GZurpd11HZ2e0r+i03pzoaAuL6L0qM4rQGe3AygEAMIBADCMQAAjGAaLS5JaJkWEfJWjdn2l17GF2F6J6Pfst9Pxl1bTuiLKXksvO686c5GUAgBhCIAQRiANHay0dK7px2ZeOU/L3ZW1tbWSyayuaej7q2o96FqjTZtxDByQACMYBADCAQA4hGDWREyad4Lh5VBd3lIbu7u1ksmvbW7/ez2PLysl3rZjFE8x1KmnqbhJMBBGIAgRhAIAYQiAFEK7IJR4m7jrIJd5f13t5e5fcOBoMs5nocUirLEEqmyDUJJwMIxAACMYBADCD+hIGMDJkrHTsDGfVObG9vZ7Fer2fXundE+3IldcrR0CoQAwjEAAIxgEAMIFqRTZRcVFJy7aH7bG5nZ6fy8665pWSmdfReF4+aeZrk93cArQExgEAMIBADiNYayOiTOVcOjkrErhztZhhE5WhnQKNLQpwpjP4GF6ccDa0CMYBADCAQAwjEAGJq2YRz7SVTyiKH7zKEkmltJbOnXYYQzYOuO//6J7KJkslwDk4GEIgBBGIAgRhANFqOjsbnutvcIkPlSs/RJ2+u98CZt5Kxvu6SkZR8/0XUk+FK2tEe6o4ALoGTAQRiAIEYQCAGEIgBRO1soqTEHDnmkmsAXZYRla4dJaMDXZYT/Q0lGcJkMqkUi947rUYYTgYQiAEEYgCBGEC0ohztLu5ws5hTSmk0GmWx8Xhc+fecsY1KzM7EDofDyvtysZT8fqM9uP1iIGHqIAYQiAEEYgCBGEA0Wo6Obnxx2cT19bVde3FxkcWicrRreikpk7ts4u7uzq69vLzMYre3t3aty5SicrQjyia4Cxt+DMQAAjGAQAwg/gHP7MMW8weLBgAAAABJRU5ErkJggg==\" id=\"imageb4f05d78bc\" transform=\"scale(1 -1) translate(0 -94.32)\" x=\"1360.496842\" y=\"-29.709474\" width=\"94.32\" height=\"94.32\"/>\n   </g>\n  </g>\n  <g id=\"axes_14\">\n   <g clip-path=\"url(#pa056047b61)\">\n    <image xlink:href=\"data:image/png;base64,\niVBORw0KGgoAAAANSUhEUgAAAIMAAACDCAYAAACunahmAAAFj0lEQVR4nO2dSU4zSxCEixkzCyEk7sJJWHAP1lyGFeIUnITRNmDmGd4upKeK+OUWfxs/ve9bpqrtbgiVMtPRWRPHx8ffZURMTk7a+PLychVbWVmxa7vdbhU7ODiwaw8PD6vY1tZWFdvb27PXb29vV7GjoyO7dn9/v4rd39/btbu7u1VsZ2fHrl1bW6tig8HArn14eKhiU1NTdq3D/3fgfwliAIEYQCAGENOj/LKUQM7MzFSx6Wl/a09PT1Xs/Pzcrr24uKhiGxsbVWxxcdFePzs7O9T3l1JKr9erYi8vL3bt29tbFUuJXvqbtQE7AwjEAAIxgEAMIBADiLGoJlzl8PX1Zdfe3d1VMVc1lFLK4+NjFZufn69iqfXt7vf5+dmudVVGeoaJiYmhYin+/d3OLwjsDCAQAwjEAAIxgGgtgXSJT0ogXSv24+PDrr2+vq5i/X5/6PtaX1+vYqurq3atSwBdUlpKKZ+fn1Vsbm7OrnXt90RbyaKDnQEEYgCBGEAgBhCIAcRI29FNDByp7euqCecKLsW3njc3N6uYc2eX4iuaZG5xlYczx6R4qrRcNUE7GloHMYBADCAQA4iRtqOT4/mnCaRzG5fiE0OXQHY6HXu9+9zkeHbPmxLI9Hf4bdgZQCAGEIgBBGIAgRhAjLSaSO1o18pN1cTt7e1Q15fiTSvuXctkNnHDNtJ9uYrItcNLyVWGwz0b7WhoHcQAAjGAQAwgRtoXTa+QuYQotX2ddyF97tLSUhVz7uiU2DrvQvIzuKQwDQFxrumUBOOOhl8BMYBADCAQAwjEAKK1asK1Z1PW71zIqe3rqozkLHbVhGtRN6km0n05g4yb+1yKryZS1eDe4WwLdgYQiAEEYgCBGED8OIFMSWGTBPL9/b2KpXa0W5sSQOcncEllui/X+k7taNd6dt6JUkpZWFioYilRTG3qNmBnAIEYQCAGEIgBBGIA0Vo72mX4KWt/fX2tYqnt61rXTWZSp3F8Djfmr0k14Yw0pfgqJ1UTLo47GloHMYBADCAQA4ix8DO4FnNKIF1ClRLIYQ/5SC1fdw9pMIhrMaeZ1O51vjQrm3Y0/AqIAQRiAIEYQCAGECMd1tHEHZ3MLa4V2+QdTvddrpopxVcTaa1719JVGKX4Vv0oq4YEOwMIxAACMYBADCDGws/gWsypPdskMXXJXhOPQpN2tPMzpCly6X5/G3YGEIgBBGIAgRhAjEUH0iWQySDqTK7p9TpntB0MBkPFSvHJZuoUNnneUU5wawI7AwjEAAIxgEAMIBADiPE8U6/kjNu1eFPb17W0+/1+Fev1evb6JgedNHGDj4N3wcHOAAIxgEAMIBADiP9cAumMp+lsaZdAXl5eVrGzszN7vTt3O/ksmiSQPx0B3JYfgp0BBGIAgRhAIAYQiAHEWBxl6EjVhMva0wQ3527udrtV7OTkxF5/dXX1p1v8F85gk57BubbHwfDCzgACMYBADCAQA4ixTSCb/Oaf2tEOlxSenp7atTc3N1UsTZZz8dR2TjMehv3ctmBnAIEYQCAGEIgBBGIAMRbVhKsGUns2mUuG5f7+voo5w0ta26QiSoM93DP8jSMhfwo7AwjEAAIxgEAMIH6cQKZEz7WTU9vYOZ5TktRkhK/DjSF2bedS/LCPJiOP3fWJNHBklJPh2BlAIAYQiAEEYgCBGEC01o521UQyanQ6nSqWBnC4aiAdVOLuwRlO0uzoJs/g1qYqx1VVqdJy1QRnYUPrIAYQiAEEYgDRWju6ie9gfn6+irnDPNL3JReyS0Jdopac2G6ta52ntSkJbpIwu3tra1ocOwMIxAACMYBADCAQA4jW2tFNjid0mfTy8rJd6zLxNKzDVSnpfGpHMpw43OemisjF03cN21L/G7AzgEAMIBADCMQA4h+IThOq++N6zgAAAABJRU5ErkJggg==\" id=\"image272eda31fa\" transform=\"scale(1 -1) translate(0 -94.32)\" x=\"1473.271579\" y=\"-29.709474\" width=\"94.32\" height=\"94.32\"/>\n   </g>\n  </g>\n  <g id=\"axes_15\">\n   <g clip-path=\"url(#pb79f32243e)\">\n    <image xlink:href=\"data:image/png;base64,\niVBORw0KGgoAAAANSUhEUgAAAIMAAACDCAYAAACunahmAAAFiklEQVR4nO2dSU4zTRBEkxljgwEhkJA3rDgNCxbckQV3QOIIHAIEZpCZZ/5dbCpScql/m9an95apbHc1CpUik+zqmeFw+BtT4vfX38rFFxYWbO7393cROz8/t7nHx8dF7OzsrIgNBgN7/dHRURHb29uzuaenp0Xs5OTE5n59fRWxg4MDm3t4eFjE9vf3be7y8nIR+/n5sbmO2bEz4Z8HMYBADCAQA4j5ad4sM5CO2Vmv08/PzyL2/Pxsc29uborYaDQqYru7u/b6paWlIra4uGhznbF9e3uzuc5AuueK8H+zmZkZm9sUdgYQiAEEYgCBGEAgBhBTrSYynDvOHLNz4q5CiIh4fHwsYs61uzZuRESv1yti8/P+T+bavq7CiKirEFxVRTUBEwcxgEAMIBADiIkZSGeSsnZ01np2uBbvw8ODzX16ehrrXv1+317vDGS2Vmdss+d1JjQzpjV/m6awM4BADCAQAwjEAAIxgGhFO9o55syJu2oia0e7XNd6Xl9ft9d3u10bd0yqmphU69nBzgACMYBADCAQA4iptqMzMzQ3Nzf2776+vhaxbDrarcGZwo2NDXt9p9MpYtnEs5tdyJ7XmcXsdcKaWY+msDOAQAwgEAMIxAACMYBobTs6myx+f38vYi8vL2Pfyw2ybG5u2lz3rmV2L7ferEJwLfEst6bSago7AwjEAAIxgEAMIKZqIGvaqJmBdO3g7KALdz838ZxNR7uDOdzcQoR/vc4Z0GwN2St+TEfDn4AYQCAGEIgBBGIA0biaqDnOL6smnBPPKgRXTXx8fIy9hpWVlSLm3H2EH0LJ7uWeIftdN43t1hVBOxr+CMQAAjGAQAwgWtGOdubLzS1E+OnozNQ5c+tazFkr2K03W5e7V42BrDGxk4KdAQRiAIEYQCAGEIgBxFSriWxQwznx7J1GV01kDt8NyLg1ZI7drSu7lxt6ce9qRkSsra2NnVsz3FLzrwF7r0ZXwz8FYgCBGEAgBhATM5CulZuZIWf0shazM3DZxLKLu9Z3Zrzc9c7AZrmZMXWzC9kkNdPR8CcgBhCIAQRiAIEYQExsOrppNZFVCK7KyHLdhLWrRrIKwR3MkR0z6O6VPa87mGOaU9AZ7AwgEAMIxAACMYBoxXS0i7u2cYQ3m1muM3Xu84b39/f2ehfPPpvo5i+ydbUVdgYQiAEEYgCBGEC04rhgR2a+aj5q4jqTzgBeXV3Z693g6t3dnc113cqaQdusk9t0yLUGdgYQiAEEYgCBGEAgBhCtqCZcNVDjorNZAPcbrpq4vLy017uDPa6vr22um4nIDgFxLfXsrOxpws4AAjGAQAwgEAOIVhhIR82gbdb2dcbStY0vLi7GXkPWunZzEtm6amYyalrXTWFnAIEYQCAGEIgBBGIA0YrT3hyZu3bxbLjFVROubZy1mN10dU07utvt2lw3dFPzicRJwc4AAjGAQAwgEAOIqRrIzAzVzDPUnM/gftddf3t7a693pnA0Go29ruxoYWdMs6/1YSDhT0AMIBADCMQAAjGAaMVwi2tTZy1m59prTmBzsaxCcIMw2clwjv/j/GvetYQ/ATGAQAwgEAOIiRnIGuPjjs91r7ZF+PZs9qU7Z+BczBnFCG9sM6PncjMD6X5jmkYxg50BBGIAgRhAIAYQiAFEK9rR7p3EbLLYffKv5uxol5u5fjddnbn+mo+H1HyP28Un9XlDdgYQiAEEYgCBGEA0NpDZ3EHNN6edSer1eja33+8XMfdt6YiITqdTxNwsQWb+nFHLzJtrn2fP4NabPYNr1Wd/86awM4BADCAQAwjEAAIxgGjFu5YO9xWYiIidnZ0iNhgMbO5wOCxiWZvbUTO17Vz/9va2zd3a2ipiq6urNte132lHw8RBDCAQAwjEAOI/LNpCbPY957gAAAAASUVORK5CYII=\" id=\"imagece32037fb4\" transform=\"scale(1 -1) translate(0 -94.32)\" x=\"1586.046316\" y=\"-29.709474\" width=\"94.32\" height=\"94.32\"/>\n   </g>\n  </g>\n  <g id=\"axes_16\">\n   <g clip-path=\"url(#p5aa8852c10)\">\n    <image xlink:href=\"data:image/png;base64,\niVBORw0KGgoAAAANSUhEUgAAAIMAAACDCAYAAACunahmAAAFZUlEQVR4nO2du04rSxBFm7fNQzISRpYjAmJi/plfQUSkiAyJAAHGPMzzZjvpXUdTGsZnju5aYanGMzZbrV1FTffKYDD4KUtidXXVxjc2NqrYaDSyuZPJpIpNp1Obe3x8XMVOTk6q2Hg8ttdfXV1VsfPzc5u7vr5exU5PT23u0dFRFbu8vLS5Z2dnVezi4sLmvr6+VrGtrS2b6/B/HfhfghhAIAYQiAFE7Xp+iZWVlca5zlg6Q1aKN5ubm5s2dzgcVrG9vb0qNhgM7PXf399V7PPz0+a67xA91/b2duPcps9VSik/P+1qAVYGEIgBBGIAgRhAIAYQnVUTjqjCWFtbq2KuaojiUa6rEjKufbFYNIqV4qufqCJy3zdTfbWtGiJYGUAgBhCIAQRiANFbA5kxX1GuM5AuNzKF8/m8ir2/v9tc1+aOnsu1kz8+PhrndgUrAwjEAAIxgEAMIBADiKVWExGuQnCxUvwQSaZ17Vq5z8/P9vrHx8cqFlUeme+QGZr5+vqqYrSjoXMQAwjEAAIxgOhFOzrzv3xHZNRcO9i1k2ezmb3eGUtn6P70DA5nFqN2dHQ/R9vfkZUBBGIAgRhAIAYQiAHEUquJaLOOKN6UTOvaufaomnh5ealikbt394oGU1xL++3tzeZ21Xp2sDKAQAwgEAMIxACitYHMtJijXGe+MrnRFHJTAxnNM7jd0zIGMppRcMbUxf70GV3AygACMYBADCAQAwjEAKIX7ejM+5OZzTpcReLcedQKdg4/s/VfNLDi4k9PTzbXVS9dDQmxMoBADCAQAwjEAGKpe0dn5hkiA+kO04gMZNMZg2gDDmf0ohkF97yR2XSGNTKQ7jPaGsUIVgYQiAEEYgCBGEAgBhC9qCYc0cSzqyai4/qavv8YPZdrBUfVRNONQUrxwzRRNeHuRzUBnYMYQCAGEIgBRC8268hMR7vDQ6KjCF2LOLNbXGbOwj1X9B3c1HU0U5HZO5p5Bvg1EAMIxAACMYBADCB6cTC6c8xRi9i1nqNqwuW6asAdVB59btRidrlRO9y1uTPvVNKOhs5BDCAQAwjEAKIX7egMzgBG8wwuPhwOq9j+/r693sWjdrQzoZmjDJd5ZGEEKwMIxAACMYBADCB6cXpdBtfVc7MEpXgD6c6sHo/H9vrDw8MqFpnCnZ2dKhbNSTjabpn8G/z9J4DegBhAIAYQiAEEYgDxz1UTrqUdzQ04N+/axq5qKKWU6XTa6DNL6a6aWGaVwcoAAjGAQAwgEAOI3hrI6P/7GQPp4s5ARvMQzkBG99rd3a1imfmNyCh2Nfxqn2Fpd4LegxhAIAYQiAEEYgDRuprInNWcccaRa3fDJdFwS9ONPaLrJ5NJFYu+gxuaiQ4fcZVD9AxUE/BXQAwgEAMIxACiF+1oZ6ii9qwzkNH+DO5VOtd6jvZnODg4sHGHa0dHWwA7c5zZcY79GaBzEAMIxAACMYBADCCWWk1kWtcRTSeeS/ETy5nDS0ajURXLHGXoztIupf153tHv2Pb3ZWUAgRhAIAYQiAFEZwbSmZnIfGV2P3Nb7WZeeXNzA1Hr2xnTzLnZkaHLvDLnPuM3jLiDlQEEYgCBGEAgBhCIAURvq4nFYmFzXYs3OrjDtYjdsEjkzt310dZ/7ijCqPLIVE+uSsm8h5qBlQEEYgCBGEAgBhC9MJDOJEWzAHd3d41ipfjpZNe6di3uUrwpnM/nNvfh4aFRrBR/FraLleJNKAYSOgcxgEAMIBADCMQAYqnVROTaXTs5cu03NzdV7Pr62ua6E2Zms1mj+5fiqxx3fSm+cri9vbW59/f3VSx6L9NVNFE10XafaVYGEIgBBGIAgRhA/Ac73bed74RA+gAAAABJRU5ErkJggg==\" id=\"image21ed40e82e\" transform=\"scale(1 -1) translate(0 -94.32)\" x=\"1698.821053\" y=\"-29.709474\" width=\"94.32\" height=\"94.32\"/>\n   </g>\n  </g>\n  <g id=\"text_1\">\n   <!-- Feature maps after Conv layer 2 -->\n   <g transform=\"translate(774.261563 16.318125) scale(0.12 -0.12)\">\n    <defs>\n     <path id=\"DejaVuSans-46\" d=\"M 628 4666 \nL 3309 4666 \nL 3309 4134 \nL 1259 4134 \nL 1259 2759 \nL 3109 2759 \nL 3109 2228 \nL 1259 2228 \nL 1259 0 \nL 628 0 \nL 628 4666 \nz\n\" transform=\"scale(0.015625)\"/>\n     <path id=\"DejaVuSans-65\" d=\"M 3597 1894 \nL 3597 1613 \nL 953 1613 \nQ 991 1019 1311 708 \nQ 1631 397 2203 397 \nQ 2534 397 2845 478 \nQ 3156 559 3463 722 \nL 3463 178 \nQ 3153 47 2828 -22 \nQ 2503 -91 2169 -91 \nQ 1331 -91 842 396 \nQ 353 884 353 1716 \nQ 353 2575 817 3079 \nQ 1281 3584 2069 3584 \nQ 2775 3584 3186 3129 \nQ 3597 2675 3597 1894 \nz\nM 3022 2063 \nQ 3016 2534 2758 2815 \nQ 2500 3097 2075 3097 \nQ 1594 3097 1305 2825 \nQ 1016 2553 972 2059 \nL 3022 2063 \nz\n\" transform=\"scale(0.015625)\"/>\n     <path id=\"DejaVuSans-61\" d=\"M 2194 1759 \nQ 1497 1759 1228 1600 \nQ 959 1441 959 1056 \nQ 959 750 1161 570 \nQ 1363 391 1709 391 \nQ 2188 391 2477 730 \nQ 2766 1069 2766 1631 \nL 2766 1759 \nL 2194 1759 \nz\nM 3341 1997 \nL 3341 0 \nL 2766 0 \nL 2766 531 \nQ 2569 213 2275 61 \nQ 1981 -91 1556 -91 \nQ 1019 -91 701 211 \nQ 384 513 384 1019 \nQ 384 1609 779 1909 \nQ 1175 2209 1959 2209 \nL 2766 2209 \nL 2766 2266 \nQ 2766 2663 2505 2880 \nQ 2244 3097 1772 3097 \nQ 1472 3097 1187 3025 \nQ 903 2953 641 2809 \nL 641 3341 \nQ 956 3463 1253 3523 \nQ 1550 3584 1831 3584 \nQ 2591 3584 2966 3190 \nQ 3341 2797 3341 1997 \nz\n\" transform=\"scale(0.015625)\"/>\n     <path id=\"DejaVuSans-74\" d=\"M 1172 4494 \nL 1172 3500 \nL 2356 3500 \nL 2356 3053 \nL 1172 3053 \nL 1172 1153 \nQ 1172 725 1289 603 \nQ 1406 481 1766 481 \nL 2356 481 \nL 2356 0 \nL 1766 0 \nQ 1100 0 847 248 \nQ 594 497 594 1153 \nL 594 3053 \nL 172 3053 \nL 172 3500 \nL 594 3500 \nL 594 4494 \nL 1172 4494 \nz\n\" transform=\"scale(0.015625)\"/>\n     <path id=\"DejaVuSans-75\" d=\"M 544 1381 \nL 544 3500 \nL 1119 3500 \nL 1119 1403 \nQ 1119 906 1312 657 \nQ 1506 409 1894 409 \nQ 2359 409 2629 706 \nQ 2900 1003 2900 1516 \nL 2900 3500 \nL 3475 3500 \nL 3475 0 \nL 2900 0 \nL 2900 538 \nQ 2691 219 2414 64 \nQ 2138 -91 1772 -91 \nQ 1169 -91 856 284 \nQ 544 659 544 1381 \nz\nM 1991 3584 \nL 1991 3584 \nz\n\" transform=\"scale(0.015625)\"/>\n     <path id=\"DejaVuSans-72\" d=\"M 2631 2963 \nQ 2534 3019 2420 3045 \nQ 2306 3072 2169 3072 \nQ 1681 3072 1420 2755 \nQ 1159 2438 1159 1844 \nL 1159 0 \nL 581 0 \nL 581 3500 \nL 1159 3500 \nL 1159 2956 \nQ 1341 3275 1631 3429 \nQ 1922 3584 2338 3584 \nQ 2397 3584 2469 3576 \nQ 2541 3569 2628 3553 \nL 2631 2963 \nz\n\" transform=\"scale(0.015625)\"/>\n     <path id=\"DejaVuSans-20\" transform=\"scale(0.015625)\"/>\n     <path id=\"DejaVuSans-6d\" d=\"M 3328 2828 \nQ 3544 3216 3844 3400 \nQ 4144 3584 4550 3584 \nQ 5097 3584 5394 3201 \nQ 5691 2819 5691 2113 \nL 5691 0 \nL 5113 0 \nL 5113 2094 \nQ 5113 2597 4934 2840 \nQ 4756 3084 4391 3084 \nQ 3944 3084 3684 2787 \nQ 3425 2491 3425 1978 \nL 3425 0 \nL 2847 0 \nL 2847 2094 \nQ 2847 2600 2669 2842 \nQ 2491 3084 2119 3084 \nQ 1678 3084 1418 2786 \nQ 1159 2488 1159 1978 \nL 1159 0 \nL 581 0 \nL 581 3500 \nL 1159 3500 \nL 1159 2956 \nQ 1356 3278 1631 3431 \nQ 1906 3584 2284 3584 \nQ 2666 3584 2933 3390 \nQ 3200 3197 3328 2828 \nz\n\" transform=\"scale(0.015625)\"/>\n     <path id=\"DejaVuSans-70\" d=\"M 1159 525 \nL 1159 -1331 \nL 581 -1331 \nL 581 3500 \nL 1159 3500 \nL 1159 2969 \nQ 1341 3281 1617 3432 \nQ 1894 3584 2278 3584 \nQ 2916 3584 3314 3078 \nQ 3713 2572 3713 1747 \nQ 3713 922 3314 415 \nQ 2916 -91 2278 -91 \nQ 1894 -91 1617 61 \nQ 1341 213 1159 525 \nz\nM 3116 1747 \nQ 3116 2381 2855 2742 \nQ 2594 3103 2138 3103 \nQ 1681 3103 1420 2742 \nQ 1159 2381 1159 1747 \nQ 1159 1113 1420 752 \nQ 1681 391 2138 391 \nQ 2594 391 2855 752 \nQ 3116 1113 3116 1747 \nz\n\" transform=\"scale(0.015625)\"/>\n     <path id=\"DejaVuSans-73\" d=\"M 2834 3397 \nL 2834 2853 \nQ 2591 2978 2328 3040 \nQ 2066 3103 1784 3103 \nQ 1356 3103 1142 2972 \nQ 928 2841 928 2578 \nQ 928 2378 1081 2264 \nQ 1234 2150 1697 2047 \nL 1894 2003 \nQ 2506 1872 2764 1633 \nQ 3022 1394 3022 966 \nQ 3022 478 2636 193 \nQ 2250 -91 1575 -91 \nQ 1294 -91 989 -36 \nQ 684 19 347 128 \nL 347 722 \nQ 666 556 975 473 \nQ 1284 391 1588 391 \nQ 1994 391 2212 530 \nQ 2431 669 2431 922 \nQ 2431 1156 2273 1281 \nQ 2116 1406 1581 1522 \nL 1381 1569 \nQ 847 1681 609 1914 \nQ 372 2147 372 2553 \nQ 372 3047 722 3315 \nQ 1072 3584 1716 3584 \nQ 2034 3584 2315 3537 \nQ 2597 3491 2834 3397 \nz\n\" transform=\"scale(0.015625)\"/>\n     <path id=\"DejaVuSans-66\" d=\"M 2375 4863 \nL 2375 4384 \nL 1825 4384 \nQ 1516 4384 1395 4259 \nQ 1275 4134 1275 3809 \nL 1275 3500 \nL 2222 3500 \nL 2222 3053 \nL 1275 3053 \nL 1275 0 \nL 697 0 \nL 697 3053 \nL 147 3053 \nL 147 3500 \nL 697 3500 \nL 697 3744 \nQ 697 4328 969 4595 \nQ 1241 4863 1831 4863 \nL 2375 4863 \nz\n\" transform=\"scale(0.015625)\"/>\n     <path id=\"DejaVuSans-43\" d=\"M 4122 4306 \nL 4122 3641 \nQ 3803 3938 3442 4084 \nQ 3081 4231 2675 4231 \nQ 1875 4231 1450 3742 \nQ 1025 3253 1025 2328 \nQ 1025 1406 1450 917 \nQ 1875 428 2675 428 \nQ 3081 428 3442 575 \nQ 3803 722 4122 1019 \nL 4122 359 \nQ 3791 134 3420 21 \nQ 3050 -91 2638 -91 \nQ 1578 -91 968 557 \nQ 359 1206 359 2328 \nQ 359 3453 968 4101 \nQ 1578 4750 2638 4750 \nQ 3056 4750 3426 4639 \nQ 3797 4528 4122 4306 \nz\n\" transform=\"scale(0.015625)\"/>\n     <path id=\"DejaVuSans-6f\" d=\"M 1959 3097 \nQ 1497 3097 1228 2736 \nQ 959 2375 959 1747 \nQ 959 1119 1226 758 \nQ 1494 397 1959 397 \nQ 2419 397 2687 759 \nQ 2956 1122 2956 1747 \nQ 2956 2369 2687 2733 \nQ 2419 3097 1959 3097 \nz\nM 1959 3584 \nQ 2709 3584 3137 3096 \nQ 3566 2609 3566 1747 \nQ 3566 888 3137 398 \nQ 2709 -91 1959 -91 \nQ 1206 -91 779 398 \nQ 353 888 353 1747 \nQ 353 2609 779 3096 \nQ 1206 3584 1959 3584 \nz\n\" transform=\"scale(0.015625)\"/>\n     <path id=\"DejaVuSans-6e\" d=\"M 3513 2113 \nL 3513 0 \nL 2938 0 \nL 2938 2094 \nQ 2938 2591 2744 2837 \nQ 2550 3084 2163 3084 \nQ 1697 3084 1428 2787 \nQ 1159 2491 1159 1978 \nL 1159 0 \nL 581 0 \nL 581 3500 \nL 1159 3500 \nL 1159 2956 \nQ 1366 3272 1645 3428 \nQ 1925 3584 2291 3584 \nQ 2894 3584 3203 3211 \nQ 3513 2838 3513 2113 \nz\n\" transform=\"scale(0.015625)\"/>\n     <path id=\"DejaVuSans-76\" d=\"M 191 3500 \nL 800 3500 \nL 1894 563 \nL 2988 3500 \nL 3597 3500 \nL 2284 0 \nL 1503 0 \nL 191 3500 \nz\n\" transform=\"scale(0.015625)\"/>\n     <path id=\"DejaVuSans-6c\" d=\"M 603 4863 \nL 1178 4863 \nL 1178 0 \nL 603 0 \nL 603 4863 \nz\n\" transform=\"scale(0.015625)\"/>\n     <path id=\"DejaVuSans-79\" d=\"M 2059 -325 \nQ 1816 -950 1584 -1140 \nQ 1353 -1331 966 -1331 \nL 506 -1331 \nL 506 -850 \nL 844 -850 \nQ 1081 -850 1212 -737 \nQ 1344 -625 1503 -206 \nL 1606 56 \nL 191 3500 \nL 800 3500 \nL 1894 763 \nL 2988 3500 \nL 3597 3500 \nL 2059 -325 \nz\n\" transform=\"scale(0.015625)\"/>\n     <path id=\"DejaVuSans-32\" d=\"M 1228 531 \nL 3431 531 \nL 3431 0 \nL 469 0 \nL 469 531 \nQ 828 903 1448 1529 \nQ 2069 2156 2228 2338 \nQ 2531 2678 2651 2914 \nQ 2772 3150 2772 3378 \nQ 2772 3750 2511 3984 \nQ 2250 4219 1831 4219 \nQ 1534 4219 1204 4116 \nQ 875 4013 500 3803 \nL 500 4441 \nQ 881 4594 1212 4672 \nQ 1544 4750 1819 4750 \nQ 2544 4750 2975 4387 \nQ 3406 4025 3406 3419 \nQ 3406 3131 3298 2873 \nQ 3191 2616 2906 2266 \nQ 2828 2175 2409 1742 \nQ 1991 1309 1228 531 \nz\n\" transform=\"scale(0.015625)\"/>\n    </defs>\n    <use xlink:href=\"#DejaVuSans-46\"/>\n    <use xlink:href=\"#DejaVuSans-65\" transform=\"translate(52.019531 0)\"/>\n    <use xlink:href=\"#DejaVuSans-61\" transform=\"translate(113.542969 0)\"/>\n    <use xlink:href=\"#DejaVuSans-74\" transform=\"translate(174.822266 0)\"/>\n    <use xlink:href=\"#DejaVuSans-75\" transform=\"translate(214.03125 0)\"/>\n    <use xlink:href=\"#DejaVuSans-72\" transform=\"translate(277.410156 0)\"/>\n    <use xlink:href=\"#DejaVuSans-65\" transform=\"translate(316.273438 0)\"/>\n    <use xlink:href=\"#DejaVuSans-20\" transform=\"translate(377.796875 0)\"/>\n    <use xlink:href=\"#DejaVuSans-6d\" transform=\"translate(409.583984 0)\"/>\n    <use xlink:href=\"#DejaVuSans-61\" transform=\"translate(506.996094 0)\"/>\n    <use xlink:href=\"#DejaVuSans-70\" transform=\"translate(568.275391 0)\"/>\n    <use xlink:href=\"#DejaVuSans-73\" transform=\"translate(631.751953 0)\"/>\n    <use xlink:href=\"#DejaVuSans-20\" transform=\"translate(683.851562 0)\"/>\n    <use xlink:href=\"#DejaVuSans-61\" transform=\"translate(715.638672 0)\"/>\n    <use xlink:href=\"#DejaVuSans-66\" transform=\"translate(776.917969 0)\"/>\n    <use xlink:href=\"#DejaVuSans-74\" transform=\"translate(810.373047 0)\"/>\n    <use xlink:href=\"#DejaVuSans-65\" transform=\"translate(849.582031 0)\"/>\n    <use xlink:href=\"#DejaVuSans-72\" transform=\"translate(911.105469 0)\"/>\n    <use xlink:href=\"#DejaVuSans-20\" transform=\"translate(952.21875 0)\"/>\n    <use xlink:href=\"#DejaVuSans-43\" transform=\"translate(984.005859 0)\"/>\n    <use xlink:href=\"#DejaVuSans-6f\" transform=\"translate(1053.830078 0)\"/>\n    <use xlink:href=\"#DejaVuSans-6e\" transform=\"translate(1115.011719 0)\"/>\n    <use xlink:href=\"#DejaVuSans-76\" transform=\"translate(1178.390625 0)\"/>\n    <use xlink:href=\"#DejaVuSans-20\" transform=\"translate(1237.570312 0)\"/>\n    <use xlink:href=\"#DejaVuSans-6c\" transform=\"translate(1269.357422 0)\"/>\n    <use xlink:href=\"#DejaVuSans-61\" transform=\"translate(1297.140625 0)\"/>\n    <use xlink:href=\"#DejaVuSans-79\" transform=\"translate(1358.419922 0)\"/>\n    <use xlink:href=\"#DejaVuSans-65\" transform=\"translate(1417.599609 0)\"/>\n    <use xlink:href=\"#DejaVuSans-72\" transform=\"translate(1479.123047 0)\"/>\n    <use xlink:href=\"#DejaVuSans-20\" transform=\"translate(1520.236328 0)\"/>\n    <use xlink:href=\"#DejaVuSans-32\" transform=\"translate(1552.023438 0)\"/>\n   </g>\n  </g>\n </g>\n <defs>\n  <clipPath id=\"p4dba5f7159\">\n   <rect x=\"7.2\" y=\"30.050526\" width=\"93.978947\" height=\"93.978947\"/>\n  </clipPath>\n  <clipPath id=\"pa9ffc571cf\">\n   <rect x=\"119.974737\" y=\"30.050526\" width=\"93.978947\" height=\"93.978947\"/>\n  </clipPath>\n  <clipPath id=\"pfa0a4285af\">\n   <rect x=\"232.749474\" y=\"30.050526\" width=\"93.978947\" height=\"93.978947\"/>\n  </clipPath>\n  <clipPath id=\"p33391ece85\">\n   <rect x=\"345.524211\" y=\"30.050526\" width=\"93.978947\" height=\"93.978947\"/>\n  </clipPath>\n  <clipPath id=\"p74d362f5f7\">\n   <rect x=\"458.298947\" y=\"30.050526\" width=\"93.978947\" height=\"93.978947\"/>\n  </clipPath>\n  <clipPath id=\"p78d5eff248\">\n   <rect x=\"571.073684\" y=\"30.050526\" width=\"93.978947\" height=\"93.978947\"/>\n  </clipPath>\n  <clipPath id=\"p46921e00d5\">\n   <rect x=\"683.848421\" y=\"30.050526\" width=\"93.978947\" height=\"93.978947\"/>\n  </clipPath>\n  <clipPath id=\"p45c0703879\">\n   <rect x=\"796.623158\" y=\"30.050526\" width=\"93.978947\" height=\"93.978947\"/>\n  </clipPath>\n  <clipPath id=\"p3708cd09c9\">\n   <rect x=\"909.397895\" y=\"30.050526\" width=\"93.978947\" height=\"93.978947\"/>\n  </clipPath>\n  <clipPath id=\"p736f3bab66\">\n   <rect x=\"1022.172632\" y=\"30.050526\" width=\"93.978947\" height=\"93.978947\"/>\n  </clipPath>\n  <clipPath id=\"p43ba96a5d4\">\n   <rect x=\"1134.947368\" y=\"30.050526\" width=\"93.978947\" height=\"93.978947\"/>\n  </clipPath>\n  <clipPath id=\"p376cc6d374\">\n   <rect x=\"1247.722105\" y=\"30.050526\" width=\"93.978947\" height=\"93.978947\"/>\n  </clipPath>\n  <clipPath id=\"p0050f5b051\">\n   <rect x=\"1360.496842\" y=\"30.050526\" width=\"93.978947\" height=\"93.978947\"/>\n  </clipPath>\n  <clipPath id=\"pa056047b61\">\n   <rect x=\"1473.271579\" y=\"30.050526\" width=\"93.978947\" height=\"93.978947\"/>\n  </clipPath>\n  <clipPath id=\"pb79f32243e\">\n   <rect x=\"1586.046316\" y=\"30.050526\" width=\"93.978947\" height=\"93.978947\"/>\n  </clipPath>\n  <clipPath id=\"p5aa8852c10\">\n   <rect x=\"1698.821053\" y=\"30.050526\" width=\"93.978947\" height=\"93.978947\"/>\n  </clipPath>\n </defs>\n</svg>\n"
          },
          "metadata": {}
        }
      ]
    },
    {
      "cell_type": "markdown",
      "metadata": {
        "id": "b4G2njVfju3L"
      },
      "source": [
        "##Train function\n",
        "\n",
        "The training loop is fairly standard.\n",
        "It uses the Animator class to make a \"real time\" plot of 3 metrics\n",
        "over time.\n",
        "\n"
      ]
    },
    {
      "cell_type": "code",
      "execution_count": 61,
      "metadata": {
        "id": "ZGnNQtfQ8bx9"
      },
      "outputs": [],
      "source": [
        "def train(net, train_iter, test_iter, num_epochs, lr, device):\n",
        "    def init_weights(m):\n",
        "        if type(m) == nn.Linear or type(m) == nn.Conv2d:\n",
        "            nn.init.xavier_uniform_(m.weight) # weights get randomly initialized\n",
        "\n",
        "    net.apply(init_weights)\n",
        "    print(\"training on\", device)\n",
        "    net.to(device)\n",
        "    # Sets up optimizer and loss.\n",
        "    optimizer = torch.optim.SGD(net.parameters(), lr=lr)\n",
        "    loss = nn.CrossEntropyLoss()\n",
        "    animator = Animator(xlabel=\"epoch\", xlim=[1, num_epochs], legend=[\"train loss\", \"train acc\", \"test acc\"])\n",
        "    timer, num_batches = Timer(), len(train_iter)\n",
        "    # Loops over epochs → mini-batches.\n",
        "    for epoch in range(num_epochs):\n",
        "        # Sum of training loss, sum of training accuracy, no. of examples\n",
        "        metric = Accumulator(3)\n",
        "        net.train()\n",
        "        # For each mini-batch: forward, loss, backward, update.\n",
        "        for i, (X, y) in enumerate(train_iter):\n",
        "            timer.start()\n",
        "            optimizer.zero_grad()\n",
        "            X, y = X.to(device), y.to(device)\n",
        "            y_hat = net(X)\n",
        "            l = loss(y_hat, y)\n",
        "            l.backward()\n",
        "            optimizer.step()\n",
        "            with torch.no_grad():\n",
        "                metric.add(l * X.shape[0], accuracy(y_hat, y), X.shape[0])\n",
        "            timer.stop()\n",
        "            train_l = metric[0] / metric[2]\n",
        "            train_acc = metric[1] / metric[2]\n",
        "            if (i + 1) % (num_batches // 5) == 0 or i == num_batches - 1:\n",
        "                animator.add(epoch + (i + 1) / num_batches, (train_l, train_acc, None))\n",
        "        test_acc = evaluate_accuracy_gpu(net, test_iter)\n",
        "        animator.add(epoch + 1, (None, None, test_acc))\n",
        "    print(f\"loss {train_l:.3f}, train acc {train_acc:.3f}, \" f\"test acc {test_acc:.3f}\")\n",
        "    print(f\"{metric[2] * num_epochs / timer.sum():.1f} examples/sec \" f\"on {str(device)}\")"
      ]
    },
    {
      "cell_type": "markdown",
      "metadata": {
        "id": "OUNz7jnC81kL"
      },
      "source": [
        "# Learning curve"
      ]
    },
    {
      "cell_type": "code",
      "execution_count": 62,
      "metadata": {
        "colab": {
          "base_uri": "https://localhost:8080/",
          "height": 301
        },
        "id": "x8kTQTF99eEE",
        "outputId": "19e2a037-1d87-48a7-8063-183fff5f497f"
      },
      "outputs": [
        {
          "output_type": "stream",
          "name": "stdout",
          "text": [
            "loss 0.667, train acc 0.740, test acc 0.743\n",
            "35086.8 examples/sec on cuda:0\n"
          ]
        },
        {
          "output_type": "display_data",
          "data": {
            "text/plain": [
              "<Figure size 350x250 with 1 Axes>"
            ],
            "image/svg+xml": "<?xml version=\"1.0\" encoding=\"utf-8\" standalone=\"no\"?>\n<!DOCTYPE svg PUBLIC \"-//W3C//DTD SVG 1.1//EN\"\n  \"http://www.w3.org/Graphics/SVG/1.1/DTD/svg11.dtd\">\n<svg xmlns:xlink=\"http://www.w3.org/1999/xlink\" width=\"238.965625pt\" height=\"183.35625pt\" viewBox=\"0 0 238.965625 183.35625\" xmlns=\"http://www.w3.org/2000/svg\" version=\"1.1\">\n <metadata>\n  <rdf:RDF xmlns:dc=\"http://purl.org/dc/elements/1.1/\" xmlns:cc=\"http://creativecommons.org/ns#\" xmlns:rdf=\"http://www.w3.org/1999/02/22-rdf-syntax-ns#\">\n   <cc:Work>\n    <dc:type rdf:resource=\"http://purl.org/dc/dcmitype/StillImage\"/>\n    <dc:date>2025-09-12T14:31:38.742384</dc:date>\n    <dc:format>image/svg+xml</dc:format>\n    <dc:creator>\n     <cc:Agent>\n      <dc:title>Matplotlib v3.10.0, https://matplotlib.org/</dc:title>\n     </cc:Agent>\n    </dc:creator>\n   </cc:Work>\n  </rdf:RDF>\n </metadata>\n <defs>\n  <style type=\"text/css\">*{stroke-linejoin: round; stroke-linecap: butt}</style>\n </defs>\n <g id=\"figure_1\">\n  <g id=\"patch_1\">\n   <path d=\"M 0 183.35625 \nL 238.965625 183.35625 \nL 238.965625 0 \nL 0 0 \nz\n\" style=\"fill: #ffffff\"/>\n  </g>\n  <g id=\"axes_1\">\n   <g id=\"patch_2\">\n    <path d=\"M 30.103125 145.8 \nL 225.403125 145.8 \nL 225.403125 7.2 \nL 30.103125 7.2 \nz\n\" style=\"fill: #ffffff\"/>\n   </g>\n   <g id=\"matplotlib.axis_1\">\n    <g id=\"xtick_1\">\n     <g id=\"line2d_1\">\n      <path d=\"M 51.803125 145.8 \nL 51.803125 7.2 \n\" clip-path=\"url(#p10b7c6caac)\" style=\"fill: none; stroke: #b0b0b0; stroke-width: 0.8; stroke-linecap: square\"/>\n     </g>\n     <g id=\"line2d_2\">\n      <defs>\n       <path id=\"mb13a8b1f9d\" d=\"M 0 0 \nL 0 3.5 \n\" style=\"stroke: #000000; stroke-width: 0.8\"/>\n      </defs>\n      <g>\n       <use xlink:href=\"#mb13a8b1f9d\" x=\"51.803125\" y=\"145.8\" style=\"stroke: #000000; stroke-width: 0.8\"/>\n      </g>\n     </g>\n     <g id=\"text_1\">\n      <!-- 2 -->\n      <g transform=\"translate(48.621875 160.398438) scale(0.1 -0.1)\">\n       <defs>\n        <path id=\"DejaVuSans-32\" d=\"M 1228 531 \nL 3431 531 \nL 3431 0 \nL 469 0 \nL 469 531 \nQ 828 903 1448 1529 \nQ 2069 2156 2228 2338 \nQ 2531 2678 2651 2914 \nQ 2772 3150 2772 3378 \nQ 2772 3750 2511 3984 \nQ 2250 4219 1831 4219 \nQ 1534 4219 1204 4116 \nQ 875 4013 500 3803 \nL 500 4441 \nQ 881 4594 1212 4672 \nQ 1544 4750 1819 4750 \nQ 2544 4750 2975 4387 \nQ 3406 4025 3406 3419 \nQ 3406 3131 3298 2873 \nQ 3191 2616 2906 2266 \nQ 2828 2175 2409 1742 \nQ 1991 1309 1228 531 \nz\n\" transform=\"scale(0.015625)\"/>\n       </defs>\n       <use xlink:href=\"#DejaVuSans-32\"/>\n      </g>\n     </g>\n    </g>\n    <g id=\"xtick_2\">\n     <g id=\"line2d_3\">\n      <path d=\"M 95.203125 145.8 \nL 95.203125 7.2 \n\" clip-path=\"url(#p10b7c6caac)\" style=\"fill: none; stroke: #b0b0b0; stroke-width: 0.8; stroke-linecap: square\"/>\n     </g>\n     <g id=\"line2d_4\">\n      <g>\n       <use xlink:href=\"#mb13a8b1f9d\" x=\"95.203125\" y=\"145.8\" style=\"stroke: #000000; stroke-width: 0.8\"/>\n      </g>\n     </g>\n     <g id=\"text_2\">\n      <!-- 4 -->\n      <g transform=\"translate(92.021875 160.398438) scale(0.1 -0.1)\">\n       <defs>\n        <path id=\"DejaVuSans-34\" d=\"M 2419 4116 \nL 825 1625 \nL 2419 1625 \nL 2419 4116 \nz\nM 2253 4666 \nL 3047 4666 \nL 3047 1625 \nL 3713 1625 \nL 3713 1100 \nL 3047 1100 \nL 3047 0 \nL 2419 0 \nL 2419 1100 \nL 313 1100 \nL 313 1709 \nL 2253 4666 \nz\n\" transform=\"scale(0.015625)\"/>\n       </defs>\n       <use xlink:href=\"#DejaVuSans-34\"/>\n      </g>\n     </g>\n    </g>\n    <g id=\"xtick_3\">\n     <g id=\"line2d_5\">\n      <path d=\"M 138.603125 145.8 \nL 138.603125 7.2 \n\" clip-path=\"url(#p10b7c6caac)\" style=\"fill: none; stroke: #b0b0b0; stroke-width: 0.8; stroke-linecap: square\"/>\n     </g>\n     <g id=\"line2d_6\">\n      <g>\n       <use xlink:href=\"#mb13a8b1f9d\" x=\"138.603125\" y=\"145.8\" style=\"stroke: #000000; stroke-width: 0.8\"/>\n      </g>\n     </g>\n     <g id=\"text_3\">\n      <!-- 6 -->\n      <g transform=\"translate(135.421875 160.398438) scale(0.1 -0.1)\">\n       <defs>\n        <path id=\"DejaVuSans-36\" d=\"M 2113 2584 \nQ 1688 2584 1439 2293 \nQ 1191 2003 1191 1497 \nQ 1191 994 1439 701 \nQ 1688 409 2113 409 \nQ 2538 409 2786 701 \nQ 3034 994 3034 1497 \nQ 3034 2003 2786 2293 \nQ 2538 2584 2113 2584 \nz\nM 3366 4563 \nL 3366 3988 \nQ 3128 4100 2886 4159 \nQ 2644 4219 2406 4219 \nQ 1781 4219 1451 3797 \nQ 1122 3375 1075 2522 \nQ 1259 2794 1537 2939 \nQ 1816 3084 2150 3084 \nQ 2853 3084 3261 2657 \nQ 3669 2231 3669 1497 \nQ 3669 778 3244 343 \nQ 2819 -91 2113 -91 \nQ 1303 -91 875 529 \nQ 447 1150 447 2328 \nQ 447 3434 972 4092 \nQ 1497 4750 2381 4750 \nQ 2619 4750 2861 4703 \nQ 3103 4656 3366 4563 \nz\n\" transform=\"scale(0.015625)\"/>\n       </defs>\n       <use xlink:href=\"#DejaVuSans-36\"/>\n      </g>\n     </g>\n    </g>\n    <g id=\"xtick_4\">\n     <g id=\"line2d_7\">\n      <path d=\"M 182.003125 145.8 \nL 182.003125 7.2 \n\" clip-path=\"url(#p10b7c6caac)\" style=\"fill: none; stroke: #b0b0b0; stroke-width: 0.8; stroke-linecap: square\"/>\n     </g>\n     <g id=\"line2d_8\">\n      <g>\n       <use xlink:href=\"#mb13a8b1f9d\" x=\"182.003125\" y=\"145.8\" style=\"stroke: #000000; stroke-width: 0.8\"/>\n      </g>\n     </g>\n     <g id=\"text_4\">\n      <!-- 8 -->\n      <g transform=\"translate(178.821875 160.398438) scale(0.1 -0.1)\">\n       <defs>\n        <path id=\"DejaVuSans-38\" d=\"M 2034 2216 \nQ 1584 2216 1326 1975 \nQ 1069 1734 1069 1313 \nQ 1069 891 1326 650 \nQ 1584 409 2034 409 \nQ 2484 409 2743 651 \nQ 3003 894 3003 1313 \nQ 3003 1734 2745 1975 \nQ 2488 2216 2034 2216 \nz\nM 1403 2484 \nQ 997 2584 770 2862 \nQ 544 3141 544 3541 \nQ 544 4100 942 4425 \nQ 1341 4750 2034 4750 \nQ 2731 4750 3128 4425 \nQ 3525 4100 3525 3541 \nQ 3525 3141 3298 2862 \nQ 3072 2584 2669 2484 \nQ 3125 2378 3379 2068 \nQ 3634 1759 3634 1313 \nQ 3634 634 3220 271 \nQ 2806 -91 2034 -91 \nQ 1263 -91 848 271 \nQ 434 634 434 1313 \nQ 434 1759 690 2068 \nQ 947 2378 1403 2484 \nz\nM 1172 3481 \nQ 1172 3119 1398 2916 \nQ 1625 2713 2034 2713 \nQ 2441 2713 2670 2916 \nQ 2900 3119 2900 3481 \nQ 2900 3844 2670 4047 \nQ 2441 4250 2034 4250 \nQ 1625 4250 1398 4047 \nQ 1172 3844 1172 3481 \nz\n\" transform=\"scale(0.015625)\"/>\n       </defs>\n       <use xlink:href=\"#DejaVuSans-38\"/>\n      </g>\n     </g>\n    </g>\n    <g id=\"xtick_5\">\n     <g id=\"line2d_9\">\n      <path d=\"M 225.403125 145.8 \nL 225.403125 7.2 \n\" clip-path=\"url(#p10b7c6caac)\" style=\"fill: none; stroke: #b0b0b0; stroke-width: 0.8; stroke-linecap: square\"/>\n     </g>\n     <g id=\"line2d_10\">\n      <g>\n       <use xlink:href=\"#mb13a8b1f9d\" x=\"225.403125\" y=\"145.8\" style=\"stroke: #000000; stroke-width: 0.8\"/>\n      </g>\n     </g>\n     <g id=\"text_5\">\n      <!-- 10 -->\n      <g transform=\"translate(219.040625 160.398438) scale(0.1 -0.1)\">\n       <defs>\n        <path id=\"DejaVuSans-31\" d=\"M 794 531 \nL 1825 531 \nL 1825 4091 \nL 703 3866 \nL 703 4441 \nL 1819 4666 \nL 2450 4666 \nL 2450 531 \nL 3481 531 \nL 3481 0 \nL 794 0 \nL 794 531 \nz\n\" transform=\"scale(0.015625)\"/>\n        <path id=\"DejaVuSans-30\" d=\"M 2034 4250 \nQ 1547 4250 1301 3770 \nQ 1056 3291 1056 2328 \nQ 1056 1369 1301 889 \nQ 1547 409 2034 409 \nQ 2525 409 2770 889 \nQ 3016 1369 3016 2328 \nQ 3016 3291 2770 3770 \nQ 2525 4250 2034 4250 \nz\nM 2034 4750 \nQ 2819 4750 3233 4129 \nQ 3647 3509 3647 2328 \nQ 3647 1150 3233 529 \nQ 2819 -91 2034 -91 \nQ 1250 -91 836 529 \nQ 422 1150 422 2328 \nQ 422 3509 836 4129 \nQ 1250 4750 2034 4750 \nz\n\" transform=\"scale(0.015625)\"/>\n       </defs>\n       <use xlink:href=\"#DejaVuSans-31\"/>\n       <use xlink:href=\"#DejaVuSans-30\" transform=\"translate(63.623047 0)\"/>\n      </g>\n     </g>\n    </g>\n    <g id=\"text_6\">\n     <!-- epoch -->\n     <g transform=\"translate(112.525 174.076563) scale(0.1 -0.1)\">\n      <defs>\n       <path id=\"DejaVuSans-65\" d=\"M 3597 1894 \nL 3597 1613 \nL 953 1613 \nQ 991 1019 1311 708 \nQ 1631 397 2203 397 \nQ 2534 397 2845 478 \nQ 3156 559 3463 722 \nL 3463 178 \nQ 3153 47 2828 -22 \nQ 2503 -91 2169 -91 \nQ 1331 -91 842 396 \nQ 353 884 353 1716 \nQ 353 2575 817 3079 \nQ 1281 3584 2069 3584 \nQ 2775 3584 3186 3129 \nQ 3597 2675 3597 1894 \nz\nM 3022 2063 \nQ 3016 2534 2758 2815 \nQ 2500 3097 2075 3097 \nQ 1594 3097 1305 2825 \nQ 1016 2553 972 2059 \nL 3022 2063 \nz\n\" transform=\"scale(0.015625)\"/>\n       <path id=\"DejaVuSans-70\" d=\"M 1159 525 \nL 1159 -1331 \nL 581 -1331 \nL 581 3500 \nL 1159 3500 \nL 1159 2969 \nQ 1341 3281 1617 3432 \nQ 1894 3584 2278 3584 \nQ 2916 3584 3314 3078 \nQ 3713 2572 3713 1747 \nQ 3713 922 3314 415 \nQ 2916 -91 2278 -91 \nQ 1894 -91 1617 61 \nQ 1341 213 1159 525 \nz\nM 3116 1747 \nQ 3116 2381 2855 2742 \nQ 2594 3103 2138 3103 \nQ 1681 3103 1420 2742 \nQ 1159 2381 1159 1747 \nQ 1159 1113 1420 752 \nQ 1681 391 2138 391 \nQ 2594 391 2855 752 \nQ 3116 1113 3116 1747 \nz\n\" transform=\"scale(0.015625)\"/>\n       <path id=\"DejaVuSans-6f\" d=\"M 1959 3097 \nQ 1497 3097 1228 2736 \nQ 959 2375 959 1747 \nQ 959 1119 1226 758 \nQ 1494 397 1959 397 \nQ 2419 397 2687 759 \nQ 2956 1122 2956 1747 \nQ 2956 2369 2687 2733 \nQ 2419 3097 1959 3097 \nz\nM 1959 3584 \nQ 2709 3584 3137 3096 \nQ 3566 2609 3566 1747 \nQ 3566 888 3137 398 \nQ 2709 -91 1959 -91 \nQ 1206 -91 779 398 \nQ 353 888 353 1747 \nQ 353 2609 779 3096 \nQ 1206 3584 1959 3584 \nz\n\" transform=\"scale(0.015625)\"/>\n       <path id=\"DejaVuSans-63\" d=\"M 3122 3366 \nL 3122 2828 \nQ 2878 2963 2633 3030 \nQ 2388 3097 2138 3097 \nQ 1578 3097 1268 2742 \nQ 959 2388 959 1747 \nQ 959 1106 1268 751 \nQ 1578 397 2138 397 \nQ 2388 397 2633 464 \nQ 2878 531 3122 666 \nL 3122 134 \nQ 2881 22 2623 -34 \nQ 2366 -91 2075 -91 \nQ 1284 -91 818 406 \nQ 353 903 353 1747 \nQ 353 2603 823 3093 \nQ 1294 3584 2113 3584 \nQ 2378 3584 2631 3529 \nQ 2884 3475 3122 3366 \nz\n\" transform=\"scale(0.015625)\"/>\n       <path id=\"DejaVuSans-68\" d=\"M 3513 2113 \nL 3513 0 \nL 2938 0 \nL 2938 2094 \nQ 2938 2591 2744 2837 \nQ 2550 3084 2163 3084 \nQ 1697 3084 1428 2787 \nQ 1159 2491 1159 1978 \nL 1159 0 \nL 581 0 \nL 581 4863 \nL 1159 4863 \nL 1159 2956 \nQ 1366 3272 1645 3428 \nQ 1925 3584 2291 3584 \nQ 2894 3584 3203 3211 \nQ 3513 2838 3513 2113 \nz\n\" transform=\"scale(0.015625)\"/>\n      </defs>\n      <use xlink:href=\"#DejaVuSans-65\"/>\n      <use xlink:href=\"#DejaVuSans-70\" transform=\"translate(61.523438 0)\"/>\n      <use xlink:href=\"#DejaVuSans-6f\" transform=\"translate(125 0)\"/>\n      <use xlink:href=\"#DejaVuSans-63\" transform=\"translate(186.181641 0)\"/>\n      <use xlink:href=\"#DejaVuSans-68\" transform=\"translate(241.162109 0)\"/>\n     </g>\n    </g>\n   </g>\n   <g id=\"matplotlib.axis_2\">\n    <g id=\"ytick_1\">\n     <g id=\"line2d_11\">\n      <path d=\"M 30.103125 144.836086 \nL 225.403125 144.836086 \n\" clip-path=\"url(#p10b7c6caac)\" style=\"fill: none; stroke: #b0b0b0; stroke-width: 0.8; stroke-linecap: square\"/>\n     </g>\n     <g id=\"line2d_12\">\n      <defs>\n       <path id=\"mf0120d9eb6\" d=\"M 0 0 \nL -3.5 0 \n\" style=\"stroke: #000000; stroke-width: 0.8\"/>\n      </defs>\n      <g>\n       <use xlink:href=\"#mf0120d9eb6\" x=\"30.103125\" y=\"144.836086\" style=\"stroke: #000000; stroke-width: 0.8\"/>\n      </g>\n     </g>\n     <g id=\"text_7\">\n      <!-- 0.0 -->\n      <g transform=\"translate(7.2 148.635305) scale(0.1 -0.1)\">\n       <defs>\n        <path id=\"DejaVuSans-2e\" d=\"M 684 794 \nL 1344 794 \nL 1344 0 \nL 684 0 \nL 684 794 \nz\n\" transform=\"scale(0.015625)\"/>\n       </defs>\n       <use xlink:href=\"#DejaVuSans-30\"/>\n       <use xlink:href=\"#DejaVuSans-2e\" transform=\"translate(63.623047 0)\"/>\n       <use xlink:href=\"#DejaVuSans-30\" transform=\"translate(95.410156 0)\"/>\n      </g>\n     </g>\n    </g>\n    <g id=\"ytick_2\">\n     <g id=\"line2d_13\">\n      <path d=\"M 30.103125 116.811734 \nL 225.403125 116.811734 \n\" clip-path=\"url(#p10b7c6caac)\" style=\"fill: none; stroke: #b0b0b0; stroke-width: 0.8; stroke-linecap: square\"/>\n     </g>\n     <g id=\"line2d_14\">\n      <g>\n       <use xlink:href=\"#mf0120d9eb6\" x=\"30.103125\" y=\"116.811734\" style=\"stroke: #000000; stroke-width: 0.8\"/>\n      </g>\n     </g>\n     <g id=\"text_8\">\n      <!-- 0.5 -->\n      <g transform=\"translate(7.2 120.610952) scale(0.1 -0.1)\">\n       <defs>\n        <path id=\"DejaVuSans-35\" d=\"M 691 4666 \nL 3169 4666 \nL 3169 4134 \nL 1269 4134 \nL 1269 2991 \nQ 1406 3038 1543 3061 \nQ 1681 3084 1819 3084 \nQ 2600 3084 3056 2656 \nQ 3513 2228 3513 1497 \nQ 3513 744 3044 326 \nQ 2575 -91 1722 -91 \nQ 1428 -91 1123 -41 \nQ 819 9 494 109 \nL 494 744 \nQ 775 591 1075 516 \nQ 1375 441 1709 441 \nQ 2250 441 2565 725 \nQ 2881 1009 2881 1497 \nQ 2881 1984 2565 2268 \nQ 2250 2553 1709 2553 \nQ 1456 2553 1204 2497 \nQ 953 2441 691 2322 \nL 691 4666 \nz\n\" transform=\"scale(0.015625)\"/>\n       </defs>\n       <use xlink:href=\"#DejaVuSans-30\"/>\n       <use xlink:href=\"#DejaVuSans-2e\" transform=\"translate(63.623047 0)\"/>\n       <use xlink:href=\"#DejaVuSans-35\" transform=\"translate(95.410156 0)\"/>\n      </g>\n     </g>\n    </g>\n    <g id=\"ytick_3\">\n     <g id=\"line2d_15\">\n      <path d=\"M 30.103125 88.787381 \nL 225.403125 88.787381 \n\" clip-path=\"url(#p10b7c6caac)\" style=\"fill: none; stroke: #b0b0b0; stroke-width: 0.8; stroke-linecap: square\"/>\n     </g>\n     <g id=\"line2d_16\">\n      <g>\n       <use xlink:href=\"#mf0120d9eb6\" x=\"30.103125\" y=\"88.787381\" style=\"stroke: #000000; stroke-width: 0.8\"/>\n      </g>\n     </g>\n     <g id=\"text_9\">\n      <!-- 1.0 -->\n      <g transform=\"translate(7.2 92.586599) scale(0.1 -0.1)\">\n       <use xlink:href=\"#DejaVuSans-31\"/>\n       <use xlink:href=\"#DejaVuSans-2e\" transform=\"translate(63.623047 0)\"/>\n       <use xlink:href=\"#DejaVuSans-30\" transform=\"translate(95.410156 0)\"/>\n      </g>\n     </g>\n    </g>\n    <g id=\"ytick_4\">\n     <g id=\"line2d_17\">\n      <path d=\"M 30.103125 60.763028 \nL 225.403125 60.763028 \n\" clip-path=\"url(#p10b7c6caac)\" style=\"fill: none; stroke: #b0b0b0; stroke-width: 0.8; stroke-linecap: square\"/>\n     </g>\n     <g id=\"line2d_18\">\n      <g>\n       <use xlink:href=\"#mf0120d9eb6\" x=\"30.103125\" y=\"60.763028\" style=\"stroke: #000000; stroke-width: 0.8\"/>\n      </g>\n     </g>\n     <g id=\"text_10\">\n      <!-- 1.5 -->\n      <g transform=\"translate(7.2 64.562246) scale(0.1 -0.1)\">\n       <use xlink:href=\"#DejaVuSans-31\"/>\n       <use xlink:href=\"#DejaVuSans-2e\" transform=\"translate(63.623047 0)\"/>\n       <use xlink:href=\"#DejaVuSans-35\" transform=\"translate(95.410156 0)\"/>\n      </g>\n     </g>\n    </g>\n    <g id=\"ytick_5\">\n     <g id=\"line2d_19\">\n      <path d=\"M 30.103125 32.738675 \nL 225.403125 32.738675 \n\" clip-path=\"url(#p10b7c6caac)\" style=\"fill: none; stroke: #b0b0b0; stroke-width: 0.8; stroke-linecap: square\"/>\n     </g>\n     <g id=\"line2d_20\">\n      <g>\n       <use xlink:href=\"#mf0120d9eb6\" x=\"30.103125\" y=\"32.738675\" style=\"stroke: #000000; stroke-width: 0.8\"/>\n      </g>\n     </g>\n     <g id=\"text_11\">\n      <!-- 2.0 -->\n      <g transform=\"translate(7.2 36.537894) scale(0.1 -0.1)\">\n       <use xlink:href=\"#DejaVuSans-32\"/>\n       <use xlink:href=\"#DejaVuSans-2e\" transform=\"translate(63.623047 0)\"/>\n       <use xlink:href=\"#DejaVuSans-30\" transform=\"translate(95.410156 0)\"/>\n      </g>\n     </g>\n    </g>\n   </g>\n   <g id=\"line2d_21\">\n    <path d=\"M 12.743125 13.5 \nL 17.083125 14.451486 \nL 21.423125 14.824539 \nL 25.763125 15.010843 \nL 30.103125 15.135389 \nL 34.443125 15.636422 \nL 38.783125 15.626346 \nL 43.123125 15.640193 \nL 47.463125 15.643896 \nL 51.803125 15.647049 \nL 56.143125 15.697749 \nL 60.483125 15.687717 \nL 64.823125 15.686314 \nL 69.163125 15.683269 \nL 73.503125 15.683366 \nL 77.843125 15.696484 \nL 82.183125 15.681254 \nL 86.523125 15.689213 \nL 90.863125 15.691204 \nL 95.203125 15.691311 \nL 99.543125 15.706001 \nL 103.883125 15.707463 \nL 108.223125 15.71487 \nL 112.563125 15.717709 \nL 116.903125 15.735612 \nL 121.243125 15.885189 \nL 125.583125 16.671359 \nL 129.923125 22.64667 \nL 134.263125 32.783685 \nL 138.603125 41.334415 \nL 142.943125 81.495516 \nL 147.283125 82.87802 \nL 151.623125 82.8105 \nL 155.963125 84.878455 \nL 160.303125 86.367781 \nL 164.643125 94.475325 \nL 168.983125 94.422822 \nL 173.323125 95.325335 \nL 177.663125 95.848845 \nL 182.003125 96.540328 \nL 186.343125 101.252481 \nL 190.683125 101.802793 \nL 195.023125 102.256655 \nL 199.363125 102.358881 \nL 203.703125 102.721618 \nL 208.043125 105.308359 \nL 212.383125 106.35724 \nL 216.723125 106.796333 \nL 221.063125 107.096451 \nL 225.403125 107.44218 \n\" clip-path=\"url(#p10b7c6caac)\" style=\"fill: none; stroke: #1f77b4; stroke-width: 1.5; stroke-linecap: square\"/>\n   </g>\n   <g id=\"line2d_22\">\n    <path d=\"M 12.743125 139.185565 \nL 17.083125 139.341618 \nL 21.423125 139.196434 \nL 25.763125 139.2403 \nL 30.103125 139.262043 \nL 34.443125 139.022524 \nL 38.783125 139.159944 \nL 43.123125 139.190223 \nL 47.463125 139.173919 \nL 51.803125 139.171431 \nL 56.143125 138.961966 \nL 60.483125 138.989916 \nL 64.823125 139.075318 \nL 69.163125 139.144804 \nL 73.503125 139.209731 \nL 77.843125 139.264756 \nL 82.183125 139.269414 \nL 86.523125 139.215067 \nL 90.863125 139.186729 \nL 95.203125 139.251767 \nL 99.543125 139.437113 \nL 103.883125 139.5 \nL 108.223125 139.295811 \nL 112.563125 139.182071 \nL 116.903125 139.07428 \nL 121.243125 139.152956 \nL 125.583125 137.944127 \nL 129.923125 135.668545 \nL 134.263125 132.482266 \nL 138.603125 129.652492 \nL 142.943125 115.465484 \nL 147.283125 115.074186 \nL 151.623125 114.768291 \nL 155.963125 113.93989 \nL 160.303125 113.291875 \nL 164.643125 109.38174 \nL 168.983125 109.402702 \nL 173.323125 108.920568 \nL 177.663125 108.641069 \nL 182.003125 108.280186 \nL 186.343125 105.971862 \nL 190.683125 105.615501 \nL 195.023125 105.39889 \nL 199.363125 105.447803 \nL 203.703125 105.328288 \nL 208.043125 104.532446 \nL 212.383125 103.943171 \nL 216.723125 103.693951 \nL 221.063125 103.5181 \nL 225.403125 103.374056 \n\" clip-path=\"url(#p10b7c6caac)\" style=\"fill: none; stroke-dasharray: 5.55,2.4; stroke-dashoffset: 0; stroke: #bf00bf; stroke-width: 1.5\"/>\n   </g>\n   <g id=\"line2d_23\">\n    <path d=\"M 30.103125 139.231216 \nL 51.803125 139.231216 \nL 73.503125 139.231216 \nL 95.203125 139.231216 \nL 116.903125 139.231216 \nL 138.603125 118.196137 \nL 160.303125 112.378281 \nL 182.003125 109.329231 \nL 203.703125 103.970975 \nL 225.403125 103.169479 \n\" clip-path=\"url(#p10b7c6caac)\" style=\"fill: none; stroke-dasharray: 9.6,2.4,1.5,2.4; stroke-dashoffset: 0; stroke: #008000; stroke-width: 1.5\"/>\n   </g>\n   <g id=\"patch_3\">\n    <path d=\"M 30.103125 145.8 \nL 30.103125 7.2 \n\" style=\"fill: none; stroke: #000000; stroke-width: 0.8; stroke-linejoin: miter; stroke-linecap: square\"/>\n   </g>\n   <g id=\"patch_4\">\n    <path d=\"M 225.403125 145.8 \nL 225.403125 7.2 \n\" style=\"fill: none; stroke: #000000; stroke-width: 0.8; stroke-linejoin: miter; stroke-linecap: square\"/>\n   </g>\n   <g id=\"patch_5\">\n    <path d=\"M 30.103125 145.8 \nL 225.403125 145.8 \n\" style=\"fill: none; stroke: #000000; stroke-width: 0.8; stroke-linejoin: miter; stroke-linecap: square\"/>\n   </g>\n   <g id=\"patch_6\">\n    <path d=\"M 30.103125 7.2 \nL 225.403125 7.2 \n\" style=\"fill: none; stroke: #000000; stroke-width: 0.8; stroke-linejoin: miter; stroke-linecap: square\"/>\n   </g>\n   <g id=\"legend_1\">\n    <g id=\"patch_7\">\n     <path d=\"M 37.103125 100.017188 \nL 114.871875 100.017188 \nQ 116.871875 100.017188 116.871875 98.017188 \nL 116.871875 54.982812 \nQ 116.871875 52.982812 114.871875 52.982812 \nL 37.103125 52.982812 \nQ 35.103125 52.982812 35.103125 54.982812 \nL 35.103125 98.017188 \nQ 35.103125 100.017188 37.103125 100.017188 \nz\n\" style=\"fill: #ffffff; opacity: 0.8; stroke: #cccccc; stroke-linejoin: miter\"/>\n    </g>\n    <g id=\"line2d_24\">\n     <path d=\"M 39.103125 61.08125 \nL 49.103125 61.08125 \nL 59.103125 61.08125 \n\" style=\"fill: none; stroke: #1f77b4; stroke-width: 1.5; stroke-linecap: square\"/>\n    </g>\n    <g id=\"text_12\">\n     <!-- train loss -->\n     <g transform=\"translate(67.103125 64.58125) scale(0.1 -0.1)\">\n      <defs>\n       <path id=\"DejaVuSans-74\" d=\"M 1172 4494 \nL 1172 3500 \nL 2356 3500 \nL 2356 3053 \nL 1172 3053 \nL 1172 1153 \nQ 1172 725 1289 603 \nQ 1406 481 1766 481 \nL 2356 481 \nL 2356 0 \nL 1766 0 \nQ 1100 0 847 248 \nQ 594 497 594 1153 \nL 594 3053 \nL 172 3053 \nL 172 3500 \nL 594 3500 \nL 594 4494 \nL 1172 4494 \nz\n\" transform=\"scale(0.015625)\"/>\n       <path id=\"DejaVuSans-72\" d=\"M 2631 2963 \nQ 2534 3019 2420 3045 \nQ 2306 3072 2169 3072 \nQ 1681 3072 1420 2755 \nQ 1159 2438 1159 1844 \nL 1159 0 \nL 581 0 \nL 581 3500 \nL 1159 3500 \nL 1159 2956 \nQ 1341 3275 1631 3429 \nQ 1922 3584 2338 3584 \nQ 2397 3584 2469 3576 \nQ 2541 3569 2628 3553 \nL 2631 2963 \nz\n\" transform=\"scale(0.015625)\"/>\n       <path id=\"DejaVuSans-61\" d=\"M 2194 1759 \nQ 1497 1759 1228 1600 \nQ 959 1441 959 1056 \nQ 959 750 1161 570 \nQ 1363 391 1709 391 \nQ 2188 391 2477 730 \nQ 2766 1069 2766 1631 \nL 2766 1759 \nL 2194 1759 \nz\nM 3341 1997 \nL 3341 0 \nL 2766 0 \nL 2766 531 \nQ 2569 213 2275 61 \nQ 1981 -91 1556 -91 \nQ 1019 -91 701 211 \nQ 384 513 384 1019 \nQ 384 1609 779 1909 \nQ 1175 2209 1959 2209 \nL 2766 2209 \nL 2766 2266 \nQ 2766 2663 2505 2880 \nQ 2244 3097 1772 3097 \nQ 1472 3097 1187 3025 \nQ 903 2953 641 2809 \nL 641 3341 \nQ 956 3463 1253 3523 \nQ 1550 3584 1831 3584 \nQ 2591 3584 2966 3190 \nQ 3341 2797 3341 1997 \nz\n\" transform=\"scale(0.015625)\"/>\n       <path id=\"DejaVuSans-69\" d=\"M 603 3500 \nL 1178 3500 \nL 1178 0 \nL 603 0 \nL 603 3500 \nz\nM 603 4863 \nL 1178 4863 \nL 1178 4134 \nL 603 4134 \nL 603 4863 \nz\n\" transform=\"scale(0.015625)\"/>\n       <path id=\"DejaVuSans-6e\" d=\"M 3513 2113 \nL 3513 0 \nL 2938 0 \nL 2938 2094 \nQ 2938 2591 2744 2837 \nQ 2550 3084 2163 3084 \nQ 1697 3084 1428 2787 \nQ 1159 2491 1159 1978 \nL 1159 0 \nL 581 0 \nL 581 3500 \nL 1159 3500 \nL 1159 2956 \nQ 1366 3272 1645 3428 \nQ 1925 3584 2291 3584 \nQ 2894 3584 3203 3211 \nQ 3513 2838 3513 2113 \nz\n\" transform=\"scale(0.015625)\"/>\n       <path id=\"DejaVuSans-20\" transform=\"scale(0.015625)\"/>\n       <path id=\"DejaVuSans-6c\" d=\"M 603 4863 \nL 1178 4863 \nL 1178 0 \nL 603 0 \nL 603 4863 \nz\n\" transform=\"scale(0.015625)\"/>\n       <path id=\"DejaVuSans-73\" d=\"M 2834 3397 \nL 2834 2853 \nQ 2591 2978 2328 3040 \nQ 2066 3103 1784 3103 \nQ 1356 3103 1142 2972 \nQ 928 2841 928 2578 \nQ 928 2378 1081 2264 \nQ 1234 2150 1697 2047 \nL 1894 2003 \nQ 2506 1872 2764 1633 \nQ 3022 1394 3022 966 \nQ 3022 478 2636 193 \nQ 2250 -91 1575 -91 \nQ 1294 -91 989 -36 \nQ 684 19 347 128 \nL 347 722 \nQ 666 556 975 473 \nQ 1284 391 1588 391 \nQ 1994 391 2212 530 \nQ 2431 669 2431 922 \nQ 2431 1156 2273 1281 \nQ 2116 1406 1581 1522 \nL 1381 1569 \nQ 847 1681 609 1914 \nQ 372 2147 372 2553 \nQ 372 3047 722 3315 \nQ 1072 3584 1716 3584 \nQ 2034 3584 2315 3537 \nQ 2597 3491 2834 3397 \nz\n\" transform=\"scale(0.015625)\"/>\n      </defs>\n      <use xlink:href=\"#DejaVuSans-74\"/>\n      <use xlink:href=\"#DejaVuSans-72\" transform=\"translate(39.208984 0)\"/>\n      <use xlink:href=\"#DejaVuSans-61\" transform=\"translate(80.322266 0)\"/>\n      <use xlink:href=\"#DejaVuSans-69\" transform=\"translate(141.601562 0)\"/>\n      <use xlink:href=\"#DejaVuSans-6e\" transform=\"translate(169.384766 0)\"/>\n      <use xlink:href=\"#DejaVuSans-20\" transform=\"translate(232.763672 0)\"/>\n      <use xlink:href=\"#DejaVuSans-6c\" transform=\"translate(264.550781 0)\"/>\n      <use xlink:href=\"#DejaVuSans-6f\" transform=\"translate(292.333984 0)\"/>\n      <use xlink:href=\"#DejaVuSans-73\" transform=\"translate(353.515625 0)\"/>\n      <use xlink:href=\"#DejaVuSans-73\" transform=\"translate(405.615234 0)\"/>\n     </g>\n    </g>\n    <g id=\"line2d_25\">\n     <path d=\"M 39.103125 75.759375 \nL 49.103125 75.759375 \nL 59.103125 75.759375 \n\" style=\"fill: none; stroke-dasharray: 5.55,2.4; stroke-dashoffset: 0; stroke: #bf00bf; stroke-width: 1.5\"/>\n    </g>\n    <g id=\"text_13\">\n     <!-- train acc -->\n     <g transform=\"translate(67.103125 79.259375) scale(0.1 -0.1)\">\n      <use xlink:href=\"#DejaVuSans-74\"/>\n      <use xlink:href=\"#DejaVuSans-72\" transform=\"translate(39.208984 0)\"/>\n      <use xlink:href=\"#DejaVuSans-61\" transform=\"translate(80.322266 0)\"/>\n      <use xlink:href=\"#DejaVuSans-69\" transform=\"translate(141.601562 0)\"/>\n      <use xlink:href=\"#DejaVuSans-6e\" transform=\"translate(169.384766 0)\"/>\n      <use xlink:href=\"#DejaVuSans-20\" transform=\"translate(232.763672 0)\"/>\n      <use xlink:href=\"#DejaVuSans-61\" transform=\"translate(264.550781 0)\"/>\n      <use xlink:href=\"#DejaVuSans-63\" transform=\"translate(325.830078 0)\"/>\n      <use xlink:href=\"#DejaVuSans-63\" transform=\"translate(380.810547 0)\"/>\n     </g>\n    </g>\n    <g id=\"line2d_26\">\n     <path d=\"M 39.103125 90.4375 \nL 49.103125 90.4375 \nL 59.103125 90.4375 \n\" style=\"fill: none; stroke-dasharray: 9.6,2.4,1.5,2.4; stroke-dashoffset: 0; stroke: #008000; stroke-width: 1.5\"/>\n    </g>\n    <g id=\"text_14\">\n     <!-- test acc -->\n     <g transform=\"translate(67.103125 93.9375) scale(0.1 -0.1)\">\n      <use xlink:href=\"#DejaVuSans-74\"/>\n      <use xlink:href=\"#DejaVuSans-65\" transform=\"translate(39.208984 0)\"/>\n      <use xlink:href=\"#DejaVuSans-73\" transform=\"translate(100.732422 0)\"/>\n      <use xlink:href=\"#DejaVuSans-74\" transform=\"translate(152.832031 0)\"/>\n      <use xlink:href=\"#DejaVuSans-20\" transform=\"translate(192.041016 0)\"/>\n      <use xlink:href=\"#DejaVuSans-61\" transform=\"translate(223.828125 0)\"/>\n      <use xlink:href=\"#DejaVuSans-63\" transform=\"translate(285.107422 0)\"/>\n      <use xlink:href=\"#DejaVuSans-63\" transform=\"translate(340.087891 0)\"/>\n     </g>\n    </g>\n   </g>\n  </g>\n </g>\n <defs>\n  <clipPath id=\"p10b7c6caac\">\n   <rect x=\"30.103125\" y=\"7.2\" width=\"195.3\" height=\"138.6\"/>\n  </clipPath>\n </defs>\n</svg>\n"
          },
          "metadata": {}
        }
      ],
      "source": [
        "lr, num_epochs = 1.5 , 10\n",
        "train(net, train_iter, test_iter, num_epochs, lr, try_gpu())"
      ]
    }
  ],
  "metadata": {
    "accelerator": "GPU",
    "colab": {
      "name": "lenet-torch.ipynb",
      "provenance": [],
      "toc_visible": true,
      "include_colab_link": true
    },
    "kernelspec": {
      "display_name": "Python 3",
      "name": "python3"
    },
    "language_info": {
      "name": "python"
    }
  },
  "nbformat": 4,
  "nbformat_minor": 0
}